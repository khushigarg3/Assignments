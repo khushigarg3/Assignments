{
 "cells": [
  {
   "cell_type": "code",
   "execution_count": 1,
   "id": "7e076e0f",
   "metadata": {},
   "outputs": [],
   "source": [
    "# Q1"
   ]
  },
  {
   "cell_type": "code",
   "execution_count": 2,
   "id": "ba5a8e4a",
   "metadata": {},
   "outputs": [],
   "source": [
    "def list_operation(x,y,n) :\n",
    "    l = []\n",
    "    for i in range(x,y) :\n",
    "        if i % n == 0 :\n",
    "            l.append(i)\n",
    "    print(l)  \n",
    "    "
   ]
  },
  {
   "cell_type": "code",
   "execution_count": 3,
   "id": "931c6ad9",
   "metadata": {},
   "outputs": [
    {
     "name": "stdout",
     "output_type": "stream",
     "text": [
      "[3, 6, 9]\n"
     ]
    }
   ],
   "source": [
    "list_operation(1,10,3)"
   ]
  },
  {
   "cell_type": "code",
   "execution_count": 4,
   "id": "fd540208",
   "metadata": {},
   "outputs": [
    {
     "name": "stdout",
     "output_type": "stream",
     "text": [
      "[8]\n"
     ]
    }
   ],
   "source": [
    "list_operation(7,9,2)"
   ]
  },
  {
   "cell_type": "code",
   "execution_count": 5,
   "id": "ad5edb6b",
   "metadata": {},
   "outputs": [
    {
     "name": "stdout",
     "output_type": "stream",
     "text": [
      "[]\n"
     ]
    }
   ],
   "source": [
    "list_operation(15,20,7)"
   ]
  },
  {
   "cell_type": "code",
   "execution_count": 16,
   "id": "0488de1e",
   "metadata": {},
   "outputs": [],
   "source": [
    "# Q3"
   ]
  },
  {
   "cell_type": "code",
   "execution_count": 19,
   "id": "d406e215",
   "metadata": {},
   "outputs": [],
   "source": [
    "def society_name() :\n",
    "    s = input(\"Enter names separated by commas :\")\n",
    "    l = s.split(\",\")\n",
    "    s1 = str()\n",
    "    l.sort()\n",
    "    for i in l :\n",
    "        s1 = s1 + i[0]\n",
    "    print(s1)\n",
    "    "
   ]
  },
  {
   "cell_type": "code",
   "execution_count": 20,
   "id": "d721d023",
   "metadata": {},
   "outputs": [
    {
     "name": "stdout",
     "output_type": "stream",
     "text": [
      "Enter names separated by commas :Adam,Sarah,Melcalm\n",
      "AMS\n"
     ]
    }
   ],
   "source": [
    "society_name()"
   ]
  },
  {
   "cell_type": "code",
   "execution_count": 21,
   "id": "4310313f",
   "metadata": {},
   "outputs": [
    {
     "name": "stdout",
     "output_type": "stream",
     "text": [
      "Enter names separated by commas :Harry,Newt,Luna,Cho\n",
      "CHLN\n"
     ]
    }
   ],
   "source": [
    "society_name()"
   ]
  },
  {
   "cell_type": "code",
   "execution_count": 22,
   "id": "89aaed6e",
   "metadata": {},
   "outputs": [
    {
     "name": "stdout",
     "output_type": "stream",
     "text": [
      "Enter names separated by commas :Phoebe,Chandler,Rachel,Ross,Monica,Joey\n",
      "CJMPRR\n"
     ]
    }
   ],
   "source": [
    "society_name()"
   ]
  },
  {
   "cell_type": "code",
   "execution_count": 34,
   "id": "e331df6c",
   "metadata": {},
   "outputs": [],
   "source": [
    "# Q4"
   ]
  },
  {
   "cell_type": "code",
   "execution_count": 36,
   "id": "da6dcf2d",
   "metadata": {},
   "outputs": [
    {
     "name": "stdout",
     "output_type": "stream",
     "text": [
      "True\n",
      "False\n",
      "False\n"
     ]
    }
   ],
   "source": [
    "def is_isogram(word):\n",
    "    clean_word = word.lower()\n",
    "    letter_list = []\n",
    "    for letter in clean_word:\n",
    "        if letter.isalpha():\n",
    "            if letter in letter_list:\n",
    "                return False\n",
    "            letter_list.append(letter)\n",
    "    return True\n",
    "\n",
    "if __name__ == '__main__':\n",
    "    print(is_isogram(\"Algorism\"))\n",
    "    print(is_isogram(\"PasSword\"))\n",
    "    print(is_isogram(\"Consecutive\"))\n"
   ]
  },
  {
   "cell_type": "code",
   "execution_count": 37,
   "id": "a807ac72",
   "metadata": {},
   "outputs": [],
   "source": [
    "# Q5"
   ]
  },
  {
   "cell_type": "code",
   "execution_count": 42,
   "id": "fb8f0261",
   "metadata": {},
   "outputs": [
    {
     "name": "stdout",
     "output_type": "stream",
     "text": [
      "False\n"
     ]
    }
   ],
   "source": [
    "def isAlphabaticOrder(s):\n",
    "    n = len(s)\n",
    "    c = [s[i] for i in range(len(s))]\n",
    "    c.sort(reverse = False)\n",
    "    for i in range(n):\n",
    "        if (c[i] != s[i]):\n",
    "            return False\n",
    "    return True\n",
    "\n",
    "if __name__ == '__main__':\n",
    "    s = \"edabit\"\n",
    "    if (isAlphabaticOrder(s)):\n",
    "        print(\"True\")\n",
    "    else:\n",
    "        print(\"False\")"
   ]
  },
  {
   "cell_type": "code",
   "execution_count": 43,
   "id": "41d9ece4",
   "metadata": {},
   "outputs": [
    {
     "data": {
      "text/plain": [
       "True"
      ]
     },
     "execution_count": 43,
     "metadata": {},
     "output_type": "execute_result"
    }
   ],
   "source": [
    "isAlphabaticOrder(\"abc\")"
   ]
  },
  {
   "cell_type": "code",
   "execution_count": 44,
   "id": "8d0c889e",
   "metadata": {},
   "outputs": [
    {
     "data": {
      "text/plain": [
       "True"
      ]
     },
     "execution_count": 44,
     "metadata": {},
     "output_type": "execute_result"
    }
   ],
   "source": [
    "isAlphabaticOrder(\"123\")"
   ]
  },
  {
   "cell_type": "code",
   "execution_count": 45,
   "id": "2cdcc6ed",
   "metadata": {},
   "outputs": [
    {
     "data": {
      "text/plain": [
       "True"
      ]
     },
     "execution_count": 45,
     "metadata": {},
     "output_type": "execute_result"
    }
   ],
   "source": [
    "isAlphabaticOrder(\"xyzz\")"
   ]
  },
  {
   "cell_type": "code",
   "execution_count": null,
   "id": "28846193",
   "metadata": {},
   "outputs": [],
   "source": []
  }
 ],
 "metadata": {
  "kernelspec": {
   "display_name": "Python 3 (ipykernel)",
   "language": "python",
   "name": "python3"
  },
  "language_info": {
   "codemirror_mode": {
    "name": "ipython",
    "version": 3
   },
   "file_extension": ".py",
   "mimetype": "text/x-python",
   "name": "python",
   "nbconvert_exporter": "python",
   "pygments_lexer": "ipython3",
   "version": "3.9.12"
  }
 },
 "nbformat": 4,
 "nbformat_minor": 5
}
