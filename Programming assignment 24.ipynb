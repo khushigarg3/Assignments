{
 "cells": [
  {
   "cell_type": "code",
   "execution_count": 1,
   "id": "d5c6eb04",
   "metadata": {},
   "outputs": [],
   "source": [
    "# Q1"
   ]
  },
  {
   "cell_type": "code",
   "execution_count": 4,
   "id": "6fdd07a2",
   "metadata": {},
   "outputs": [],
   "source": [
    "def amplify() :\n",
    "    n = int(input(\"Enter a positive no. greater than or equal to 1 :\"))\n",
    "    l = []\n",
    "    for i in range(1,n+1) :\n",
    "        if i % 4 == 0 :\n",
    "            i = i*10\n",
    "            l.append(i)\n",
    "        else :\n",
    "            l.append(i)\n",
    "    print(l)"
   ]
  },
  {
   "cell_type": "code",
   "execution_count": 5,
   "id": "6a540c3a",
   "metadata": {},
   "outputs": [
    {
     "name": "stdout",
     "output_type": "stream",
     "text": [
      "Enter a positive no. greater than or equal to 1 :4\n",
      "[1, 2, 3, 40]\n"
     ]
    }
   ],
   "source": [
    "amplify()"
   ]
  },
  {
   "cell_type": "code",
   "execution_count": 6,
   "id": "dbaab89d",
   "metadata": {},
   "outputs": [
    {
     "name": "stdout",
     "output_type": "stream",
     "text": [
      "Enter a positive no. greater than or equal to 1 :3\n",
      "[1, 2, 3]\n"
     ]
    }
   ],
   "source": [
    "amplify()"
   ]
  },
  {
   "cell_type": "code",
   "execution_count": 7,
   "id": "bf0b49bb",
   "metadata": {},
   "outputs": [
    {
     "name": "stdout",
     "output_type": "stream",
     "text": [
      "Enter a positive no. greater than or equal to 1 :25\n",
      "[1, 2, 3, 40, 5, 6, 7, 80, 9, 10, 11, 120, 13, 14, 15, 160, 17, 18, 19, 200, 21, 22, 23, 240, 25]\n"
     ]
    }
   ],
   "source": [
    "amplify()"
   ]
  },
  {
   "cell_type": "code",
   "execution_count": 8,
   "id": "79a629ef",
   "metadata": {},
   "outputs": [],
   "source": [
    "# Q2"
   ]
  },
  {
   "cell_type": "code",
   "execution_count": 12,
   "id": "34962fd1",
   "metadata": {},
   "outputs": [],
   "source": [
    "def unique() :\n",
    "    s = input(\"Enter numbers separated by commas :\")\n",
    "    l = s.split(\",\")\n",
    "    for i in l :\n",
    "        i = int()\n",
    "    print(l)\n",
    "    for item in l :\n",
    "        count = l.count(item)\n",
    "        if count == 1 :\n",
    "            print(item)\n",
    "        else :\n",
    "            pass\n"
   ]
  },
  {
   "cell_type": "code",
   "execution_count": 13,
   "id": "9d62cbf0",
   "metadata": {},
   "outputs": [
    {
     "name": "stdout",
     "output_type": "stream",
     "text": [
      "Enter numbers separated by commas :3,3,3,7,3,3\n",
      "['3', '3', '3', '7', '3', '3']\n",
      "7\n"
     ]
    }
   ],
   "source": [
    "unique()"
   ]
  },
  {
   "cell_type": "code",
   "execution_count": 14,
   "id": "0797e82d",
   "metadata": {},
   "outputs": [
    {
     "name": "stdout",
     "output_type": "stream",
     "text": [
      "Enter numbers separated by commas :0,1,1,1,1,1,1,1\n",
      "['0', '1', '1', '1', '1', '1', '1', '1']\n",
      "0\n"
     ]
    }
   ],
   "source": [
    "unique()"
   ]
  },
  {
   "cell_type": "code",
   "execution_count": 1,
   "id": "744de595",
   "metadata": {},
   "outputs": [],
   "source": [
    "# Q3"
   ]
  },
  {
   "cell_type": "code",
   "execution_count": 2,
   "id": "04d1eb9c",
   "metadata": {},
   "outputs": [
    {
     "name": "stdout",
     "output_type": "stream",
     "text": [
      "379.94\n",
      "69.08\n"
     ]
    }
   ],
   "source": [
    "class Circle():\n",
    "    def __init__(self, r):\n",
    "        self.radius = r\n",
    "\n",
    "    def getArea(self):\n",
    "        return self.radius**2*3.14\n",
    "    \n",
    "    def getPerimeter(self):\n",
    "        return 2*self.radius*3.14\n",
    "\n",
    "circy = Circle(11)\n",
    "print(circy.getArea())\n",
    "print(circy.getPerimeter())\n"
   ]
  },
  {
   "cell_type": "code",
   "execution_count": null,
   "id": "e0f8e440",
   "metadata": {},
   "outputs": [],
   "source": [
    "# Q4"
   ]
  },
  {
   "cell_type": "code",
   "execution_count": 3,
   "id": "7e7e0a61",
   "metadata": {},
   "outputs": [],
   "source": [
    "def sort_by_length() :\n",
    "    s = input(\"Enter elements of list separated by comma :\")\n",
    "    l = s.split(\",\")\n",
    "    l.sort(key=len)\n",
    "    print(l)\n",
    "    "
   ]
  },
  {
   "cell_type": "code",
   "execution_count": 4,
   "id": "b83cb2c4",
   "metadata": {},
   "outputs": [
    {
     "name": "stdout",
     "output_type": "stream",
     "text": [
      "Enter elements of list separated by comma :Google,Apple,Microsoft\n",
      "['Apple', 'Google', 'Microsoft']\n"
     ]
    }
   ],
   "source": [
    "sort_by_length()"
   ]
  },
  {
   "cell_type": "code",
   "execution_count": 5,
   "id": "c9a8eaf1",
   "metadata": {},
   "outputs": [
    {
     "name": "stdout",
     "output_type": "stream",
     "text": [
      "Enter elements of list separated by comma :Leonardo,Michelangelo,Raphael,Donatello\n",
      "['Raphael', 'Leonardo', 'Donatello', 'Michelangelo']\n"
     ]
    }
   ],
   "source": [
    "sort_by_length()"
   ]
  },
  {
   "cell_type": "code",
   "execution_count": 6,
   "id": "ad13e398",
   "metadata": {},
   "outputs": [
    {
     "name": "stdout",
     "output_type": "stream",
     "text": [
      "Enter elements of list separated by comma :Turing,Einstein,Jung\n",
      "['Jung', 'Turing', 'Einstein']\n"
     ]
    }
   ],
   "source": [
    "sort_by_length()"
   ]
  },
  {
   "cell_type": "code",
   "execution_count": 7,
   "id": "a977626f",
   "metadata": {},
   "outputs": [],
   "source": [
    "# Q5"
   ]
  },
  {
   "cell_type": "code",
   "execution_count": 8,
   "id": "a09501b6",
   "metadata": {},
   "outputs": [],
   "source": [
    "def is_triplet() :\n",
    "    print(\"Input three integers(sides of a triangle)\")\n",
    "    int_num = list(map(int,input().split()))\n",
    "    x,y,z = sorted(int_num)\n",
    "    if x**2+y**2==z**2 :\n",
    "        print('True')\n",
    "    else:\n",
    "        print('False')"
   ]
  },
  {
   "cell_type": "code",
   "execution_count": 9,
   "id": "a5e71927",
   "metadata": {},
   "outputs": [
    {
     "name": "stdout",
     "output_type": "stream",
     "text": [
      "Input three integers(sides of a triangle)\n",
      "3 4 5\n",
      "True\n"
     ]
    }
   ],
   "source": [
    "is_triplet()"
   ]
  },
  {
   "cell_type": "code",
   "execution_count": 10,
   "id": "6437e117",
   "metadata": {},
   "outputs": [
    {
     "name": "stdout",
     "output_type": "stream",
     "text": [
      "Input three integers(sides of a triangle)\n",
      "13 5 12\n",
      "True\n"
     ]
    }
   ],
   "source": [
    "is_triplet()"
   ]
  },
  {
   "cell_type": "code",
   "execution_count": 11,
   "id": "c9a64ae4",
   "metadata": {},
   "outputs": [
    {
     "name": "stdout",
     "output_type": "stream",
     "text": [
      "Input three integers(sides of a triangle)\n",
      "1 2 3\n",
      "False\n"
     ]
    }
   ],
   "source": [
    "is_triplet()"
   ]
  },
  {
   "cell_type": "code",
   "execution_count": null,
   "id": "33dbc55e",
   "metadata": {},
   "outputs": [],
   "source": []
  }
 ],
 "metadata": {
  "kernelspec": {
   "display_name": "Python 3 (ipykernel)",
   "language": "python",
   "name": "python3"
  },
  "language_info": {
   "codemirror_mode": {
    "name": "ipython",
    "version": 3
   },
   "file_extension": ".py",
   "mimetype": "text/x-python",
   "name": "python",
   "nbconvert_exporter": "python",
   "pygments_lexer": "ipython3",
   "version": "3.9.12"
  }
 },
 "nbformat": 4,
 "nbformat_minor": 5
}
