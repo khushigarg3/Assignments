{
 "cells": [
  {
   "cell_type": "code",
   "execution_count": null,
   "id": "2f775420",
   "metadata": {},
   "outputs": [],
   "source": [
    "# Q1"
   ]
  },
  {
   "cell_type": "code",
   "execution_count": 1,
   "id": "19a7d403",
   "metadata": {},
   "outputs": [
    {
     "name": "stdout",
     "output_type": "stream",
     "text": [
      "16\n",
      "[0, 7, 14]\n",
      "0 True\n",
      "1 False\n",
      "2 False\n",
      "3 False\n",
      "4 False\n",
      "5 False\n",
      "6 False\n",
      "7 True\n",
      "8 False\n",
      "9 False\n",
      "10 False\n",
      "11 False\n",
      "12 False\n",
      "13 False\n",
      "14 True\n",
      "15 False\n"
     ]
    }
   ],
   "source": [
    "n = int(input())\n",
    "divBy7 = [i for i in range(0, n) if (i % 7 == 0)]\n",
    "print(divBy7)\n",
    "\n",
    "def divChecker(n):\n",
    "    for i in range(n):\n",
    "        if i % 7 == 0:\n",
    "            value = True\n",
    "        else:\n",
    "            value = False\n",
    "        print(i, value)\n",
    "\n",
    "divChecker(n)"
   ]
  },
  {
   "cell_type": "code",
   "execution_count": null,
   "id": "79a1fc37",
   "metadata": {},
   "outputs": [],
   "source": [
    "# Q2"
   ]
  },
  {
   "cell_type": "code",
   "execution_count": 39,
   "id": "76304540",
   "metadata": {},
   "outputs": [
    {
     "name": "stdout",
     "output_type": "stream",
     "text": [
      "Frequency of 2 is : 2\n",
      "Frequency of 3 is : 1\n",
      "Frequency of 3? is : 1\n",
      "Frequency of New is : 1\n",
      "Frequency of Python is : 5\n",
      "Frequency of Read is : 1\n",
      "Frequency of and is : 1\n",
      "Frequency of between is : 1\n",
      "Frequency of choosing is : 1\n",
      "Frequency of or is : 2\n",
      "Frequency of to is : 1\n"
     ]
    }
   ],
   "source": [
    "def freq(str):\n",
    "    str = str.split()\n",
    "    str2 = []\n",
    "    for i in str :\n",
    "        if i not in str2:\n",
    "            str2.append(i)\n",
    "    str2.sort()\n",
    "    for i in range(0, len(str2)) :\n",
    "        print('Frequency of', str2[i], 'is :', str.count(str2[i]))\n",
    "\n",
    "def main():\n",
    "    str ='New to Python or choosing between Python 2 and Python 3? Read Python 2 or Python 3'\n",
    "    freq(str)\n",
    "\n",
    "if __name__==\"__main__\":\n",
    "     main()\n"
   ]
  },
  {
   "cell_type": "code",
   "execution_count": 40,
   "id": "8c4ce779",
   "metadata": {},
   "outputs": [],
   "source": [
    "# Q3"
   ]
  },
  {
   "cell_type": "code",
   "execution_count": 41,
   "id": "764ad02c",
   "metadata": {},
   "outputs": [
    {
     "name": "stdout",
     "output_type": "stream",
     "text": [
      "Name: john max\n",
      "Gender: male\n",
      "john max is male\n"
     ]
    }
   ],
   "source": [
    "class Person():\n",
    "    def __init__(self):\n",
    "        self.name = input('Name: ')\n",
    "        self.gender= input('Gender: ')\n",
    "\n",
    "    def give_name(self):\n",
    "        return self.name\n",
    "\n",
    "    def give_gender(self):\n",
    "        return self.gender\n",
    "\n",
    "    def show_name(self):\n",
    "        return self.give_name() + ' is ' + self.give_gender()\n",
    "\n",
    "my_person = Person()\n",
    "print(my_person.show_name())"
   ]
  },
  {
   "cell_type": "code",
   "execution_count": 42,
   "id": "847543a9",
   "metadata": {},
   "outputs": [],
   "source": [
    "# Q4"
   ]
  },
  {
   "cell_type": "code",
   "execution_count": 43,
   "id": "4bf5a89f",
   "metadata": {},
   "outputs": [],
   "source": [
    "def gen_sen() :\n",
    "    subjects = [\"I\", \"You\"]\n",
    "    verbs = [\"Play\", \"Love\"]\n",
    "    objects = [\"Hockey\", \"Football\"]\n",
    "    for i in range(len(subjects)):\n",
    "        for j in range(len(verbs)):\n",
    "            for k in range(len(objects)):\n",
    "                sentence = \"%s %s %s.\" % (subjects[i], verbs[j], objects[k])\n",
    "                print(sentence)"
   ]
  },
  {
   "cell_type": "code",
   "execution_count": 44,
   "id": "3cdebd8a",
   "metadata": {},
   "outputs": [
    {
     "name": "stdout",
     "output_type": "stream",
     "text": [
      "I Play Hockey.\n",
      "I Play Football.\n",
      "I Love Hockey.\n",
      "I Love Football.\n",
      "You Play Hockey.\n",
      "You Play Football.\n",
      "You Love Hockey.\n",
      "You Love Football.\n"
     ]
    }
   ],
   "source": [
    "gen_sen()"
   ]
  },
  {
   "cell_type": "code",
   "execution_count": 45,
   "id": "c84a4d0d",
   "metadata": {},
   "outputs": [],
   "source": [
    "# Q5"
   ]
  },
  {
   "cell_type": "code",
   "execution_count": 46,
   "id": "38f7f9d4",
   "metadata": {},
   "outputs": [
    {
     "name": "stdout",
     "output_type": "stream",
     "text": [
      "b'x\\x9c\\xcbH\\xcd\\xc9\\xc9W(\\xcf/\\xcaIQ\\xcc \\x82\\r\\x00\\xbd[\\x11\\xf5'\n",
      "b'hello world!hello world!hello world!hello world!'\n"
     ]
    }
   ],
   "source": [
    "import zlib\n",
    "s = 'hello world!hello world!hello world!hello world!'.encode()\n",
    "t = zlib.compress(s)\n",
    "print(t)\n",
    "print(zlib.decompress(t))"
   ]
  },
  {
   "cell_type": "code",
   "execution_count": 47,
   "id": "79054410",
   "metadata": {},
   "outputs": [],
   "source": [
    "# Q6"
   ]
  },
  {
   "cell_type": "code",
   "execution_count": 52,
   "id": "3b726bfe",
   "metadata": {},
   "outputs": [
    {
     "name": "stdout",
     "output_type": "stream",
     "text": [
      "Element is present at index  5\n"
     ]
    }
   ],
   "source": [
    "def binarySearch(arr, l, r, x):\n",
    "    if r >= l:\n",
    "        mid = l + (r - l) // 2\n",
    "        if arr[mid] == x:\n",
    "            return mid\n",
    "        elif arr[mid] > x:\n",
    "            return binarySearch(arr, l, mid-1, x)\n",
    "        else:\n",
    "            return binarySearch(arr, mid + 1, r, x)\n",
    "\n",
    "    else:\n",
    "        return -1\n",
    "\n",
    "arr = [21, 34, 99, 4, 10, 78, 59, 40]\n",
    "x = 78\n",
    "\n",
    "result = binarySearch(arr, 0, len(arr)-1, x)\n",
    "\n",
    "if result != -1:\n",
    "     print(\"Element is present at index % d\" % result)\n",
    "else:\n",
    "     print(\"Element is not present in array\")\n"
   ]
  },
  {
   "cell_type": "code",
   "execution_count": null,
   "id": "cf5a7f16",
   "metadata": {},
   "outputs": [],
   "source": []
  }
 ],
 "metadata": {
  "kernelspec": {
   "display_name": "Python 3 (ipykernel)",
   "language": "python",
   "name": "python3"
  },
  "language_info": {
   "codemirror_mode": {
    "name": "ipython",
    "version": 3
   },
   "file_extension": ".py",
   "mimetype": "text/x-python",
   "name": "python",
   "nbconvert_exporter": "python",
   "pygments_lexer": "ipython3",
   "version": "3.9.12"
  }
 },
 "nbformat": 4,
 "nbformat_minor": 5
}
