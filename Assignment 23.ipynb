{
 "cells": [
  {
   "cell_type": "code",
   "execution_count": 1,
   "id": "60dc0c01",
   "metadata": {},
   "outputs": [
    {
     "name": "stdout",
     "output_type": "stream",
     "text": [
      "1 2 8\n"
     ]
    }
   ],
   "source": [
    "def func(a,b=6,c=8) :\n",
    "    print(a,b,c)\n",
    "\n",
    "func(1,2)"
   ]
  },
  {
   "cell_type": "code",
   "execution_count": 3,
   "id": "aec3f823",
   "metadata": {},
   "outputs": [
    {
     "name": "stdout",
     "output_type": "stream",
     "text": [
      "1 2 3\n"
     ]
    }
   ],
   "source": [
    "def func(a,b,c=5) :\n",
    "    print(a,b,c)\n",
    "\n",
    "func(1,c=3,b=2)\n",
    "\n",
    "# Here a is assigned with value 1 , b is assigned with value 2 and c is replaced with value 3 "
   ]
  },
  {
   "cell_type": "code",
   "execution_count": 5,
   "id": "2fc8c909",
   "metadata": {},
   "outputs": [
    {
     "name": "stdout",
     "output_type": "stream",
     "text": [
      "1 (2, 3)\n"
     ]
    }
   ],
   "source": [
    "def func(a,*pargs) :\n",
    "    print(a,pargs)\n",
    "    \n",
    "func(1,2,3)\n",
    "\n",
    "# Here a is assigned with value 1 and *pargs is a tuple argument"
   ]
  },
  {
   "cell_type": "code",
   "execution_count": 6,
   "id": "532ec5dd",
   "metadata": {},
   "outputs": [
    {
     "name": "stdout",
     "output_type": "stream",
     "text": [
      "1 {'c': 3, 'b': 2}\n"
     ]
    }
   ],
   "source": [
    "def func(a,**kargs) :\n",
    "    print(a,kargs)\n",
    "    \n",
    "func(a=1,c=3,b=2)\n",
    "\n",
    "# Here a is assigned with value 1 and **kargs is a dictionary argument "
   ]
  },
  {
   "cell_type": "code",
   "execution_count": 7,
   "id": "168f2077",
   "metadata": {},
   "outputs": [
    {
     "name": "stdout",
     "output_type": "stream",
     "text": [
      "1 5 6 5\n"
     ]
    }
   ],
   "source": [
    "def func(a,b,c=8,d=5) :\n",
    "    print(a,b,c,d)\n",
    "    \n",
    "func(1,*(5,6))\n",
    "\n",
    "# a is assigned with value 1 and *(5,6) is a tuple argument for b,c variables and d=5"
   ]
  },
  {
   "cell_type": "code",
   "execution_count": null,
   "id": "f6d880a0",
   "metadata": {},
   "outputs": [],
   "source": []
  }
 ],
 "metadata": {
  "kernelspec": {
   "display_name": "Python 3 (ipykernel)",
   "language": "python",
   "name": "python3"
  },
  "language_info": {
   "codemirror_mode": {
    "name": "ipython",
    "version": 3
   },
   "file_extension": ".py",
   "mimetype": "text/x-python",
   "name": "python",
   "nbconvert_exporter": "python",
   "pygments_lexer": "ipython3",
   "version": "3.9.12"
  }
 },
 "nbformat": 4,
 "nbformat_minor": 5
}
