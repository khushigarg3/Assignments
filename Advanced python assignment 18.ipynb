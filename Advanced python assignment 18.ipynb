{
 "cells": [
  {
   "cell_type": "code",
   "execution_count": 2,
   "id": "fc811b30",
   "metadata": {},
   "outputs": [],
   "source": [
    "# Q1"
   ]
  },
  {
   "cell_type": "code",
   "execution_count": 3,
   "id": "b9f4ef46",
   "metadata": {},
   "outputs": [
    {
     "data": {
      "text/plain": [
       "'In text file, text, character, numbers are stored one character per byte i.e. 32667 occupies 5 bytes even though it occupies 2 bytes in memory.\\nIn binary file data is stored in binary format and each data would occupy the same number of bytes on disks as it occupies in memory.\\n\\nIn the text file, the newline character is converted to carriage-return/linefeed before being written to the disk.\\nIn binary file, conversion of newline to carriage-return and linefeed does not take place.\\n\\nText files are used to store data more user friendly.\\nBinary files are used to store data more compactly.\\n\\nContent written in text files is human readable.\\nContent written in binary files is not human readable and looks like encrypted content.\\n\\nIn the text file, a special character whose ASCII value is 26 inserted after the last character to mark the end of file.\\nIn the binary file no such character is present. Files keep track of the end of the file from the number of characters present.'"
      ]
     },
     "execution_count": 3,
     "metadata": {},
     "output_type": "execute_result"
    }
   ],
   "source": [
    "\"\"\"In text file, text, character, numbers are stored one character per byte i.e. 32667 occupies 5 bytes even though it occupies 2 bytes in memory.\n",
    "In binary file data is stored in binary format and each data would occupy the same number of bytes on disks as it occupies in memory.\n",
    "\n",
    "In the text file, the newline character is converted to carriage-return/linefeed before being written to the disk.\n",
    "In binary file, conversion of newline to carriage-return and linefeed does not take place.\n",
    "\n",
    "Text files are used to store data more user friendly.\n",
    "Binary files are used to store data more compactly.\n",
    "\n",
    "Content written in text files is human readable.\n",
    "Content written in binary files is not human readable and looks like encrypted content.\n",
    "\n",
    "In the text file, a special character whose ASCII value is 26 inserted after the last character to mark the end of file.\n",
    "In the binary file no such character is present. Files keep track of the end of the file from the number of characters present.\"\"\""
   ]
  },
  {
   "cell_type": "code",
   "execution_count": 4,
   "id": "119c2e71",
   "metadata": {},
   "outputs": [],
   "source": [
    "# Q2"
   ]
  },
  {
   "cell_type": "code",
   "execution_count": 5,
   "id": "76ebadab",
   "metadata": {},
   "outputs": [
    {
     "data": {
      "text/plain": [
       "'Software developers work with many kinds of text files all the time – program source code, setup scripts, technical documentation, program-generated output and logs, configuration files, you name it. Much of the world of computer programming revolves around text files, since they are easy to create, edit, and consume.\\nThis contrasts with how an average computer user mainly works with binary files.\\n\\nVersion control software (Git, Mercurial, SVN, Perforce, etc.) work best with text files. For binary files they can only tell you whether a file has changed or not. For text files, they can show line-by-line differences, perform automatic merges, and do many other useful things.\\n\\nText files are usually viewed and edited in a monospaced font. The historical reason is that the earliest computer terminals could only display monospaced text. A modern reason is that monospaced allows an author to visually align characters in different lines for ASCII art, tabular data, etc.'"
      ]
     },
     "execution_count": 5,
     "metadata": {},
     "output_type": "execute_result"
    }
   ],
   "source": [
    "\"\"\"Software developers work with many kinds of text files all the time – program source code, setup scripts, technical documentation, program-generated output and logs, configuration files, you name it. Much of the world of computer programming revolves around text files, since they are easy to create, edit, and consume.\n",
    "This contrasts with how an average computer user mainly works with binary files.\n",
    "\n",
    "Version control software (Git, Mercurial, SVN, Perforce, etc.) work best with text files. For binary files they can only tell you whether a file has changed or not. For text files, they can show line-by-line differences, perform automatic merges, and do many other useful things.\n",
    "\n",
    "Text files are usually viewed and edited in a monospaced font. The historical reason is that the earliest computer terminals could only display monospaced text. A modern reason is that monospaced allows an author to visually align characters in different lines for ASCII art, tabular data, etc.\"\"\""
   ]
  },
  {
   "cell_type": "code",
   "execution_count": 6,
   "id": "795ec10a",
   "metadata": {},
   "outputs": [],
   "source": [
    "# Q3"
   ]
  },
  {
   "cell_type": "code",
   "execution_count": 7,
   "id": "ae19d3f0",
   "metadata": {},
   "outputs": [
    {
     "data": {
      "text/plain": [
       "'From a developer’s point of view, the largest change in Python 3 is the handling of strings. In Python 2, the str type was used for two different kinds of values – text and bytes, whereas in Python 3, these are separate and incompatible types.\\nThis means that before Python3 we could treat a set of bytes as a string and work from there, this is not the case now, now we have a separate data type, called bytes.\\nThis data type can be briefly explained as a string of bytes, which essentially means, once the bytes data type is initialized it is immutable. '"
      ]
     },
     "execution_count": 7,
     "metadata": {},
     "output_type": "execute_result"
    }
   ],
   "source": [
    "\"\"\"From a developer’s point of view, the largest change in Python 3 is the handling of strings. In Python 2, the str type was used for two different kinds of values – text and bytes, whereas in Python 3, these are separate and incompatible types.\n",
    "This means that before Python3 we could treat a set of bytes as a string and work from there, this is not the case now, now we have a separate data type, called bytes.\n",
    "This data type can be briefly explained as a string of bytes, which essentially means, once the bytes data type is initialized it is immutable. \"\"\""
   ]
  },
  {
   "cell_type": "code",
   "execution_count": 8,
   "id": "9991dd82",
   "metadata": {},
   "outputs": [],
   "source": [
    "# Q4"
   ]
  },
  {
   "cell_type": "code",
   "execution_count": 9,
   "id": "74c970ae",
   "metadata": {},
   "outputs": [],
   "source": [
    "# Using with means that the file will be closed as soon as you leave the block. This is beneficial because closing a file is something that can easily be forgotten and ties up resources that you no longer need."
   ]
  },
  {
   "cell_type": "code",
   "execution_count": 10,
   "id": "30a795d4",
   "metadata": {},
   "outputs": [],
   "source": [
    "# Q5"
   ]
  },
  {
   "cell_type": "code",
   "execution_count": 11,
   "id": "ac4c94ff",
   "metadata": {},
   "outputs": [
    {
     "data": {
      "text/plain": [
       "'Python readline() method reads only one complete line from the file given. It appends a newline (“\\n”) at the end of the line.\\nIf you open the file in normal read mode, readline() will return you the string.'"
      ]
     },
     "execution_count": 11,
     "metadata": {},
     "output_type": "execute_result"
    }
   ],
   "source": [
    "\"\"\"Python readline() method reads only one complete line from the file given. It appends a newline (“\\n”) at the end of the line.\n",
    "If you open the file in normal read mode, readline() will return you the string.\"\"\""
   ]
  },
  {
   "cell_type": "code",
   "execution_count": 12,
   "id": "8215b200",
   "metadata": {},
   "outputs": [],
   "source": [
    "# Q6"
   ]
  },
  {
   "cell_type": "code",
   "execution_count": 13,
   "id": "b8e5d543",
   "metadata": {},
   "outputs": [],
   "source": [
    "# Use the fseek() function to perform random access input/ouput on a file."
   ]
  },
  {
   "cell_type": "code",
   "execution_count": 14,
   "id": "6c708f5d",
   "metadata": {},
   "outputs": [],
   "source": [
    "# Q7"
   ]
  },
  {
   "cell_type": "code",
   "execution_count": 15,
   "id": "2b1429a0",
   "metadata": {},
   "outputs": [],
   "source": [
    "# The module struct is used to convert the native data types of Python into string of bytes and vice versa."
   ]
  },
  {
   "cell_type": "code",
   "execution_count": 16,
   "id": "4da03bdc",
   "metadata": {},
   "outputs": [],
   "source": [
    "# Q8"
   ]
  },
  {
   "cell_type": "code",
   "execution_count": 17,
   "id": "3258541c",
   "metadata": {},
   "outputs": [
    {
     "data": {
      "text/plain": [
       "'Python pickle module is used for serializing and de-serializing python object structures.\\nThe process to converts any kind of python objects (list, dict, etc.) into byte streams (0s and 1s) is called pickling or serialization or flattening or marshalling.'"
      ]
     },
     "execution_count": 17,
     "metadata": {},
     "output_type": "execute_result"
    }
   ],
   "source": [
    "\"\"\"Python pickle module is used for serializing and de-serializing python object structures.\n",
    "The process to converts any kind of python objects (list, dict, etc.) into byte streams (0s and 1s) is called pickling or serialization or flattening or marshalling.\"\"\""
   ]
  },
  {
   "cell_type": "code",
   "execution_count": 18,
   "id": "a6a51ad7",
   "metadata": {},
   "outputs": [],
   "source": [
    "# Q9"
   ]
  },
  {
   "cell_type": "code",
   "execution_count": 19,
   "id": "07a98324",
   "metadata": {},
   "outputs": [],
   "source": [
    "# The shelve module in Python’s standard library is a simple yet effective tool for persistent data storage when using a relational database solution is not required."
   ]
  },
  {
   "cell_type": "code",
   "execution_count": 20,
   "id": "9acb793e",
   "metadata": {},
   "outputs": [],
   "source": [
    "# Q10"
   ]
  },
  {
   "cell_type": "code",
   "execution_count": 21,
   "id": "866e868e",
   "metadata": {},
   "outputs": [
    {
     "data": {
      "text/plain": [
       "'The shelf dictionary has certain restrictions. Only string data type can be used as key in this special dictionary object, whereas any picklable Python object can be used as value.'"
      ]
     },
     "execution_count": 21,
     "metadata": {},
     "output_type": "execute_result"
    }
   ],
   "source": [
    "\"\"\"The shelf dictionary has certain restrictions. Only string data type can be used as key in this special dictionary object, whereas any picklable Python object can be used as value.\"\"\""
   ]
  },
  {
   "cell_type": "code",
   "execution_count": null,
   "id": "a6b23930",
   "metadata": {},
   "outputs": [],
   "source": []
  }
 ],
 "metadata": {
  "kernelspec": {
   "display_name": "Python 3 (ipykernel)",
   "language": "python",
   "name": "python3"
  },
  "language_info": {
   "codemirror_mode": {
    "name": "ipython",
    "version": 3
   },
   "file_extension": ".py",
   "mimetype": "text/x-python",
   "name": "python",
   "nbconvert_exporter": "python",
   "pygments_lexer": "ipython3",
   "version": "3.9.12"
  }
 },
 "nbformat": 4,
 "nbformat_minor": 5
}
