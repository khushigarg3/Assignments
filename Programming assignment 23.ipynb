{
 "cells": [
  {
   "cell_type": "code",
   "execution_count": 1,
   "id": "10d0669c",
   "metadata": {},
   "outputs": [],
   "source": [
    "# Q1"
   ]
  },
  {
   "cell_type": "code",
   "execution_count": 2,
   "id": "fd0a1313",
   "metadata": {},
   "outputs": [],
   "source": [
    "def is_symmetrical_num(n):\n",
    "    print(\"Entered number is :\",int(n))\n",
    "    if str(n) == str(n)[::-1] :\n",
    "        print(\"True\")\n",
    "    else :\n",
    "        print(\"False\")"
   ]
  },
  {
   "cell_type": "code",
   "execution_count": 3,
   "id": "e6d5db14",
   "metadata": {},
   "outputs": [
    {
     "name": "stdout",
     "output_type": "stream",
     "text": [
      "Entered number is : 7227\n",
      "True\n"
     ]
    }
   ],
   "source": [
    "is_symmetrical_num(7227)"
   ]
  },
  {
   "cell_type": "code",
   "execution_count": 4,
   "id": "a2bbf4bf",
   "metadata": {},
   "outputs": [
    {
     "name": "stdout",
     "output_type": "stream",
     "text": [
      "Entered number is : 12567\n",
      "False\n"
     ]
    }
   ],
   "source": [
    "is_symmetrical_num(12567)"
   ]
  },
  {
   "cell_type": "code",
   "execution_count": 5,
   "id": "d0ab81ce",
   "metadata": {},
   "outputs": [
    {
     "name": "stdout",
     "output_type": "stream",
     "text": [
      "Entered number is : 9939\n",
      "False\n"
     ]
    }
   ],
   "source": [
    "is_symmetrical_num(9939)"
   ]
  },
  {
   "cell_type": "code",
   "execution_count": 6,
   "id": "457ebb51",
   "metadata": {},
   "outputs": [
    {
     "name": "stdout",
     "output_type": "stream",
     "text": [
      "Entered number is : 1112111\n",
      "True\n"
     ]
    }
   ],
   "source": [
    "is_symmetrical_num(1112111)"
   ]
  },
  {
   "cell_type": "code",
   "execution_count": null,
   "id": "c63beff9",
   "metadata": {},
   "outputs": [],
   "source": [
    "# Q2"
   ]
  },
  {
   "cell_type": "code",
   "execution_count": 7,
   "id": "3a7e4422",
   "metadata": {},
   "outputs": [],
   "source": [
    "def multiply_nums() :\n",
    "    n = input(\"Enter numbers separated by space :\")\n",
    "    l = n.split(\" \")\n",
    "    mul = 1\n",
    "    for i in l :\n",
    "        i = int(i)\n",
    "        mul = mul*i\n",
    "    print(mul)\n",
    "        "
   ]
  },
  {
   "cell_type": "code",
   "execution_count": 8,
   "id": "4d0c2be3",
   "metadata": {},
   "outputs": [
    {
     "name": "stdout",
     "output_type": "stream",
     "text": [
      "Enter numbers separated by space :1 2 3 4\n",
      "24\n"
     ]
    }
   ],
   "source": [
    "multiply_nums()"
   ]
  },
  {
   "cell_type": "code",
   "execution_count": 9,
   "id": "12ba9351",
   "metadata": {},
   "outputs": [
    {
     "name": "stdout",
     "output_type": "stream",
     "text": [
      "Enter numbers separated by space :2 3\n",
      "6\n"
     ]
    }
   ],
   "source": [
    "multiply_nums()"
   ]
  },
  {
   "cell_type": "code",
   "execution_count": 10,
   "id": "51ca26db",
   "metadata": {},
   "outputs": [
    {
     "name": "stdout",
     "output_type": "stream",
     "text": [
      "Enter numbers separated by space :54 75 453 0\n",
      "0\n"
     ]
    }
   ],
   "source": [
    "multiply_nums()"
   ]
  },
  {
   "cell_type": "code",
   "execution_count": 11,
   "id": "82ae1737",
   "metadata": {},
   "outputs": [
    {
     "name": "stdout",
     "output_type": "stream",
     "text": [
      "Enter numbers separated by space :10 -2\n",
      "-20\n"
     ]
    }
   ],
   "source": [
    "multiply_nums()"
   ]
  },
  {
   "cell_type": "code",
   "execution_count": 12,
   "id": "1a2ea1aa",
   "metadata": {},
   "outputs": [],
   "source": [
    "# Q3"
   ]
  },
  {
   "cell_type": "code",
   "execution_count": 18,
   "id": "66976491",
   "metadata": {},
   "outputs": [],
   "source": [
    "def square_digits(n) :\n",
    "    sq = 1\n",
    "    for i in n :\n",
    "        i = int(i)\n",
    "        sq = i**2\n",
    "        print(sq,end=\"\")\n",
    "    print(\"\\n\")\n",
    "    print(type(sq))\n",
    "    "
   ]
  },
  {
   "cell_type": "code",
   "execution_count": 19,
   "id": "dbcdfbf1",
   "metadata": {},
   "outputs": [
    {
     "name": "stdout",
     "output_type": "stream",
     "text": [
      "811181\n",
      "\n",
      "<class 'int'>\n"
     ]
    }
   ],
   "source": [
    "square_digits(\"9119\")"
   ]
  },
  {
   "cell_type": "code",
   "execution_count": 20,
   "id": "a6c17ccf",
   "metadata": {},
   "outputs": [
    {
     "name": "stdout",
     "output_type": "stream",
     "text": [
      "416649\n",
      "\n",
      "<class 'int'>\n"
     ]
    }
   ],
   "source": [
    "square_digits(\"2483\")"
   ]
  },
  {
   "cell_type": "code",
   "execution_count": 21,
   "id": "ce739700",
   "metadata": {},
   "outputs": [
    {
     "name": "stdout",
     "output_type": "stream",
     "text": [
      "9414\n",
      "\n",
      "<class 'int'>\n"
     ]
    }
   ],
   "source": [
    "square_digits(\"3212\")"
   ]
  },
  {
   "cell_type": "code",
   "execution_count": 22,
   "id": "cc997e54",
   "metadata": {},
   "outputs": [],
   "source": [
    "# Q4"
   ]
  },
  {
   "cell_type": "code",
   "execution_count": 25,
   "id": "c3ee0f65",
   "metadata": {},
   "outputs": [],
   "source": [
    "def setify(l) :\n",
    "    s = set(l)\n",
    "    l1 = list(s)\n",
    "    l1.sort()\n",
    "    print(l1)\n",
    "    "
   ]
  },
  {
   "cell_type": "code",
   "execution_count": 28,
   "id": "44cf762f",
   "metadata": {},
   "outputs": [
    {
     "name": "stdout",
     "output_type": "stream",
     "text": [
      "[1, 3, 5]\n"
     ]
    }
   ],
   "source": [
    "setify([1,3,3,5,5])"
   ]
  },
  {
   "cell_type": "code",
   "execution_count": 29,
   "id": "b6d4c2c7",
   "metadata": {},
   "outputs": [
    {
     "name": "stdout",
     "output_type": "stream",
     "text": [
      "[4]\n"
     ]
    }
   ],
   "source": [
    "setify([4,4,4,4])"
   ]
  },
  {
   "cell_type": "code",
   "execution_count": 30,
   "id": "941661b0",
   "metadata": {},
   "outputs": [
    {
     "name": "stdout",
     "output_type": "stream",
     "text": [
      "[5, 7, 8, 9, 10, 15]\n"
     ]
    }
   ],
   "source": [
    "setify([5,7,8,9,10,15])"
   ]
  },
  {
   "cell_type": "code",
   "execution_count": 31,
   "id": "e9a46e00",
   "metadata": {},
   "outputs": [
    {
     "name": "stdout",
     "output_type": "stream",
     "text": [
      "[1, 2, 3]\n"
     ]
    }
   ],
   "source": [
    "setify([3,3,3,2,1])"
   ]
  },
  {
   "cell_type": "code",
   "execution_count": 32,
   "id": "8302d5b6",
   "metadata": {},
   "outputs": [],
   "source": [
    "# Q5"
   ]
  },
  {
   "cell_type": "code",
   "execution_count": 33,
   "id": "76f276f3",
   "metadata": {},
   "outputs": [],
   "source": [
    "def mean(n) :\n",
    "    x = len(n)\n",
    "    sum = 0\n",
    "    for i in n :\n",
    "        i = int(i)\n",
    "        sum = sum+i\n",
    "    mean = (sum/x)\n",
    "    print(mean)"
   ]
  },
  {
   "cell_type": "code",
   "execution_count": 35,
   "id": "f12f04f8",
   "metadata": {},
   "outputs": [
    {
     "name": "stdout",
     "output_type": "stream",
     "text": [
      "3.0\n"
     ]
    }
   ],
   "source": [
    "mean(\"42\")"
   ]
  },
  {
   "cell_type": "code",
   "execution_count": 36,
   "id": "98894a83",
   "metadata": {},
   "outputs": [
    {
     "name": "stdout",
     "output_type": "stream",
     "text": [
      "3.0\n"
     ]
    }
   ],
   "source": [
    "mean(\"12345\")"
   ]
  },
  {
   "cell_type": "code",
   "execution_count": 37,
   "id": "a4dd58f8",
   "metadata": {},
   "outputs": [
    {
     "name": "stdout",
     "output_type": "stream",
     "text": [
      "6.0\n"
     ]
    }
   ],
   "source": [
    "mean(\"666\")"
   ]
  },
  {
   "cell_type": "code",
   "execution_count": null,
   "id": "aa75cf25",
   "metadata": {},
   "outputs": [],
   "source": []
  }
 ],
 "metadata": {
  "kernelspec": {
   "display_name": "Python 3 (ipykernel)",
   "language": "python",
   "name": "python3"
  },
  "language_info": {
   "codemirror_mode": {
    "name": "ipython",
    "version": 3
   },
   "file_extension": ".py",
   "mimetype": "text/x-python",
   "name": "python",
   "nbconvert_exporter": "python",
   "pygments_lexer": "ipython3",
   "version": "3.9.12"
  }
 },
 "nbformat": 4,
 "nbformat_minor": 5
}
