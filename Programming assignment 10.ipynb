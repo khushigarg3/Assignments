{
 "cells": [
  {
   "cell_type": "code",
   "execution_count": 10,
   "id": "694eac5e",
   "metadata": {},
   "outputs": [],
   "source": [
    "# Q1"
   ]
  },
  {
   "cell_type": "code",
   "execution_count": 11,
   "id": "dbe65af0",
   "metadata": {},
   "outputs": [],
   "source": [
    "def sum_lst() :\n",
    "    lst = []\n",
    "    sum = 0\n",
    "    n = int(input(\"Enter number of elements : \"))\n",
    "    for i in range(0, n):\n",
    "        x = int(input())\n",
    "        lst.append(x) \n",
    "    print(lst)\n",
    "    for i in range(0,len(lst)) :\n",
    "        sum = sum + lst[i]\n",
    "    print(\"Sum of elements of list is :\",sum)\n"
   ]
  },
  {
   "cell_type": "code",
   "execution_count": 12,
   "id": "7ff1e8dd",
   "metadata": {},
   "outputs": [
    {
     "name": "stdout",
     "output_type": "stream",
     "text": [
      "Enter number of elements : 5\n",
      "12\n",
      "33\n",
      "7\n",
      "8\n",
      "4\n",
      "[12, 33, 7, 8, 4]\n",
      "Sum of elements of list is : 64\n"
     ]
    }
   ],
   "source": [
    "sum_lst()"
   ]
  },
  {
   "cell_type": "code",
   "execution_count": 13,
   "id": "d23538eb",
   "metadata": {},
   "outputs": [],
   "source": [
    "# Q2"
   ]
  },
  {
   "cell_type": "code",
   "execution_count": 17,
   "id": "26b9d024",
   "metadata": {},
   "outputs": [],
   "source": [
    "def mul_lst() :\n",
    "\n",
    "    input_string = input('Enter elements of a list separated by space :')\n",
    "    lst = input_string.split(',')\n",
    "    print('\\nlist', lst)\n",
    "    a = 1\n",
    "    for i in range(len(lst)) :\n",
    "        lst[i] = int(lst[i])\n",
    "        a = a*lst[i]\n",
    "    print(lst)\n",
    "    print(\"Multiplication of elements of list is :\",a)"
   ]
  },
  {
   "cell_type": "code",
   "execution_count": 18,
   "id": "3fb4997b",
   "metadata": {},
   "outputs": [
    {
     "name": "stdout",
     "output_type": "stream",
     "text": [
      "Enter elements of a list separated by space :2,3,4,5,1,5\n",
      "\n",
      "list ['2', '3', '4', '5', '1', '5']\n",
      "[2, 3, 4, 5, 1, 5]\n",
      "Multiplication of elements of list is : 600\n"
     ]
    }
   ],
   "source": [
    "mul_lst()"
   ]
  },
  {
   "cell_type": "code",
   "execution_count": 19,
   "id": "784b8bc5",
   "metadata": {},
   "outputs": [],
   "source": [
    "# Q3"
   ]
  },
  {
   "cell_type": "code",
   "execution_count": 33,
   "id": "27323c44",
   "metadata": {},
   "outputs": [],
   "source": [
    "def smallest() :\n",
    "        lst = []\n",
    "        n = int(input(\"Enter number of elements : \"))\n",
    "        for i in range(0, n):\n",
    "            x = int(input())\n",
    "            lst.append(x)\n",
    "        print(lst)\n",
    "        lst.sort()\n",
    "        print(\"The smallest number in the list is : \",lst[:1])\n",
    "        \n",
    "    "
   ]
  },
  {
   "cell_type": "code",
   "execution_count": 34,
   "id": "7db09fc1",
   "metadata": {},
   "outputs": [
    {
     "name": "stdout",
     "output_type": "stream",
     "text": [
      "Enter number of elements : 6\n",
      "23\n",
      "45\n",
      "2\n",
      "4\n",
      "34\n",
      "98\n",
      "[23, 45, 2, 4, 34, 98]\n",
      "The smallest number in the list is :  [2]\n"
     ]
    }
   ],
   "source": [
    "smallest()"
   ]
  },
  {
   "cell_type": "code",
   "execution_count": 35,
   "id": "6aa9e271",
   "metadata": {},
   "outputs": [],
   "source": [
    "# Q4"
   ]
  },
  {
   "cell_type": "code",
   "execution_count": 36,
   "id": "4439e9d9",
   "metadata": {},
   "outputs": [],
   "source": [
    "def largest() :\n",
    "        lst = []\n",
    "        n = int(input(\"Enter number of elements : \"))\n",
    "        for i in range(0, n):\n",
    "            x = int(input())\n",
    "            lst.append(x)\n",
    "        print(lst)\n",
    "        lst.sort(reverse = True)\n",
    "        print(\"The largest number in the list is : \",lst[:1])\n",
    "        \n",
    "    "
   ]
  },
  {
   "cell_type": "code",
   "execution_count": 37,
   "id": "24ae5061",
   "metadata": {},
   "outputs": [
    {
     "name": "stdout",
     "output_type": "stream",
     "text": [
      "Enter number of elements : 6\n",
      "23\n",
      "78\n",
      "94\n",
      "1\n",
      "40\n",
      "39\n",
      "[23, 78, 94, 1, 40, 39]\n",
      "The largest number in the list is :  [94]\n"
     ]
    }
   ],
   "source": [
    "largest()"
   ]
  },
  {
   "cell_type": "code",
   "execution_count": 38,
   "id": "e16c9b6e",
   "metadata": {},
   "outputs": [],
   "source": [
    "# Q5 "
   ]
  },
  {
   "cell_type": "code",
   "execution_count": 39,
   "id": "5d778b8c",
   "metadata": {},
   "outputs": [],
   "source": [
    "def s_largest() :\n",
    "        lst = []\n",
    "        n = int(input(\"Enter number of elements : \"))\n",
    "        for i in range(0, n):\n",
    "            x = int(input())\n",
    "            lst.append(x)\n",
    "        print(lst)\n",
    "        lst.sort(reverse = True)\n",
    "        print(\"The second largest number in the list is : \",lst[1])\n",
    "        "
   ]
  },
  {
   "cell_type": "code",
   "execution_count": 40,
   "id": "487d500e",
   "metadata": {},
   "outputs": [
    {
     "name": "stdout",
     "output_type": "stream",
     "text": [
      "Enter number of elements : 5\n",
      "34\n",
      "97\n",
      "24\n",
      "67\n",
      "59\n",
      "[34, 97, 24, 67, 59]\n",
      "The second largest number in the list is :  67\n"
     ]
    }
   ],
   "source": [
    "s_largest()"
   ]
  },
  {
   "cell_type": "code",
   "execution_count": 41,
   "id": "63a302f1",
   "metadata": {},
   "outputs": [],
   "source": [
    "# Q6"
   ]
  },
  {
   "cell_type": "code",
   "execution_count": 42,
   "id": "b2ec8560",
   "metadata": {},
   "outputs": [],
   "source": [
    "def largest(n) :\n",
    "        lst = []\n",
    "        num = int(input(\"Enter number of elements : \"))\n",
    "        for i in range(0, num):\n",
    "            x = int(input())\n",
    "            lst.append(x)\n",
    "        print(lst)\n",
    "        lst.sort(reverse = True)\n",
    "        print(\"The largest\",n,\"number in the list are : \")\n",
    "        for i in range(n) :\n",
    "            print(lst[i])\n",
    "        "
   ]
  },
  {
   "cell_type": "code",
   "execution_count": 43,
   "id": "0ec20442",
   "metadata": {},
   "outputs": [
    {
     "name": "stdout",
     "output_type": "stream",
     "text": [
      "Enter number of elements : 6\n",
      "23\n",
      "56\n",
      "74\n",
      "39\n",
      "72\n",
      "49\n",
      "[23, 56, 74, 39, 72, 49]\n",
      "The largest 3 number in the list are : \n",
      "74\n",
      "72\n",
      "56\n"
     ]
    }
   ],
   "source": [
    "largest(3)"
   ]
  },
  {
   "cell_type": "code",
   "execution_count": 44,
   "id": "2f7ecf3f",
   "metadata": {},
   "outputs": [],
   "source": [
    "# Q7"
   ]
  },
  {
   "cell_type": "code",
   "execution_count": 45,
   "id": "ac9b9a4a",
   "metadata": {},
   "outputs": [],
   "source": [
    "def even() :\n",
    "        lst = []\n",
    "        num = int(input(\"Enter number of elements : \"))\n",
    "        for i in range(0, num):\n",
    "            x = int(input())\n",
    "            lst.append(x)\n",
    "        print(lst)\n",
    "        print(\"\\n Even numbers in the list are :\")\n",
    "        for i in range(len(lst)) :\n",
    "            if lst[i]%2 == 0 :\n",
    "                print(lst[i])"
   ]
  },
  {
   "cell_type": "code",
   "execution_count": 46,
   "id": "1e0232fe",
   "metadata": {},
   "outputs": [
    {
     "name": "stdout",
     "output_type": "stream",
     "text": [
      "Enter number of elements : 5\n",
      "23\n",
      "76\n",
      "8\n",
      "94\n",
      "37\n",
      "[23, 76, 8, 94, 37]\n",
      "\n",
      " Even numbers in the list are :\n",
      "76\n",
      "8\n",
      "94\n"
     ]
    }
   ],
   "source": [
    "even()"
   ]
  },
  {
   "cell_type": "code",
   "execution_count": 47,
   "id": "92b1b1a2",
   "metadata": {},
   "outputs": [],
   "source": [
    "# Q8"
   ]
  },
  {
   "cell_type": "code",
   "execution_count": 48,
   "id": "c3f51081",
   "metadata": {},
   "outputs": [],
   "source": [
    "def odd() :\n",
    "        lst = []\n",
    "        num = int(input(\"Enter number of elements : \"))\n",
    "        for i in range(0, num):\n",
    "            x = int(input())\n",
    "            lst.append(x)\n",
    "        print(lst)\n",
    "        print(\"\\n Odd numbers in the list are :\")\n",
    "        for i in range(len(lst)) :\n",
    "            if lst[i]%2 != 0 :\n",
    "                print(lst[i])"
   ]
  },
  {
   "cell_type": "code",
   "execution_count": 49,
   "id": "d9a73cb9",
   "metadata": {},
   "outputs": [
    {
     "name": "stdout",
     "output_type": "stream",
     "text": [
      "Enter number of elements : 6\n",
      "23\n",
      "73\n",
      "82\n",
      "9\n",
      "83\n",
      "34\n",
      "[23, 73, 82, 9, 83, 34]\n",
      "\n",
      " Odd numbers in the list are :\n",
      "23\n",
      "73\n",
      "9\n",
      "83\n"
     ]
    }
   ],
   "source": [
    "odd()"
   ]
  },
  {
   "cell_type": "code",
   "execution_count": 50,
   "id": "98379167",
   "metadata": {},
   "outputs": [],
   "source": [
    "# Q9"
   ]
  },
  {
   "cell_type": "code",
   "execution_count": 74,
   "id": "fd4c2ecd",
   "metadata": {},
   "outputs": [],
   "source": [
    "def emp_lst() :\n",
    "    input_string = input('Enter elements of a list separated by space :')\n",
    "    l = input_string.split(',')\n",
    "    print('\\nlist', l)\n",
    "    for i in (0,(len(l)+1)) :\n",
    "        l.remove('[]')\n",
    "    print(l)"
   ]
  },
  {
   "cell_type": "code",
   "execution_count": 75,
   "id": "9f12c7af",
   "metadata": {},
   "outputs": [
    {
     "name": "stdout",
     "output_type": "stream",
     "text": [
      "Enter elements of a list separated by space :2,3,[],python,56,[],98\n",
      "\n",
      "list ['2', '3', '[]', 'python', '56', '[]', '98']\n",
      "['2', '3', 'python', '56', '98']\n"
     ]
    }
   ],
   "source": [
    "emp_lst()"
   ]
  },
  {
   "cell_type": "code",
   "execution_count": 76,
   "id": "53bccb7d",
   "metadata": {},
   "outputs": [],
   "source": [
    "# Q10"
   ]
  },
  {
   "cell_type": "code",
   "execution_count": 78,
   "id": "fdd00f87",
   "metadata": {},
   "outputs": [
    {
     "name": "stdout",
     "output_type": "stream",
     "text": [
      "Original List: [4, 8, 2, 10, 15, 18]\n",
      "After Cloning: [4, 8, 2, 10, 15, 18]\n"
     ]
    }
   ],
   "source": [
    "def Cloning(l1):\n",
    "    l_copy =[]\n",
    "    for item in l1:\n",
    "        l_copy.append(item)\n",
    "    return l_copy\n",
    "\n",
    "l1 = [4, 8, 2, 10, 15, 18]\n",
    "l2 = Cloning(l1)\n",
    "print(\"Original List:\", l1)\n",
    "print(\"After Cloning:\", l2)\n"
   ]
  },
  {
   "cell_type": "code",
   "execution_count": 79,
   "id": "b95c07b5",
   "metadata": {},
   "outputs": [],
   "source": [
    "# Q11"
   ]
  },
  {
   "cell_type": "code",
   "execution_count": 83,
   "id": "f96b2984",
   "metadata": {},
   "outputs": [],
   "source": [
    "def count(lst, x):\n",
    "    count = 0\n",
    "    for ele in lst:\n",
    "        if (ele == x):\n",
    "            count = count + 1\n",
    "    return count\n"
   ]
  },
  {
   "cell_type": "code",
   "execution_count": 84,
   "id": "4cd0120f",
   "metadata": {},
   "outputs": [
    {
     "data": {
      "text/plain": [
       "3"
      ]
     },
     "execution_count": 84,
     "metadata": {},
     "output_type": "execute_result"
    }
   ],
   "source": [
    "count([2,3,3,4,5,6,7,8,7,8,8,9,1],8)"
   ]
  },
  {
   "cell_type": "code",
   "execution_count": null,
   "id": "d3ab158d",
   "metadata": {},
   "outputs": [],
   "source": []
  }
 ],
 "metadata": {
  "kernelspec": {
   "display_name": "Python 3 (ipykernel)",
   "language": "python",
   "name": "python3"
  },
  "language_info": {
   "codemirror_mode": {
    "name": "ipython",
    "version": 3
   },
   "file_extension": ".py",
   "mimetype": "text/x-python",
   "name": "python",
   "nbconvert_exporter": "python",
   "pygments_lexer": "ipython3",
   "version": "3.9.12"
  }
 },
 "nbformat": 4,
 "nbformat_minor": 5
}
