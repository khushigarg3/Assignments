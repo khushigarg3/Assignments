{
 "cells": [
  {
   "cell_type": "code",
   "execution_count": 12,
   "id": "053afec7",
   "metadata": {},
   "outputs": [],
   "source": [
    "# Q1"
   ]
  },
  {
   "cell_type": "code",
   "execution_count": 13,
   "id": "eda437d1",
   "metadata": {},
   "outputs": [],
   "source": [
    "def stutter(word):\n",
    "    s = word[:2]\n",
    "    print((2 * (s + '... ')) + word + '?')\n"
   ]
  },
  {
   "cell_type": "code",
   "execution_count": 14,
   "id": "e643a80d",
   "metadata": {},
   "outputs": [
    {
     "name": "stdout",
     "output_type": "stream",
     "text": [
      "in... in... incredible?\n"
     ]
    }
   ],
   "source": [
    "stutter(\"incredible\")"
   ]
  },
  {
   "cell_type": "code",
   "execution_count": 15,
   "id": "b6440963",
   "metadata": {},
   "outputs": [
    {
     "name": "stdout",
     "output_type": "stream",
     "text": [
      "en... en... enthusiastic?\n"
     ]
    }
   ],
   "source": [
    "stutter(\"enthusiastic\")"
   ]
  },
  {
   "cell_type": "code",
   "execution_count": 16,
   "id": "74831d6f",
   "metadata": {},
   "outputs": [
    {
     "name": "stdout",
     "output_type": "stream",
     "text": [
      "ou... ou... outstanding?\n"
     ]
    }
   ],
   "source": [
    "stutter(\"outstanding\")"
   ]
  },
  {
   "cell_type": "code",
   "execution_count": 17,
   "id": "19eb5384",
   "metadata": {},
   "outputs": [],
   "source": [
    "# Q2"
   ]
  },
  {
   "cell_type": "code",
   "execution_count": 23,
   "id": "169a0879",
   "metadata": {},
   "outputs": [
    {
     "name": "stdout",
     "output_type": "stream",
     "text": [
      "degree = 1145.9\n"
     ]
    }
   ],
   "source": [
    "def Convert(radian):\n",
    "    pi = 3.14159\n",
    "    degree = radian * (180/pi)\n",
    "    return degree\n",
    " \n",
    "radian = 20\n",
    "print(\"degree =\",round(Convert(radian),1))"
   ]
  },
  {
   "cell_type": "code",
   "execution_count": 24,
   "id": "70f48fc1",
   "metadata": {},
   "outputs": [
    {
     "name": "stdout",
     "output_type": "stream",
     "text": [
      "degree = 2864.8\n"
     ]
    }
   ],
   "source": [
    "radian = 50\n",
    "print(\"degree =\",round(Convert(radian),1))"
   ]
  },
  {
   "cell_type": "code",
   "execution_count": 25,
   "id": "2fdab192",
   "metadata": {},
   "outputs": [],
   "source": [
    "# Q3"
   ]
  },
  {
   "cell_type": "code",
   "execution_count": 28,
   "id": "c09d5a66",
   "metadata": {},
   "outputs": [
    {
     "name": "stdout",
     "output_type": "stream",
     "text": [
      "True\n",
      "False\n",
      "True\n"
     ]
    }
   ],
   "source": [
    "def checkIfCurzonNumber(N):\n",
    "    powerTerm, productTerm = 0, 0\n",
    "    powerTerm = pow(2, N) + 1\n",
    "    productTerm = 2 * N + 1\n",
    "    if (powerTerm % productTerm == 0):\n",
    "        print(\"True\")\n",
    "    else:\n",
    "        print(\"False\")\n",
    "\n",
    "if __name__ == '__main__':\n",
    "    N = 5\n",
    "    checkIfCurzonNumber(N)\n",
    "    \n",
    "    N = 10\n",
    "    checkIfCurzonNumber(N)\n",
    "    \n",
    "    N = 14\n",
    "    checkIfCurzonNumber(N)\n"
   ]
  },
  {
   "cell_type": "code",
   "execution_count": 29,
   "id": "5ffd1141",
   "metadata": {},
   "outputs": [],
   "source": [
    "# Q4"
   ]
  },
  {
   "cell_type": "code",
   "execution_count": 31,
   "id": "7db99923",
   "metadata": {},
   "outputs": [
    {
     "name": "stdout",
     "output_type": "stream",
     "text": [
      "Area: 2.6\n",
      "Area: 10.4\n",
      "Area: 23.4\n"
     ]
    }
   ],
   "source": [
    "import math\n",
    "\n",
    "def area_of_hexagon(s):\n",
    "    return ((3 * math.sqrt(3) *(s * s)) / 2);\n",
    "\n",
    "\n",
    "if __name__ == \"__main__\" :\n",
    "    s = 1\n",
    "    print(\"Area:\",\"{0:.1f}\" .format(area_of_hexagon(s)))\n",
    "    \n",
    "    s = 2\n",
    "    print(\"Area:\",\"{0:.1f}\" .format(area_of_hexagon(s)))\n",
    "    \n",
    "    s = 3\n",
    "    print(\"Area:\",\"{0:.1f}\" .format(area_of_hexagon(s)))"
   ]
  },
  {
   "cell_type": "code",
   "execution_count": 32,
   "id": "c528405b",
   "metadata": {},
   "outputs": [],
   "source": [
    "# Q5"
   ]
  },
  {
   "cell_type": "code",
   "execution_count": 35,
   "id": "882507ce",
   "metadata": {},
   "outputs": [
    {
     "name": "stdout",
     "output_type": "stream",
     "text": [
      "01"
     ]
    }
   ],
   "source": [
    "def binary(num):\n",
    "    if num >= 1:\n",
    "        binary(num // 2)\n",
    "    print(num % 2, end = '')\n",
    "\n",
    "if __name__ == '__main__':\n",
    "    dec_val = 1\n",
    "    binary(dec_val)\n",
    "    "
   ]
  },
  {
   "cell_type": "code",
   "execution_count": 36,
   "id": "6add15a6",
   "metadata": {},
   "outputs": [
    {
     "name": "stdout",
     "output_type": "stream",
     "text": [
      "0101"
     ]
    }
   ],
   "source": [
    "dec_value = 5\n",
    "binary(dec_value)"
   ]
  },
  {
   "cell_type": "code",
   "execution_count": 37,
   "id": "4bb3d854",
   "metadata": {},
   "outputs": [
    {
     "name": "stdout",
     "output_type": "stream",
     "text": [
      "01010"
     ]
    }
   ],
   "source": [
    "dec_value = 10\n",
    "binary(dec_value)"
   ]
  },
  {
   "cell_type": "code",
   "execution_count": null,
   "id": "157620fc",
   "metadata": {},
   "outputs": [],
   "source": []
  }
 ],
 "metadata": {
  "kernelspec": {
   "display_name": "Python 3 (ipykernel)",
   "language": "python",
   "name": "python3"
  },
  "language_info": {
   "codemirror_mode": {
    "name": "ipython",
    "version": 3
   },
   "file_extension": ".py",
   "mimetype": "text/x-python",
   "name": "python",
   "nbconvert_exporter": "python",
   "pygments_lexer": "ipython3",
   "version": "3.9.12"
  }
 },
 "nbformat": 4,
 "nbformat_minor": 5
}
