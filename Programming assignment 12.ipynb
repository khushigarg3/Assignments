{
 "cells": [
  {
   "cell_type": "code",
   "execution_count": 1,
   "id": "0044008e",
   "metadata": {},
   "outputs": [],
   "source": [
    "# Q1"
   ]
  },
  {
   "cell_type": "code",
   "execution_count": 2,
   "id": "0da4439b",
   "metadata": {},
   "outputs": [],
   "source": [
    "def unique_val() :\n",
    "    myDict = {'Scala': 2, 'Javascript': 1, 'Python': 8, 'C++': 1, 'Java': 4,'C':8}\n",
    "    uniqueValues = list({val for val in myDict.values() })\n",
    "    print(\"Dictionary = \", end = \" \")\n",
    "    print(myDict)\n",
    "    print(\"Unique Values = \", end = \" \")\n",
    "    print(uniqueValues)"
   ]
  },
  {
   "cell_type": "code",
   "execution_count": 3,
   "id": "e31ae0b8",
   "metadata": {},
   "outputs": [
    {
     "name": "stdout",
     "output_type": "stream",
     "text": [
      "Dictionary =  {'Scala': 2, 'Javascript': 1, 'Python': 8, 'C++': 1, 'Java': 4, 'C': 8}\n",
      "Unique Values =  [8, 1, 2, 4]\n"
     ]
    }
   ],
   "source": [
    "unique_val()"
   ]
  },
  {
   "cell_type": "code",
   "execution_count": 4,
   "id": "06b126bc",
   "metadata": {},
   "outputs": [],
   "source": [
    "# Q2"
   ]
  },
  {
   "cell_type": "code",
   "execution_count": 5,
   "id": "44082305",
   "metadata": {},
   "outputs": [],
   "source": [
    "def returnSum(dict):\n",
    "    sum = 0\n",
    "    for i in dict.values():\n",
    "        if type(i) == int :\n",
    "            sum = sum + i\n",
    "    return sum\n",
    "    print(\"Sum :\",returnSum(dict))\n"
   ]
  },
  {
   "cell_type": "code",
   "execution_count": 6,
   "id": "d73041a0",
   "metadata": {},
   "outputs": [
    {
     "data": {
      "text/plain": [
       "850"
      ]
     },
     "execution_count": 6,
     "metadata": {},
     "output_type": "execute_result"
    }
   ],
   "source": [
    "returnSum({'a': 120, 'b': 700, 'c': 30})"
   ]
  },
  {
   "cell_type": "code",
   "execution_count": 7,
   "id": "3bb7796b",
   "metadata": {},
   "outputs": [],
   "source": [
    "# Q3"
   ]
  },
  {
   "cell_type": "code",
   "execution_count": 8,
   "id": "1f88ff20",
   "metadata": {},
   "outputs": [
    {
     "name": "stdout",
     "output_type": "stream",
     "text": [
      "{1: 'a', 2: 'c', 3: 'c', 4: 'd'}\n"
     ]
    }
   ],
   "source": [
    "dict_1 = {1: 'a', 2: 'b',3: 'c'}\n",
    "dict_2 = {2: 'c', 4: 'd'}\n",
    "\n",
    "print(dict_1 | dict_2)"
   ]
  },
  {
   "cell_type": "code",
   "execution_count": 9,
   "id": "8e32b089",
   "metadata": {},
   "outputs": [],
   "source": [
    "# Q4"
   ]
  },
  {
   "cell_type": "code",
   "execution_count": 15,
   "id": "e94f095a",
   "metadata": {},
   "outputs": [],
   "source": [
    "def flat_list(d=dict) :\n",
    "    l =[]\n",
    "    for i in d.keys() :\n",
    "        l.append(i)\n",
    "    for j in d.values() :\n",
    "        l.append(j)\n",
    "    print(l)"
   ]
  },
  {
   "cell_type": "code",
   "execution_count": 16,
   "id": "528ff316",
   "metadata": {},
   "outputs": [
    {
     "name": "stdout",
     "output_type": "stream",
     "text": [
      "[1, 2, 3, 4, 'a', 'e', 'c', 'd']\n"
     ]
    }
   ],
   "source": [
    "flat_list({1:'a',2:'b',3:'c',2:'e',4:'d'})"
   ]
  },
  {
   "cell_type": "code",
   "execution_count": 17,
   "id": "c2017366",
   "metadata": {},
   "outputs": [],
   "source": [
    "# Q5"
   ]
  },
  {
   "cell_type": "code",
   "execution_count": 19,
   "id": "895973be",
   "metadata": {},
   "outputs": [
    {
     "name": "stdout",
     "output_type": "stream",
     "text": [
      "The dictionary is :\n",
      "OrderedDict([('Will', '1'), ('James', '2'), ('Rob', '4')])\n",
      "\n",
      " The resultant dictionary is : \n",
      "OrderedDict([('Mark', '7'), ('Will', '1'), ('James', '2'), ('Rob', '4')])\n"
     ]
    }
   ],
   "source": [
    "from collections import OrderedDict\n",
    "\n",
    "my_ordered_dict = OrderedDict([('Will', '1'), ('James', '2'), ('Rob', '4')])\n",
    "print(\"The dictionary is :\")\n",
    "print(my_ordered_dict)\n",
    "my_ordered_dict.update({'Mark':'7'})\n",
    "my_ordered_dict.move_to_end('Mark', last = False)\n",
    "\n",
    "print(\"\\n The resultant dictionary is : \")\n",
    "print(my_ordered_dict)"
   ]
  },
  {
   "cell_type": "code",
   "execution_count": 20,
   "id": "fe4d7fa7",
   "metadata": {},
   "outputs": [],
   "source": [
    "# Q6"
   ]
  },
  {
   "cell_type": "code",
   "execution_count": 23,
   "id": "ce913ddf",
   "metadata": {},
   "outputs": [
    {
     "name": "stdout",
     "output_type": "stream",
     "text": [
      "The string is \n",
      "Hi Python\n",
      "\n",
      "The input pattern is \n",
      "yt\n",
      "The order of pattern is correct\n"
     ]
    }
   ],
   "source": [
    "from collections import OrderedDict\n",
    "def check_order(my_input, my_pattern):\n",
    "    my_dict = OrderedDict.fromkeys(my_input)\n",
    "    pattern_length = 0\n",
    "    for key,value in my_dict.items():\n",
    "        if (key == my_pattern[pattern_length]):\n",
    "            pattern_length = pattern_length + 1\n",
    "\n",
    "        if (pattern_length == (len(my_pattern))):\n",
    "            return 'The order of pattern is correct'\n",
    "\n",
    "    return 'The order of pattern is incorrect'\n",
    "\n",
    "my_input = 'Hi Python'\n",
    "input_pattern = 'yt'\n",
    "print(\"The string is \")\n",
    "print(my_input)\n",
    "print(\"\\nThe input pattern is \")\n",
    "print(input_pattern)\n",
    "print(check_order(my_input,input_pattern))"
   ]
  },
  {
   "cell_type": "code",
   "execution_count": 24,
   "id": "e5b82bcc",
   "metadata": {},
   "outputs": [],
   "source": [
    "# Q7"
   ]
  },
  {
   "cell_type": "code",
   "execution_count": 25,
   "id": "0296027d",
   "metadata": {},
   "outputs": [
    {
     "name": "stdout",
     "output_type": "stream",
     "text": [
      "{'ali': '90', 'isha': '22', 'john': '1', 'parul': '11', 'rock': '45'}\n"
     ]
    }
   ],
   "source": [
    "dictionary = {'john':'1','ali':'90','rock':'45','isha':'22','parul':'11'} \n",
    "sorted_keys = sorted(dictionary.keys())\n",
    "sorted_dict = {key:dictionary[key] for key in sorted_keys}\n",
    "print(sorted_dict)"
   ]
  },
  {
   "cell_type": "code",
   "execution_count": null,
   "id": "258f6551",
   "metadata": {},
   "outputs": [],
   "source": []
  }
 ],
 "metadata": {
  "kernelspec": {
   "display_name": "Python 3 (ipykernel)",
   "language": "python",
   "name": "python3"
  },
  "language_info": {
   "codemirror_mode": {
    "name": "ipython",
    "version": 3
   },
   "file_extension": ".py",
   "mimetype": "text/x-python",
   "name": "python",
   "nbconvert_exporter": "python",
   "pygments_lexer": "ipython3",
   "version": "3.9.12"
  }
 },
 "nbformat": 4,
 "nbformat_minor": 5
}
