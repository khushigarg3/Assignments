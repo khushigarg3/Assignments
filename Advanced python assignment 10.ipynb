{
 "cells": [
  {
   "cell_type": "code",
   "execution_count": 1,
   "id": "8ffc761d",
   "metadata": {},
   "outputs": [],
   "source": [
    "# Q1"
   ]
  },
  {
   "cell_type": "code",
   "execution_count": 2,
   "id": "426148f0",
   "metadata": {},
   "outputs": [
    {
     "data": {
      "text/plain": [
       "'__getattr__ gets called if there is no attribute in the instance.\\n\\nIt’s invoked “last”, if Python can’t find that attribute.(lowest priority)\\n\\n__getattribute__ gets called all the times, whether there is the attribute or not.\\n\\nIt’s invoked “first”(highest priority) — it actually “intercepts” every lookup.\\n\\nSo, even if there is the attribute in the instance, Python calls __getattribute__ first, with the attribute as an argument.'"
      ]
     },
     "execution_count": 2,
     "metadata": {},
     "output_type": "execute_result"
    }
   ],
   "source": [
    "\"\"\"__getattr__ gets called if there is no attribute in the instance.\n",
    "\n",
    "It’s invoked “last”, if Python can’t find that attribute.(lowest priority)\n",
    "\n",
    "__getattribute__ gets called all the times, whether there is the attribute or not.\n",
    "\n",
    "It’s invoked “first”(highest priority) — it actually “intercepts” every lookup.\n",
    "\n",
    "So, even if there is the attribute in the instance, Python calls __getattribute__ first, with the attribute as an argument.\"\"\""
   ]
  },
  {
   "cell_type": "code",
   "execution_count": 3,
   "id": "06309864",
   "metadata": {},
   "outputs": [],
   "source": [
    "# Q2"
   ]
  },
  {
   "cell_type": "code",
   "execution_count": 4,
   "id": "f50ba963",
   "metadata": {},
   "outputs": [
    {
     "data": {
      "text/plain": [
       "'The most accessible technique is to use the property function to define get, set and delete methods associated with an attribute name. The property function builds descriptors for you. \\n\\nA slightly less accessible, but more extensible and reusable technique is to define descriptor classes yourself. This allows you considerable flexibility. You do this by creating a class which defines get, set and delete methods, and you associate your descriptor class with an attribute name.'"
      ]
     },
     "execution_count": 4,
     "metadata": {},
     "output_type": "execute_result"
    }
   ],
   "source": [
    "\"\"\"The most accessible technique is to use the property function to define get, set and delete methods associated with an attribute name. The property function builds descriptors for you. \n",
    "\n",
    "A slightly less accessible, but more extensible and reusable technique is to define descriptor classes yourself. This allows you considerable flexibility. You do this by creating a class which defines get, set and delete methods, and you associate your descriptor class with an attribute name.\"\"\" "
   ]
  },
  {
   "cell_type": "code",
   "execution_count": null,
   "id": "997dd108",
   "metadata": {},
   "outputs": [],
   "source": []
  }
 ],
 "metadata": {
  "kernelspec": {
   "display_name": "Python 3 (ipykernel)",
   "language": "python",
   "name": "python3"
  },
  "language_info": {
   "codemirror_mode": {
    "name": "ipython",
    "version": 3
   },
   "file_extension": ".py",
   "mimetype": "text/x-python",
   "name": "python",
   "nbconvert_exporter": "python",
   "pygments_lexer": "ipython3",
   "version": "3.9.12"
  }
 },
 "nbformat": 4,
 "nbformat_minor": 5
}
