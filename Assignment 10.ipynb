{
 "cells": [
  {
   "cell_type": "code",
   "execution_count": 1,
   "id": "e0097560",
   "metadata": {},
   "outputs": [],
   "source": [
    "# Q1"
   ]
  },
  {
   "cell_type": "code",
   "execution_count": 2,
   "id": "919085a9",
   "metadata": {},
   "outputs": [
    {
     "data": {
      "text/plain": [
       "'The shutil.copy() function will copy a single file, while shutil.copytree() will copy an entire folder, along with all its contents.'"
      ]
     },
     "execution_count": 2,
     "metadata": {},
     "output_type": "execute_result"
    }
   ],
   "source": [
    "\"\"\"The shutil.copy() function will copy a single file, while shutil.copytree() will copy an entire folder, along with all its contents.\"\"\""
   ]
  },
  {
   "cell_type": "code",
   "execution_count": 3,
   "id": "e535a047",
   "metadata": {},
   "outputs": [],
   "source": [
    "# Q2"
   ]
  },
  {
   "cell_type": "code",
   "execution_count": 4,
   "id": "4607b603",
   "metadata": {},
   "outputs": [],
   "source": [
    "# The shutil.move() function is used for renaming files as well as moving them."
   ]
  },
  {
   "cell_type": "code",
   "execution_count": 5,
   "id": "b6fbb041",
   "metadata": {},
   "outputs": [],
   "source": [
    "# Q3"
   ]
  },
  {
   "cell_type": "code",
   "execution_count": 6,
   "id": "f33bc65c",
   "metadata": {},
   "outputs": [
    {
     "data": {
      "text/plain": [
       "'The send2trash functions will move a file or folder to the recycle bin, while shutil functions will permanently delete files and folders.'"
      ]
     },
     "execution_count": 6,
     "metadata": {},
     "output_type": "execute_result"
    }
   ],
   "source": [
    "\"\"\"The send2trash functions will move a file or folder to the recycle bin, while shutil functions will permanently delete files and folders.\"\"\""
   ]
  },
  {
   "cell_type": "code",
   "execution_count": 7,
   "id": "b5289279",
   "metadata": {},
   "outputs": [],
   "source": [
    "# Q4"
   ]
  },
  {
   "cell_type": "code",
   "execution_count": 8,
   "id": "26a3ff32",
   "metadata": {},
   "outputs": [],
   "source": [
    "# open the ZipFile object in write mode."
   ]
  },
  {
   "cell_type": "code",
   "execution_count": 9,
   "id": "4f24b4fd",
   "metadata": {},
   "outputs": [],
   "source": [
    "# Q5"
   ]
  },
  {
   "cell_type": "code",
   "execution_count": null,
   "id": "98c2b559",
   "metadata": {},
   "outputs": [],
   "source": [
    "\"\"\"import re\n",
    "import os\n",
    "import shutil\n",
    "\n",
    "filePdf = re.compile(r\"\"\"^(.*?)          # text before extension\n",
    "          [.][p][d][f]                   # extension .pdf\n",
    "          \"\"\", re.VERBOSE)\n",
    "\n",
    "def selectiveCopy(fileExtension):\n",
    "    for pdfFiles in os.listdir(\"/Users//Desktop/newPDFs\"):\n",
    "        locatedFiles = filePdf.search(pdfFiles)\n",
    "        if locatedFiles != None:\n",
    "            print(locatedFiles)\n",
    "            files_to_copy = os.path.join(\"/Users/my_user_name/Desktop/newPDFs\", pdfFiles)   `\n",
    "            shutil.copy(files_to_copy, \"/Users/my_user_name/Desktop/oldPDFs\")   \n",
    "            print(\"The following file has been copied \" + files_to_copy)\n",
    "selectiveCopy(filePdf)\"\"\""
   ]
  }
 ],
 "metadata": {
  "kernelspec": {
   "display_name": "Python 3 (ipykernel)",
   "language": "python",
   "name": "python3"
  },
  "language_info": {
   "codemirror_mode": {
    "name": "ipython",
    "version": 3
   },
   "file_extension": ".py",
   "mimetype": "text/x-python",
   "name": "python",
   "nbconvert_exporter": "python",
   "pygments_lexer": "ipython3",
   "version": "3.9.12"
  }
 },
 "nbformat": 4,
 "nbformat_minor": 5
}
