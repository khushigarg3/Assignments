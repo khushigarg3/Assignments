{
 "cells": [
  {
   "cell_type": "code",
   "execution_count": 1,
   "id": "724b609a",
   "metadata": {},
   "outputs": [],
   "source": [
    "# Q1"
   ]
  },
  {
   "cell_type": "code",
   "execution_count": 2,
   "id": "946fa785",
   "metadata": {},
   "outputs": [
    {
     "data": {
      "text/plain": [
       "'Many errors can be anticipated at design time and addressed with specific actions to help ensure positive customer interaction.\\nException processing is critical to catch errors and exceptions during execution of a service rule so that they can be communicated to the client application cleanly. \\nWhen the service encounters a processing error, and a condition evaluates to true, the application returns a defined error message to the calling application. The following conditions are available for defining an error response message.'"
      ]
     },
     "execution_count": 2,
     "metadata": {},
     "output_type": "execute_result"
    }
   ],
   "source": [
    "\"\"\"Many errors can be anticipated at design time and addressed with specific actions to help ensure positive customer interaction.\n",
    "Exception processing is critical to catch errors and exceptions during execution of a service rule so that they can be communicated to the client application cleanly. \n",
    "When the service encounters a processing error, and a condition evaluates to true, the application returns a defined error message to the calling application. The following conditions are available for defining an error response message.\"\"\""
   ]
  },
  {
   "cell_type": "code",
   "execution_count": 3,
   "id": "9b5840f5",
   "metadata": {},
   "outputs": [],
   "source": [
    "# Q2"
   ]
  },
  {
   "cell_type": "code",
   "execution_count": 4,
   "id": "db4aa419",
   "metadata": {},
   "outputs": [
    {
     "data": {
      "text/plain": [
       "\"When an exception occurred, if you don't handle it, the program terminates abruptly and the code past the line that caused the exception will not get executed.\""
      ]
     },
     "execution_count": 4,
     "metadata": {},
     "output_type": "execute_result"
    }
   ],
   "source": [
    "\"\"\"When an exception occurred, if you don't handle it, the program terminates abruptly and the code past the line that caused the exception will not get executed.\"\"\""
   ]
  },
  {
   "cell_type": "code",
   "execution_count": 5,
   "id": "e9641ffd",
   "metadata": {},
   "outputs": [],
   "source": [
    "# Q3"
   ]
  },
  {
   "cell_type": "code",
   "execution_count": 6,
   "id": "15d7c435",
   "metadata": {},
   "outputs": [
    {
     "data": {
      "text/plain": [
       "'In Python, we catch exceptions and handle them using try and except code blocks.\\nThe try clause contains the code that can raise an exception, while the except clause contains the code lines that handle the exception.'"
      ]
     },
     "execution_count": 6,
     "metadata": {},
     "output_type": "execute_result"
    }
   ],
   "source": [
    "\"\"\"In Python, we catch exceptions and handle them using try and except code blocks.\n",
    "The try clause contains the code that can raise an exception, while the except clause contains the code lines that handle the exception.\"\"\""
   ]
  },
  {
   "cell_type": "code",
   "execution_count": 7,
   "id": "788fac4b",
   "metadata": {},
   "outputs": [],
   "source": [
    "# Q4"
   ]
  },
  {
   "cell_type": "code",
   "execution_count": 8,
   "id": "f2470f54",
   "metadata": {},
   "outputs": [
    {
     "data": {
      "text/plain": [
       "'As a Python developer you can choose to throw an exception if a condition occurs. To throw (or raise) an exception, use the raise keyword.\\nRaise – Triggers an exception manually using custom exceptions.'"
      ]
     },
     "execution_count": 8,
     "metadata": {},
     "output_type": "execute_result"
    }
   ],
   "source": [
    "\"\"\"As a Python developer you can choose to throw an exception if a condition occurs. To throw (or raise) an exception, use the raise keyword.\n",
    "Raise – Triggers an exception manually using custom exceptions.\"\"\""
   ]
  },
  {
   "cell_type": "code",
   "execution_count": 9,
   "id": "0d368ee1",
   "metadata": {},
   "outputs": [],
   "source": [
    "# Q5"
   ]
  },
  {
   "cell_type": "code",
   "execution_count": 10,
   "id": "989ed546",
   "metadata": {},
   "outputs": [
    {
     "data": {
      "text/plain": [
       "'Sometimes regardless of whether the exception has occurred or not, you want some action to occur. In such cases, you can use the finally clause with try.'"
      ]
     },
     "execution_count": 10,
     "metadata": {},
     "output_type": "execute_result"
    }
   ],
   "source": [
    "\"\"\"Sometimes regardless of whether the exception has occurred or not, you want some action to occur. In such cases, you can use the finally clause with try.\"\"\" "
   ]
  },
  {
   "cell_type": "code",
   "execution_count": null,
   "id": "236c2a32",
   "metadata": {},
   "outputs": [],
   "source": []
  }
 ],
 "metadata": {
  "kernelspec": {
   "display_name": "Python 3 (ipykernel)",
   "language": "python",
   "name": "python3"
  },
  "language_info": {
   "codemirror_mode": {
    "name": "ipython",
    "version": 3
   },
   "file_extension": ".py",
   "mimetype": "text/x-python",
   "name": "python",
   "nbconvert_exporter": "python",
   "pygments_lexer": "ipython3",
   "version": "3.9.12"
  }
 },
 "nbformat": 4,
 "nbformat_minor": 5
}
