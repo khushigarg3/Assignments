{
 "cells": [
  {
   "cell_type": "code",
   "execution_count": 1,
   "id": "429ce80c",
   "metadata": {},
   "outputs": [],
   "source": [
    "# Q1"
   ]
  },
  {
   "cell_type": "code",
   "execution_count": 2,
   "id": "4e4bb080",
   "metadata": {},
   "outputs": [
    {
     "data": {
      "text/plain": [
       "'Excel is more superior when compared with the CSV file format; thus, CSV consumes less amount of file size when the user is importing data; it is a much faster format compared to excel.\\nCSV does not manipulate data and stores it as-is. Excel also allows the user the add-in feature.'"
      ]
     },
     "execution_count": 2,
     "metadata": {},
     "output_type": "execute_result"
    }
   ],
   "source": [
    "\"\"\"Excel is more superior when compared with the CSV file format; thus, CSV consumes less amount of file size when the user is importing data; it is a much faster format compared to excel.\n",
    "CSV does not manipulate data and stores it as-is. Excel also allows the user the add-in feature.\"\"\""
   ]
  },
  {
   "cell_type": "code",
   "execution_count": 3,
   "id": "d14ad6b1",
   "metadata": {},
   "outputs": [],
   "source": [
    "# Q2"
   ]
  },
  {
   "cell_type": "code",
   "execution_count": 4,
   "id": "7b11c5ff",
   "metadata": {},
   "outputs": [
    {
     "data": {
      "text/plain": [
       "\"First, call open() and pass it 'w' to open a file in write mode. This will create the object you can then pass to csv.writer() to create a Writer object.\""
      ]
     },
     "execution_count": 4,
     "metadata": {},
     "output_type": "execute_result"
    }
   ],
   "source": [
    "\"\"\"First, call open() and pass it 'w' to open a file in write mode. This will create the object you can then pass to csv.writer() to create a Writer object.\"\"\""
   ]
  },
  {
   "cell_type": "code",
   "execution_count": 5,
   "id": "1bba4acc",
   "metadata": {},
   "outputs": [],
   "source": [
    "# Q3"
   ]
  },
  {
   "cell_type": "code",
   "execution_count": 6,
   "id": "2f5e0df6",
   "metadata": {},
   "outputs": [
    {
     "data": {
      "text/plain": [
       "'In order to open a file for reading or writing purposes, we must use the built-in open() function. The open() function uses two arguments.\\nFirst is the name of the file and second is for what purpose we want to open it .'"
      ]
     },
     "execution_count": 6,
     "metadata": {},
     "output_type": "execute_result"
    }
   ],
   "source": [
    "\"\"\"In order to open a file for reading or writing purposes, we must use the built-in open() function. The open() function uses two arguments.\n",
    "First is the name of the file and second is for what purpose we want to open it .\"\"\""
   ]
  },
  {
   "cell_type": "code",
   "execution_count": 7,
   "id": "d703bc45",
   "metadata": {},
   "outputs": [],
   "source": [
    "# Q4"
   ]
  },
  {
   "cell_type": "code",
   "execution_count": 8,
   "id": "78d3e45c",
   "metadata": {},
   "outputs": [
    {
     "data": {
      "text/plain": [
       "'writerows()\\nThis function takes a list of iterables as parameter and writes each item as a comma separated line of items in the file.'"
      ]
     },
     "execution_count": 8,
     "metadata": {},
     "output_type": "execute_result"
    }
   ],
   "source": [
    "\"\"\"writerows()\n",
    "This function takes a list of iterables as parameter and writes each item as a comma separated line of items in the file.\"\"\""
   ]
  },
  {
   "cell_type": "code",
   "execution_count": 9,
   "id": "6fe24c7f",
   "metadata": {},
   "outputs": [],
   "source": [
    "# Q5"
   ]
  },
  {
   "cell_type": "code",
   "execution_count": 10,
   "id": "57035486",
   "metadata": {},
   "outputs": [
    {
     "data": {
      "text/plain": [
       "'The delimiter is the character that appears between cells on a row. By default, the delimiter for a CSV file is a comma.\\nThe line terminator is the character that comes at the end of a row. By default, the line terminator is a newline.'"
      ]
     },
     "execution_count": 10,
     "metadata": {},
     "output_type": "execute_result"
    }
   ],
   "source": [
    "\"\"\"The delimiter is the character that appears between cells on a row. By default, the delimiter for a CSV file is a comma.\n",
    "The line terminator is the character that comes at the end of a row. By default, the line terminator is a newline.\"\"\""
   ]
  },
  {
   "cell_type": "code",
   "execution_count": 11,
   "id": "20f82a20",
   "metadata": {},
   "outputs": [],
   "source": [
    "# Q6"
   ]
  },
  {
   "cell_type": "code",
   "execution_count": 12,
   "id": "6cffd763",
   "metadata": {},
   "outputs": [],
   "source": [
    "# loads() method return Python data structure of JSON string or data."
   ]
  },
  {
   "cell_type": "code",
   "execution_count": 13,
   "id": "0fcfd0ef",
   "metadata": {},
   "outputs": [],
   "source": [
    "# Q7"
   ]
  },
  {
   "cell_type": "code",
   "execution_count": null,
   "id": "4bf4993e",
   "metadata": {},
   "outputs": [],
   "source": [
    "# If you have a Python object, you can convert it into a JSON string by using the json.dumps() method."
   ]
  }
 ],
 "metadata": {
  "kernelspec": {
   "display_name": "Python 3 (ipykernel)",
   "language": "python",
   "name": "python3"
  },
  "language_info": {
   "codemirror_mode": {
    "name": "ipython",
    "version": 3
   },
   "file_extension": ".py",
   "mimetype": "text/x-python",
   "name": "python",
   "nbconvert_exporter": "python",
   "pygments_lexer": "ipython3",
   "version": "3.9.12"
  }
 },
 "nbformat": 4,
 "nbformat_minor": 5
}
