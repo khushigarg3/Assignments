{
 "cells": [
  {
   "cell_type": "code",
   "execution_count": 1,
   "id": "1ca74216",
   "metadata": {},
   "outputs": [],
   "source": [
    "# Q1"
   ]
  },
  {
   "cell_type": "code",
   "execution_count": 2,
   "id": "b5f29169",
   "metadata": {},
   "outputs": [
    {
     "data": {
      "text/plain": [
       "'A metaclass in Python is a class of a class that defines how a class behaves. A class is itself an instance of a metaclass.\\nA class in Python defines how the instance of the class will behave.'"
      ]
     },
     "execution_count": 2,
     "metadata": {},
     "output_type": "execute_result"
    }
   ],
   "source": [
    "\"\"\"A metaclass in Python is a class of a class that defines how a class behaves. A class is itself an instance of a metaclass.\n",
    "A class in Python defines how the instance of the class will behave.\"\"\""
   ]
  },
  {
   "cell_type": "code",
   "execution_count": 3,
   "id": "88fd1367",
   "metadata": {},
   "outputs": [],
   "source": [
    "# Q2"
   ]
  },
  {
   "cell_type": "code",
   "execution_count": 4,
   "id": "758aeed2",
   "metadata": {},
   "outputs": [
    {
     "data": {
      "text/plain": [
       "'To create our custom metaclass, our custom metaclass has to inherit type metaclass and usually override – \\n\\n__new__(): It’s a method which is called before __init__(). It creates the object and returns it. We can override this method to control how the objects are created.\\n__init__(): This method just initialize the created object passed as a parameter'"
      ]
     },
     "execution_count": 4,
     "metadata": {},
     "output_type": "execute_result"
    }
   ],
   "source": [
    "\"\"\"To create our custom metaclass, our custom metaclass has to inherit type metaclass and usually override – \n",
    "\n",
    "__new__(): It’s a method which is called before __init__(). It creates the object and returns it. We can override this method to control how the objects are created.\n",
    "__init__(): This method just initialize the created object passed as a parameter\"\"\""
   ]
  },
  {
   "cell_type": "code",
   "execution_count": 5,
   "id": "ed5ef7da",
   "metadata": {},
   "outputs": [],
   "source": [
    "# Q3"
   ]
  },
  {
   "cell_type": "code",
   "execution_count": 6,
   "id": "3874b133",
   "metadata": {},
   "outputs": [
    {
     "data": {
      "text/plain": [
       "'Decorators are much, much simpler and more limited -- and therefore should be preferred whenever the desired effect can be achieved with either a metaclass or a class decorator.\\n\\nAnything you can do with a class decorator, you can of course do with a custom metaclass (just apply the functionality of the \"decorator function\", i.e., the one that takes a class object and modifies it, in the course of the metaclass\\'s __new__ or __init__ that make the class object!-).'"
      ]
     },
     "execution_count": 6,
     "metadata": {},
     "output_type": "execute_result"
    }
   ],
   "source": [
    "\"\"\"Decorators are much, much simpler and more limited -- and therefore should be preferred whenever the desired effect can be achieved with either a metaclass or a class decorator.\n",
    "\n",
    "Anything you can do with a class decorator, you can of course do with a custom metaclass (just apply the functionality of the \"decorator function\", i.e., the one that takes a class object and modifies it, in the course of the metaclass's __new__ or __init__ that make the class object!-).\"\"\""
   ]
  },
  {
   "cell_type": "code",
   "execution_count": null,
   "id": "be47b6f6",
   "metadata": {},
   "outputs": [],
   "source": []
  }
 ],
 "metadata": {
  "kernelspec": {
   "display_name": "Python 3 (ipykernel)",
   "language": "python",
   "name": "python3"
  },
  "language_info": {
   "codemirror_mode": {
    "name": "ipython",
    "version": 3
   },
   "file_extension": ".py",
   "mimetype": "text/x-python",
   "name": "python",
   "nbconvert_exporter": "python",
   "pygments_lexer": "ipython3",
   "version": "3.9.12"
  }
 },
 "nbformat": 4,
 "nbformat_minor": 5
}
