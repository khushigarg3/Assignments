{
 "cells": [
  {
   "cell_type": "code",
   "execution_count": 1,
   "id": "1cb84154",
   "metadata": {},
   "outputs": [],
   "source": [
    "# Q1"
   ]
  },
  {
   "cell_type": "code",
   "execution_count": 1,
   "id": "aac20adc",
   "metadata": {},
   "outputs": [],
   "source": [
    "# re. compile() function returns Regex objects.\n"
   ]
  },
  {
   "cell_type": "code",
   "execution_count": 2,
   "id": "df3bc084",
   "metadata": {},
   "outputs": [],
   "source": [
    "# Q2"
   ]
  },
  {
   "cell_type": "code",
   "execution_count": 3,
   "id": "9f0948a3",
   "metadata": {},
   "outputs": [
    {
     "data": {
      "text/plain": [
       "'raw string notation (r\"text\") keeps regular expressions meaningful and confusion-free.\\nWithout it, every backslash (\\'\\') in a regular expression would have to be prefixed with another one to escape it.'"
      ]
     },
     "execution_count": 3,
     "metadata": {},
     "output_type": "execute_result"
    }
   ],
   "source": [
    "\"\"\"raw string notation (r\"text\") keeps regular expressions meaningful and confusion-free.\n",
    "Without it, every backslash ('\\') in a regular expression would have to be prefixed with another one to escape it.\"\"\""
   ]
  },
  {
   "cell_type": "code",
   "execution_count": 4,
   "id": "92d71fdb",
   "metadata": {},
   "outputs": [],
   "source": [
    "# Q3"
   ]
  },
  {
   "cell_type": "code",
   "execution_count": 5,
   "id": "ea7783c4",
   "metadata": {},
   "outputs": [
    {
     "data": {
      "text/plain": [
       "'Python re.search() is an inbuilt regex function that searches the string for a match and returns the match object if there is a match.\\nThe re.search() function takes two parameters and returns a match object if there is a match.'"
      ]
     },
     "execution_count": 5,
     "metadata": {},
     "output_type": "execute_result"
    }
   ],
   "source": [
    "\"\"\"Python re.search() is an inbuilt regex function that searches the string for a match and returns the match object if there is a match.\n",
    "The re.search() function takes two parameters and returns a match object if there is a match.\"\"\""
   ]
  },
  {
   "cell_type": "code",
   "execution_count": 6,
   "id": "e9ddd1d5",
   "metadata": {},
   "outputs": [],
   "source": [
    "# Q4"
   ]
  },
  {
   "cell_type": "code",
   "execution_count": 7,
   "id": "e658a238",
   "metadata": {},
   "outputs": [
    {
     "data": {
      "text/plain": [
       "'Import the regex module with import re.\\nCreate a Regex object with the re.compile() function. (Remember to use a raw string.)\\nPass the string you want to search into the Regex object’s search() method. This returns a Match object.\\nCall the Match object’s group() method to return a string of the actual matched text.'"
      ]
     },
     "execution_count": 7,
     "metadata": {},
     "output_type": "execute_result"
    }
   ],
   "source": [
    "\"\"\"Import the regex module with import re.\n",
    "Create a Regex object with the re.compile() function. (Remember to use a raw string.)\n",
    "Pass the string you want to search into the Regex object’s search() method. This returns a Match object.\n",
    "Call the Match object’s group() method to return a string of the actual matched text.\"\"\"\n"
   ]
  },
  {
   "cell_type": "code",
   "execution_count": 8,
   "id": "765462a3",
   "metadata": {},
   "outputs": [],
   "source": [
    "# Q5"
   ]
  },
  {
   "cell_type": "code",
   "execution_count": 9,
   "id": "9c56e2d2",
   "metadata": {},
   "outputs": [
    {
     "data": {
      "text/plain": [
       "'Group 0 is the entire match, group 1 covers the first set of parentheses, and group 2 covers the second set of parentheses.'"
      ]
     },
     "execution_count": 9,
     "metadata": {},
     "output_type": "execute_result"
    }
   ],
   "source": [
    "\"\"\"Group 0 is the entire match, group 1 covers the first set of parentheses, and group 2 covers the second set of parentheses.\"\"\""
   ]
  },
  {
   "cell_type": "code",
   "execution_count": 10,
   "id": "3e482dd7",
   "metadata": {},
   "outputs": [],
   "source": [
    "# Q6"
   ]
  },
  {
   "cell_type": "code",
   "execution_count": 11,
   "id": "dee10cc5",
   "metadata": {},
   "outputs": [],
   "source": [
    "# Periods and parentheses can be escaped with a backslash: \\., \\(, and \\)."
   ]
  },
  {
   "cell_type": "code",
   "execution_count": 12,
   "id": "ac8930d6",
   "metadata": {},
   "outputs": [],
   "source": [
    "# Q7"
   ]
  },
  {
   "cell_type": "code",
   "execution_count": 13,
   "id": "daaf3b1e",
   "metadata": {},
   "outputs": [
    {
     "data": {
      "text/plain": [
       "'findall returns a list of strings, not a Match object.\\nAs soon as a group appears in regex, findall behaves differently. If one group is used in the expression, findall returns a list of strings that matches with expression in the group.\\nfindall searches for a match of the entire string but returns a result similar to group method in Match object. If there are several groups, findall will return the list of tuples.'"
      ]
     },
     "execution_count": 13,
     "metadata": {},
     "output_type": "execute_result"
    }
   ],
   "source": [
    "\"\"\"findall returns a list of strings, not a Match object.\n",
    "As soon as a group appears in regex, findall behaves differently. If one group is used in the expression, findall returns a list of strings that matches with expression in the group.\n",
    "findall searches for a match of the entire string but returns a result similar to group method in Match object. If there are several groups, findall will return the list of tuples.\"\"\""
   ]
  },
  {
   "cell_type": "code",
   "execution_count": 14,
   "id": "16c341b3",
   "metadata": {},
   "outputs": [],
   "source": [
    "# Q8"
   ]
  },
  {
   "cell_type": "code",
   "execution_count": 15,
   "id": "6cc8d5e5",
   "metadata": {},
   "outputs": [],
   "source": [
    "# | mean logical or"
   ]
  },
  {
   "cell_type": "code",
   "execution_count": 16,
   "id": "7e19ad16",
   "metadata": {},
   "outputs": [],
   "source": [
    "# Q10"
   ]
  },
  {
   "cell_type": "code",
   "execution_count": 17,
   "id": "1a724843",
   "metadata": {},
   "outputs": [
    {
     "data": {
      "text/plain": [
       "'(*) tells the computer to match the preceding character (or set of characters) for 0 or more times (upto infinite).\\n\\n(+) tells the computer to repeat the preceding character (or set of characters) for atleast one or more times(upto infinite).'"
      ]
     },
     "execution_count": 17,
     "metadata": {},
     "output_type": "execute_result"
    }
   ],
   "source": [
    "\"\"\"(*) tells the computer to match the preceding character (or set of characters) for 0 or more times (upto infinite).\n",
    "\n",
    "(+) tells the computer to repeat the preceding character (or set of characters) for atleast one or more times(upto infinite).\"\"\""
   ]
  },
  {
   "cell_type": "code",
   "execution_count": null,
   "id": "156d4e0d",
   "metadata": {},
   "outputs": [],
   "source": [
    "# Q11"
   ]
  },
  {
   "cell_type": "code",
   "execution_count": 43,
   "id": "2ed1f328",
   "metadata": {},
   "outputs": [],
   "source": [
    "# {4} is saying \"match this pattern three times.\" {4,5} means \"match this pattern three to five times.\""
   ]
  },
  {
   "cell_type": "code",
   "execution_count": 19,
   "id": "a6521087",
   "metadata": {},
   "outputs": [],
   "source": [
    "# Q12"
   ]
  },
  {
   "cell_type": "code",
   "execution_count": 20,
   "id": "2ae0b18f",
   "metadata": {},
   "outputs": [
    {
     "data": {
      "text/plain": [
       "'\\\\d      A digit 0-9\\n\\\\w      A word character\\n\\\\s      A whitespace character, including line break'"
      ]
     },
     "execution_count": 20,
     "metadata": {},
     "output_type": "execute_result"
    }
   ],
   "source": [
    "\"\"\"\\d      A digit 0-9\n",
    "\\w      A word character\n",
    "\\s      A whitespace character, including line break\"\"\""
   ]
  },
  {
   "cell_type": "code",
   "execution_count": 21,
   "id": "800597de",
   "metadata": {},
   "outputs": [],
   "source": [
    "# Q13"
   ]
  },
  {
   "cell_type": "code",
   "execution_count": 22,
   "id": "31583d3e",
   "metadata": {},
   "outputs": [
    {
     "data": {
      "text/plain": [
       "'\\\\D         A non-digit\\n\\\\S         A non-whitespace chacracter\\n\\\\W          A non-word character'"
      ]
     },
     "execution_count": 22,
     "metadata": {},
     "output_type": "execute_result"
    }
   ],
   "source": [
    "\"\"\"\\D         A non-digit\n",
    "\\S         A non-whitespace chacracter\n",
    "\\W          A non-word character\"\"\""
   ]
  },
  {
   "cell_type": "code",
   "execution_count": 23,
   "id": "909e452f",
   "metadata": {},
   "outputs": [],
   "source": [
    "# Q14"
   ]
  },
  {
   "cell_type": "code",
   "execution_count": 24,
   "id": "7e624903",
   "metadata": {},
   "outputs": [
    {
     "data": {
      "text/plain": [
       "\"(.*?) matches any character (.) any number of times (*), as few times as possible to make the regex match (?).\\nYou'll get a match on any string, but you'll only capture a blank string because of the question mark.\\n\\n(.*)? captures a group zero or one times (?). That group consists of a run of any length (*) of any character (.).\""
      ]
     },
     "execution_count": 24,
     "metadata": {},
     "output_type": "execute_result"
    }
   ],
   "source": [
    "\"\"\"(.*?) matches any character (.) any number of times (*), as few times as possible to make the regex match (?).\n",
    "You'll get a match on any string, but you'll only capture a blank string because of the question mark.\n",
    "\n",
    "(.*)? captures a group zero or one times (?). That group consists of a run of any length (*) of any character (.).\"\"\""
   ]
  },
  {
   "cell_type": "code",
   "execution_count": 25,
   "id": "1a7d40b8",
   "metadata": {},
   "outputs": [],
   "source": [
    "# Q15"
   ]
  },
  {
   "cell_type": "code",
   "execution_count": 26,
   "id": "f377b2a1",
   "metadata": {},
   "outputs": [],
   "source": [
    "# the character class [a-zA-Z0-9] will match all lowercase letters, uppercase letters, and numbers."
   ]
  },
  {
   "cell_type": "code",
   "execution_count": 27,
   "id": "d7e8f329",
   "metadata": {},
   "outputs": [],
   "source": [
    "# Q16"
   ]
  },
  {
   "cell_type": "code",
   "execution_count": 28,
   "id": "aa0602f3",
   "metadata": {},
   "outputs": [],
   "source": [
    "# We can pass re.IGNORECASE to the flags parameter of search, match, or sub"
   ]
  },
  {
   "cell_type": "code",
   "execution_count": 29,
   "id": "ba030de3",
   "metadata": {},
   "outputs": [],
   "source": [
    "# Q17"
   ]
  },
  {
   "cell_type": "code",
   "execution_count": 30,
   "id": "3540e85e",
   "metadata": {},
   "outputs": [],
   "source": [
    "# character normally matches any character except the newline character. If re. DOTALL is passed as the second argument to re. compile(), then the dot will also match newline characters."
   ]
  },
  {
   "cell_type": "code",
   "execution_count": 31,
   "id": "e023898c",
   "metadata": {},
   "outputs": [],
   "source": [
    "# Q18"
   ]
  },
  {
   "cell_type": "code",
   "execution_count": 32,
   "id": "41ab1c4f",
   "metadata": {},
   "outputs": [],
   "source": [
    "# X drummers, X pipers, five rings, X hens"
   ]
  },
  {
   "cell_type": "code",
   "execution_count": 33,
   "id": "271bd837",
   "metadata": {},
   "outputs": [],
   "source": [
    "# Q19"
   ]
  },
  {
   "cell_type": "code",
   "execution_count": 34,
   "id": "82db67a1",
   "metadata": {},
   "outputs": [
    {
     "data": {
      "text/plain": [
       "'To ignore whitespace and comments inside the regular expression string.'"
      ]
     },
     "execution_count": 34,
     "metadata": {},
     "output_type": "execute_result"
    }
   ],
   "source": [
    "\"\"\"To ignore whitespace and comments inside the regular expression string.\"\"\""
   ]
  },
  {
   "cell_type": "code",
   "execution_count": 35,
   "id": "7989dfb7",
   "metadata": {},
   "outputs": [],
   "source": [
    "# Q20"
   ]
  },
  {
   "cell_type": "code",
   "execution_count": 37,
   "id": "e8f7fbcc",
   "metadata": {},
   "outputs": [],
   "source": [
    "# numCommas = re.compile(r'(^\\d{1,3})(,\\d{3})*$') numCommas.search('12,34,567').group()"
   ]
  },
  {
   "cell_type": "code",
   "execution_count": 38,
   "id": "daaafa5b",
   "metadata": {},
   "outputs": [],
   "source": [
    "# Q21"
   ]
  },
  {
   "cell_type": "code",
   "execution_count": 39,
   "id": "cbcda07b",
   "metadata": {},
   "outputs": [],
   "source": [
    "# fullName = re.compile(r'[A-Z]\\w [A-Z]\\w') mo = fullName.findall('Haruto Watanabe, haruto watanabe, Alice Watanabe, Mr.Watanabe, Robocop Watanabe , Watanabe') mo.group()"
   ]
  },
  {
   "cell_type": "code",
   "execution_count": 40,
   "id": "1f881d6c",
   "metadata": {},
   "outputs": [],
   "source": [
    "# Q22"
   ]
  },
  {
   "cell_type": "code",
   "execution_count": 41,
   "id": "407a4c3e",
   "metadata": {},
   "outputs": [],
   "source": [
    "# Test result: [('Alice', 'eats', 'apples'), ('Bob', 'pets', 'cats'), ('Carol', 'throws', 'baseballs'), ('Alice', 'throws', 'Apples'), ('BOB', 'EATS', 'CATS')]"
   ]
  },
  {
   "cell_type": "code",
   "execution_count": null,
   "id": "671fa129",
   "metadata": {},
   "outputs": [],
   "source": []
  }
 ],
 "metadata": {
  "kernelspec": {
   "display_name": "Python 3 (ipykernel)",
   "language": "python",
   "name": "python3"
  },
  "language_info": {
   "codemirror_mode": {
    "name": "ipython",
    "version": 3
   },
   "file_extension": ".py",
   "mimetype": "text/x-python",
   "name": "python",
   "nbconvert_exporter": "python",
   "pygments_lexer": "ipython3",
   "version": "3.9.12"
  }
 },
 "nbformat": 4,
 "nbformat_minor": 5
}
