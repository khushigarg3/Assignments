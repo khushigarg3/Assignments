{
 "cells": [
  {
   "cell_type": "code",
   "execution_count": 2,
   "id": "28e8165c",
   "metadata": {},
   "outputs": [
    {
     "name": "stdout",
     "output_type": "stream",
     "text": [
      "Enter no. of terms in sequence :10\n",
      "Fibonacci sequence:\n",
      "0\n",
      "1\n",
      "1\n",
      "2\n",
      "3\n",
      "5\n",
      "8\n",
      "13\n",
      "21\n",
      "34\n"
     ]
    }
   ],
   "source": [
    "# Python program to display the Fibonacci sequence using recursion :-\n",
    "\n",
    "def recur_fib(n):\n",
    "    if n <= 1:\n",
    "        return n\n",
    "    else:\n",
    "        return(recur_fib(n-1) + recur_fib(n-2))\n",
    "\n",
    "nterms = int(input(\"Enter no. of terms in sequence :\"))\n",
    "\n",
    "if nterms <= 0:\n",
    "   print(\"Plese enter a positive integer\")\n",
    "else:\n",
    "   print(\"Fibonacci sequence:\")\n",
    "   for i in range(nterms):\n",
    "       print(recur_fib(i))\n"
   ]
  },
  {
   "cell_type": "code",
   "execution_count": 3,
   "id": "aec3a3c4",
   "metadata": {},
   "outputs": [
    {
     "name": "stdout",
     "output_type": "stream",
     "text": [
      "Enter a number :6\n",
      "The factorial of 6 is 720\n"
     ]
    }
   ],
   "source": [
    "# Factorial of a number using recursion :-\n",
    "\n",
    "def recur_fac(n):\n",
    "    if n == 1:\n",
    "        return n\n",
    "    else:\n",
    "        return n*recur_fac(n-1)\n",
    "\n",
    "num = int(input(\"Enter a number :\"))\n",
    "if num < 0:\n",
    "    print(\"Sorry, factorial does not exist for negative numbers\")\n",
    "elif num == 0:\n",
    "    print(\"The factorial of 0 is 1\")\n",
    "else:\n",
    "    print(\"The factorial of\", num, \"is\", recur_fac(num))\n"
   ]
  },
  {
   "cell_type": "code",
   "execution_count": 4,
   "id": "7ccc3bdb",
   "metadata": {},
   "outputs": [
    {
     "name": "stdout",
     "output_type": "stream",
     "text": [
      "Enter your height in mtr(s) :1.79832\n",
      "Enter your weight in Kg(s) :70\n",
      "The BMI is 21.64532402096181 so Healthy\n"
     ]
    }
   ],
   "source": [
    "# Python program to calculate BMI :-\n",
    "\n",
    "def BMI(height, weight):\n",
    "    bmi = weight/(height**2)\n",
    "    return bmi\n",
    "\n",
    "height = float(input(\"Enter your height in mtr(s) :\"))\n",
    "weight = float(input(\"Enter your weight in Kg(s) :\"))\n",
    "\n",
    "bmi = BMI(height, weight)\n",
    "print(\"The BMI is\", format(bmi), \"so \", end='')\n",
    "\n",
    "if (bmi < 18.5):\n",
    "     print(\"underweight\")\n",
    "\n",
    "elif ( bmi >= 18.5 and bmi < 24.9):\n",
    "     print(\"Healthy\")\n",
    "\n",
    "elif ( bmi >= 24.9 and bmi < 30):\n",
    "     print(\"overweight\")\n",
    "\n",
    "elif ( bmi >=30):\n",
    "     print(\"Suffering from Obesity\")\n"
   ]
  },
  {
   "cell_type": "code",
   "execution_count": 8,
   "id": "cbf1eb9e",
   "metadata": {},
   "outputs": [
    {
     "name": "stdout",
     "output_type": "stream",
     "text": [
      "Enter a number :14\n",
      "Natural logarithm of 14 is : 2.6390573296152584\n"
     ]
    }
   ],
   "source": [
    "# Program to calculate natural log of a number :-\n",
    "\n",
    "import math\n",
    "n = int(input(\"Enter a number :\"))\n",
    "print (\"Natural logarithm of\",n,\"is : \", end=\"\")\n",
    "print (math.log(n))\n",
    "\n"
   ]
  },
  {
   "cell_type": "code",
   "execution_count": 9,
   "id": "18176cd6",
   "metadata": {},
   "outputs": [
    {
     "name": "stdout",
     "output_type": "stream",
     "text": [
      "Enter a positive number :5\n",
      "225\n"
     ]
    }
   ],
   "source": [
    "# Python code to print cube sum of first n natural numbers :-\n",
    "# using inbuilt function pow()\n",
    "\n",
    "n=int(input(\"Enter a positive number :\"))\n",
    "s=0\n",
    "for i in range(1,n+1):\n",
    "    s=s+pow(i,3)\n",
    "print(s)\n"
   ]
  },
  {
   "cell_type": "code",
   "execution_count": null,
   "id": "1ef9bc4a",
   "metadata": {},
   "outputs": [],
   "source": []
  }
 ],
 "metadata": {
  "kernelspec": {
   "display_name": "Python 3 (ipykernel)",
   "language": "python",
   "name": "python3"
  },
  "language_info": {
   "codemirror_mode": {
    "name": "ipython",
    "version": 3
   },
   "file_extension": ".py",
   "mimetype": "text/x-python",
   "name": "python",
   "nbconvert_exporter": "python",
   "pygments_lexer": "ipython3",
   "version": "3.9.12"
  }
 },
 "nbformat": 4,
 "nbformat_minor": 5
}
