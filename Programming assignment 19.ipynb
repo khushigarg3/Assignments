{
 "cells": [
  {
   "cell_type": "code",
   "execution_count": 1,
   "id": "809904d5",
   "metadata": {},
   "outputs": [],
   "source": [
    "# Q1"
   ]
  },
  {
   "cell_type": "code",
   "execution_count": 4,
   "id": "94a0be34",
   "metadata": {},
   "outputs": [],
   "source": [
    "def double_char(str):\n",
    "    outstr = ''\n",
    "    for char in str:\n",
    "        outstr = outstr + char + char\n",
    "    return outstr"
   ]
  },
  {
   "cell_type": "code",
   "execution_count": 5,
   "id": "779b6d25",
   "metadata": {},
   "outputs": [
    {
     "name": "stdout",
     "output_type": "stream",
     "text": [
      "SSttrriinngg\n"
     ]
    }
   ],
   "source": [
    "s = \"String\"\n",
    "print(double_char(s))"
   ]
  },
  {
   "cell_type": "code",
   "execution_count": 6,
   "id": "fe1c49e2",
   "metadata": {},
   "outputs": [
    {
     "name": "stdout",
     "output_type": "stream",
     "text": [
      "HHeelllloo  WWoorrlldd  !!\n"
     ]
    }
   ],
   "source": [
    "s = \"Hello World !\"\n",
    "print(double_char(s))"
   ]
  },
  {
   "cell_type": "code",
   "execution_count": 7,
   "id": "04c054e7",
   "metadata": {},
   "outputs": [
    {
     "name": "stdout",
     "output_type": "stream",
     "text": [
      "11223344!!__  \n"
     ]
    }
   ],
   "source": [
    "s = \"1234!_ \"\n",
    "print(double_char(s))"
   ]
  },
  {
   "cell_type": "code",
   "execution_count": 8,
   "id": "ec39867b",
   "metadata": {},
   "outputs": [],
   "source": [
    "# Q2"
   ]
  },
  {
   "cell_type": "code",
   "execution_count": 17,
   "id": "8530a833",
   "metadata": {},
   "outputs": [],
   "source": [
    "def reverse(bool):\n",
    "        if bool == True:\n",
    "            return False\n",
    "        elif bool == False:\n",
    "            return True\n",
    "        else:\n",
    "            print(\"boolean expected\")"
   ]
  },
  {
   "cell_type": "code",
   "execution_count": 18,
   "id": "881de5d4",
   "metadata": {},
   "outputs": [
    {
     "data": {
      "text/plain": [
       "False"
      ]
     },
     "execution_count": 18,
     "metadata": {},
     "output_type": "execute_result"
    }
   ],
   "source": [
    "reverse(True)"
   ]
  },
  {
   "cell_type": "code",
   "execution_count": 19,
   "id": "84273c3b",
   "metadata": {},
   "outputs": [
    {
     "data": {
      "text/plain": [
       "True"
      ]
     },
     "execution_count": 19,
     "metadata": {},
     "output_type": "execute_result"
    }
   ],
   "source": [
    "reverse(False)"
   ]
  },
  {
   "cell_type": "code",
   "execution_count": 20,
   "id": "0f9d1a08",
   "metadata": {},
   "outputs": [
    {
     "data": {
      "text/plain": [
       "True"
      ]
     },
     "execution_count": 20,
     "metadata": {},
     "output_type": "execute_result"
    }
   ],
   "source": [
    "reverse(0)"
   ]
  },
  {
   "cell_type": "code",
   "execution_count": 21,
   "id": "dec33962",
   "metadata": {},
   "outputs": [
    {
     "name": "stdout",
     "output_type": "stream",
     "text": [
      "boolean expected\n"
     ]
    }
   ],
   "source": [
    "reverse(None)"
   ]
  },
  {
   "cell_type": "code",
   "execution_count": 42,
   "id": "f0d3a98a",
   "metadata": {},
   "outputs": [],
   "source": [
    "# Q4"
   ]
  },
  {
   "cell_type": "code",
   "execution_count": 43,
   "id": "41a88db2",
   "metadata": {},
   "outputs": [],
   "source": [
    "def index_of_caps(test_str) :\n",
    "    res = [idx for idx in range(len(test_str)) if test_str[idx].isupper()]\n",
    "    print(\"Uppercase elements indices : \" + str(res))\n"
   ]
  },
  {
   "cell_type": "code",
   "execution_count": 44,
   "id": "771a5402",
   "metadata": {},
   "outputs": [
    {
     "name": "stdout",
     "output_type": "stream",
     "text": [
      "Uppercase elements indices : [1, 3, 5]\n"
     ]
    }
   ],
   "source": [
    "index_of_caps(\"eDaBiT\")"
   ]
  },
  {
   "cell_type": "code",
   "execution_count": 46,
   "id": "fab29e69",
   "metadata": {},
   "outputs": [
    {
     "name": "stdout",
     "output_type": "stream",
     "text": [
      "Uppercase elements indices : []\n"
     ]
    }
   ],
   "source": [
    "index_of_caps(\"determine\")"
   ]
  },
  {
   "cell_type": "code",
   "execution_count": 47,
   "id": "66a3001b",
   "metadata": {},
   "outputs": [
    {
     "name": "stdout",
     "output_type": "stream",
     "text": [
      "Uppercase elements indices : [1, 3, 4, 6]\n"
     ]
    }
   ],
   "source": [
    "index_of_caps(\"eQuINoX\")"
   ]
  },
  {
   "cell_type": "code",
   "execution_count": 49,
   "id": "2d9abab9",
   "metadata": {},
   "outputs": [
    {
     "name": "stdout",
     "output_type": "stream",
     "text": [
      "Uppercase elements indices : [0, 1, 2, 3, 4, 5]\n"
     ]
    }
   ],
   "source": [
    "index_of_caps(\"STRIKE\")"
   ]
  },
  {
   "cell_type": "code",
   "execution_count": 50,
   "id": "beb31ad6",
   "metadata": {},
   "outputs": [
    {
     "name": "stdout",
     "output_type": "stream",
     "text": [
      "Uppercase elements indices : [1]\n"
     ]
    }
   ],
   "source": [
    "index_of_caps(\"sUn\")"
   ]
  },
  {
   "cell_type": "code",
   "execution_count": 51,
   "id": "7ede3c21",
   "metadata": {},
   "outputs": [],
   "source": [
    "# Q5"
   ]
  },
  {
   "cell_type": "code",
   "execution_count": 57,
   "id": "6f5dbdab",
   "metadata": {},
   "outputs": [],
   "source": [
    "def find_even_nums(n) :\n",
    "    l = [i for i in range (1,n+1) if(i%2==0)]\n",
    "    print(l)"
   ]
  },
  {
   "cell_type": "code",
   "execution_count": 58,
   "id": "d21b6c2a",
   "metadata": {},
   "outputs": [
    {
     "name": "stdout",
     "output_type": "stream",
     "text": [
      "[2, 4, 6, 8]\n"
     ]
    }
   ],
   "source": [
    "find_even_nums(8)"
   ]
  },
  {
   "cell_type": "code",
   "execution_count": 59,
   "id": "40ee5244",
   "metadata": {},
   "outputs": [
    {
     "name": "stdout",
     "output_type": "stream",
     "text": [
      "[2, 4]\n"
     ]
    }
   ],
   "source": [
    "find_even_nums(4)"
   ]
  },
  {
   "cell_type": "code",
   "execution_count": 60,
   "id": "b2caa4dd",
   "metadata": {},
   "outputs": [
    {
     "name": "stdout",
     "output_type": "stream",
     "text": [
      "[2]\n"
     ]
    }
   ],
   "source": [
    "find_even_nums(2)"
   ]
  },
  {
   "cell_type": "code",
   "execution_count": null,
   "id": "8fb281c6",
   "metadata": {},
   "outputs": [],
   "source": []
  }
 ],
 "metadata": {
  "kernelspec": {
   "display_name": "Python 3 (ipykernel)",
   "language": "python",
   "name": "python3"
  },
  "language_info": {
   "codemirror_mode": {
    "name": "ipython",
    "version": 3
   },
   "file_extension": ".py",
   "mimetype": "text/x-python",
   "name": "python",
   "nbconvert_exporter": "python",
   "pygments_lexer": "ipython3",
   "version": "3.9.12"
  }
 },
 "nbformat": 4,
 "nbformat_minor": 5
}
