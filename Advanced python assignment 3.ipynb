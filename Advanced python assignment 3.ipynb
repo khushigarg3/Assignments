{
 "cells": [
  {
   "cell_type": "code",
   "execution_count": 1,
   "id": "c9e41c7b",
   "metadata": {},
   "outputs": [],
   "source": [
    "# Q1"
   ]
  },
  {
   "cell_type": "code",
   "execution_count": 2,
   "id": "093f2e95",
   "metadata": {},
   "outputs": [
    {
     "data": {
      "text/plain": [
       "'A class is called an Abstract class if it contains one or more abstract methods.\\nAn abstract method is a method that is declared, but contains no implementation.\\nAbstract classes may not be instantiated, and its abstract methods must be implemented by its subclasses.'"
      ]
     },
     "execution_count": 2,
     "metadata": {},
     "output_type": "execute_result"
    }
   ],
   "source": [
    "\"\"\"A class is called an Abstract class if it contains one or more abstract methods.\n",
    "An abstract method is a method that is declared, but contains no implementation.\n",
    "Abstract classes may not be instantiated, and its abstract methods must be implemented by its subclasses.\"\"\""
   ]
  },
  {
   "cell_type": "code",
   "execution_count": 3,
   "id": "abf961ec",
   "metadata": {},
   "outputs": [],
   "source": [
    "# Q2"
   ]
  },
  {
   "cell_type": "code",
   "execution_count": 4,
   "id": "8139b7eb",
   "metadata": {},
   "outputs": [],
   "source": [
    "# Assignment statements are used to (re)bind names to values and to modify attributes or items of mutable objects.\n"
   ]
  },
  {
   "cell_type": "code",
   "execution_count": 5,
   "id": "d3203e57",
   "metadata": {},
   "outputs": [],
   "source": [
    "# Q3"
   ]
  },
  {
   "cell_type": "code",
   "execution_count": 6,
   "id": "326a80bc",
   "metadata": {},
   "outputs": [],
   "source": [
    "# It's because one needs to define something that is NOT done in the base-class' __init__ , and the only possibility to obtain that is to put its execution in a derived-class' __init__ function."
   ]
  },
  {
   "cell_type": "code",
   "execution_count": 7,
   "id": "61c89a18",
   "metadata": {},
   "outputs": [],
   "source": [
    "# Q4"
   ]
  },
  {
   "cell_type": "code",
   "execution_count": 8,
   "id": "eb6b11b6",
   "metadata": {},
   "outputs": [
    {
     "data": {
      "text/plain": [
       "'A more sophisticated way to augment an inherited method involves forwarding.\\nMessage forwarding allows you to augment an inherited method in such a way that it can perform its inherited action and some new action.'"
      ]
     },
     "execution_count": 8,
     "metadata": {},
     "output_type": "execute_result"
    }
   ],
   "source": [
    "\"\"\"A more sophisticated way to augment an inherited method involves forwarding.\n",
    "Message forwarding allows you to augment an inherited method in such a way that it can perform its inherited action and some new action.\"\"\""
   ]
  },
  {
   "cell_type": "code",
   "execution_count": 9,
   "id": "b6871740",
   "metadata": {},
   "outputs": [],
   "source": [
    "# Q5"
   ]
  },
  {
   "cell_type": "code",
   "execution_count": 10,
   "id": "8970a738",
   "metadata": {},
   "outputs": [
    {
     "data": {
      "text/plain": [
       "\"Declaring a variable in a class (outside of a function): all class functions can access it (basically a public variable).\\n\\nDeclaring a variable inside a function inside a class: only that function can access it (it's in that function's scope).\""
      ]
     },
     "execution_count": 10,
     "metadata": {},
     "output_type": "execute_result"
    }
   ],
   "source": [
    "\"\"\"Declaring a variable in a class (outside of a function): all class functions can access it (basically a public variable).\n",
    "\n",
    "Declaring a variable inside a function inside a class: only that function can access it (it's in that function's scope).\"\"\""
   ]
  },
  {
   "cell_type": "code",
   "execution_count": null,
   "id": "76e3bfcf",
   "metadata": {},
   "outputs": [],
   "source": []
  }
 ],
 "metadata": {
  "kernelspec": {
   "display_name": "Python 3 (ipykernel)",
   "language": "python",
   "name": "python3"
  },
  "language_info": {
   "codemirror_mode": {
    "name": "ipython",
    "version": 3
   },
   "file_extension": ".py",
   "mimetype": "text/x-python",
   "name": "python",
   "nbconvert_exporter": "python",
   "pygments_lexer": "ipython3",
   "version": "3.9.12"
  }
 },
 "nbformat": 4,
 "nbformat_minor": 5
}
