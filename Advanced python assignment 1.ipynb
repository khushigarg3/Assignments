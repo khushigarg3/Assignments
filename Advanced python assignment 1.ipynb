{
 "cells": [
  {
   "cell_type": "code",
   "execution_count": 22,
   "id": "86dfc33d",
   "metadata": {},
   "outputs": [],
   "source": [
    "# Q1"
   ]
  },
  {
   "cell_type": "code",
   "execution_count": 23,
   "id": "bfd31c8c",
   "metadata": {},
   "outputs": [
    {
     "data": {
      "text/plain": [
       "'An object-oriented paradigm is to design the program using classes and objects.\\nThe object is related to real-word entities such as book, house, pencil, etc.\\nThe oops concept focuses on writing the reusable code.\\nIt is a widespread technique to solve the problem by creating objects.'"
      ]
     },
     "execution_count": 23,
     "metadata": {},
     "output_type": "execute_result"
    }
   ],
   "source": [
    "\"\"\"An object-oriented paradigm is to design the program using classes and objects.\n",
    "The object is related to real-word entities such as book, house, pencil, etc.\n",
    "The oops concept focuses on writing the reusable code.\n",
    "It is a widespread technique to solve the problem by creating objects.\"\"\""
   ]
  },
  {
   "cell_type": "code",
   "execution_count": 24,
   "id": "4c0d88b9",
   "metadata": {},
   "outputs": [],
   "source": [
    "# Q2"
   ]
  },
  {
   "cell_type": "code",
   "execution_count": 25,
   "id": "ef007f19",
   "metadata": {},
   "outputs": [
    {
     "data": {
      "text/plain": [
       "'The whole point of a namespace tool like the class statement is to support name inheritance.\\nIn Python, inheritance happens when an object is qualified, and involves searching an attribute definition tree (one or more namespaces).'"
      ]
     },
     "execution_count": 25,
     "metadata": {},
     "output_type": "execute_result"
    }
   ],
   "source": [
    "\"\"\"The whole point of a namespace tool like the class statement is to support name inheritance.\n",
    "In Python, inheritance happens when an object is qualified, and involves searching an attribute definition tree (one or more namespaces).\"\"\""
   ]
  },
  {
   "cell_type": "code",
   "execution_count": 26,
   "id": "0d143424",
   "metadata": {},
   "outputs": [],
   "source": [
    "# Q3"
   ]
  },
  {
   "cell_type": "code",
   "execution_count": 27,
   "id": "e357bf6d",
   "metadata": {},
   "outputs": [
    {
     "data": {
      "text/plain": [
       "'Everything in Python is an object such as integers, lists, dictionaries, functions and so on. Every object has a type and the object types are created using classes.\\n\\nInstance is an object that belongs to a class. For instance, list is a class in Python. When we create a list, we have an instance of the list class.'"
      ]
     },
     "execution_count": 27,
     "metadata": {},
     "output_type": "execute_result"
    }
   ],
   "source": [
    "\"\"\"Everything in Python is an object such as integers, lists, dictionaries, functions and so on. Every object has a type and the object types are created using classes.\n",
    "\n",
    "Instance is an object that belongs to a class. For instance, list is a class in Python. When we create a list, we have an instance of the list class.\"\"\""
   ]
  },
  {
   "cell_type": "code",
   "execution_count": 28,
   "id": "e47451ee",
   "metadata": {},
   "outputs": [],
   "source": [
    "# Q4"
   ]
  },
  {
   "cell_type": "code",
   "execution_count": 29,
   "id": "973099f6",
   "metadata": {},
   "outputs": [
    {
     "data": {
      "text/plain": [
       "'The first argument of every class method, including init, is always a reference to the current instance of the class.\\nBy convention, this argument is always named self.\\nIn the init method, self refers to the newly created object; in other class methods, it refers to the instance whose method was called.'"
      ]
     },
     "execution_count": 29,
     "metadata": {},
     "output_type": "execute_result"
    }
   ],
   "source": [
    "\"\"\"The first argument of every class method, including init, is always a reference to the current instance of the class.\n",
    "By convention, this argument is always named self.\n",
    "In the init method, self refers to the newly created object; in other class methods, it refers to the instance whose method was called.\"\"\" "
   ]
  },
  {
   "cell_type": "code",
   "execution_count": 30,
   "id": "e4e37c62",
   "metadata": {},
   "outputs": [],
   "source": [
    "# Q5"
   ]
  },
  {
   "cell_type": "code",
   "execution_count": 31,
   "id": "ec587695",
   "metadata": {},
   "outputs": [
    {
     "data": {
      "text/plain": [
       "'All classes have a function called __init__(), which is always executed when the class is being initiated.\\nThis is used to assign values to object properties, or other operations that are necessary to do when the object is being created.'"
      ]
     },
     "execution_count": 31,
     "metadata": {},
     "output_type": "execute_result"
    }
   ],
   "source": [
    "\"\"\"All classes have a function called __init__(), which is always executed when the class is being initiated.\n",
    "This is used to assign values to object properties, or other operations that are necessary to do when the object is being created.\"\"\""
   ]
  },
  {
   "cell_type": "code",
   "execution_count": 32,
   "id": "565e7a6a",
   "metadata": {},
   "outputs": [],
   "source": [
    "# Q6"
   ]
  },
  {
   "cell_type": "code",
   "execution_count": 33,
   "id": "8bfa0830",
   "metadata": {},
   "outputs": [
    {
     "data": {
      "text/plain": [
       "\"To create instances of a class, you call the class using class name and pass in whatever arguments its __init__ method accepts.\\nand can access the object's attributes using the dot operator with object\""
      ]
     },
     "execution_count": 33,
     "metadata": {},
     "output_type": "execute_result"
    }
   ],
   "source": [
    "\"\"\"To create instances of a class, you call the class using class name and pass in whatever arguments its __init__ method accepts.\n",
    "and can access the object's attributes using the dot operator with object\"\"\""
   ]
  },
  {
   "cell_type": "code",
   "execution_count": 34,
   "id": "83a91519",
   "metadata": {},
   "outputs": [],
   "source": [
    "# Q7"
   ]
  },
  {
   "cell_type": "code",
   "execution_count": 35,
   "id": "d24ffe44",
   "metadata": {},
   "outputs": [
    {
     "data": {
      "text/plain": [
       "'Here, the self is used as a reference variable, which refers to the current class object.\\nIt is always the first argument in the function definition.\\nHowever, using self is optional in the function call.'"
      ]
     },
     "execution_count": 35,
     "metadata": {},
     "output_type": "execute_result"
    }
   ],
   "source": [
    "\"\"\"In Python, a class can be created by using the keyword class, followed by the class name. The syntax to create a class is given below.\"\"\"\n",
    "\n",
    "# Creating a class Employee which contains two fields as Employee id, and name :-\n",
    "\n",
    "class Employee:    \n",
    "    id = 10   \n",
    "    name = \"Devansh\"    \n",
    "    def display (self):    \n",
    "        print(self.id,self.name)  \n",
    "        \n",
    "\n",
    "# The class also contains a function display(), which is used to display the information of the Employee.\n",
    "        \n",
    "\"\"\"Here, the self is used as a reference variable, which refers to the current class object.\n",
    "It is always the first argument in the function definition.\n",
    "However, using self is optional in the function call.\"\"\""
   ]
  },
  {
   "cell_type": "code",
   "execution_count": 37,
   "id": "275a6a75",
   "metadata": {},
   "outputs": [],
   "source": [
    "# Q8"
   ]
  },
  {
   "cell_type": "code",
   "execution_count": null,
   "id": "58d38b3b",
   "metadata": {},
   "outputs": [],
   "source": [
    "\"\"\"Python has a reserved method called “__init__.” In Object-Oriented language, it is referred to as a constructor.\n",
    "When this method is called it allows the class to initialize the attributes of the class.\n",
    "In an inherited subclass, a parent class can be referred to with the use of the super() function.\n",
    "The super function returns a temporary object of the superclass that allows access to all of its methods to its child class.\"\"\"\n",
    "\n"
   ]
  }
 ],
 "metadata": {
  "kernelspec": {
   "display_name": "Python 3 (ipykernel)",
   "language": "python",
   "name": "python3"
  },
  "language_info": {
   "codemirror_mode": {
    "name": "ipython",
    "version": 3
   },
   "file_extension": ".py",
   "mimetype": "text/x-python",
   "name": "python",
   "nbconvert_exporter": "python",
   "pygments_lexer": "ipython3",
   "version": "3.9.12"
  }
 },
 "nbformat": 4,
 "nbformat_minor": 5
}
