{
 "cells": [
  {
   "cell_type": "code",
   "execution_count": 1,
   "id": "47471b7a",
   "metadata": {},
   "outputs": [],
   "source": [
    "# Q1"
   ]
  },
  {
   "cell_type": "code",
   "execution_count": 2,
   "id": "abb39653",
   "metadata": {},
   "outputs": [
    {
     "data": {
      "text/plain": [
       "'Try and Except statement is used to handle these errors within our code in Python.\\nThe try block is used to check some code for errors i.e the code inside the try block will execute when there is no error in the program.'"
      ]
     },
     "execution_count": 2,
     "metadata": {},
     "output_type": "execute_result"
    }
   ],
   "source": [
    "\"\"\"Try and Except statement is used to handle these errors within our code in Python.\n",
    "The try block is used to check some code for errors i.e the code inside the try block will execute when there is no error in the program.\"\"\" "
   ]
  },
  {
   "cell_type": "code",
   "execution_count": 3,
   "id": "25e76bcc",
   "metadata": {},
   "outputs": [],
   "source": [
    "# Q2"
   ]
  },
  {
   "cell_type": "code",
   "execution_count": 4,
   "id": "93eaa7f0",
   "metadata": {},
   "outputs": [
    {
     "data": {
      "text/plain": [
       "'Try: This block will test the excepted error to occur\\nExcept:  Here you can handle the error\\nElse: If there is no exception then this block will be executed.'"
      ]
     },
     "execution_count": 4,
     "metadata": {},
     "output_type": "execute_result"
    }
   ],
   "source": [
    "\"\"\"Try: This block will test the excepted error to occur\n",
    "Except:  Here you can handle the error\n",
    "Else: If there is no exception then this block will be executed.\"\"\""
   ]
  },
  {
   "cell_type": "code",
   "execution_count": 5,
   "id": "3f213ea5",
   "metadata": {},
   "outputs": [],
   "source": [
    "# Q3"
   ]
  },
  {
   "cell_type": "code",
   "execution_count": 7,
   "id": "0ab96816",
   "metadata": {},
   "outputs": [
    {
     "data": {
      "text/plain": [
       "'It is used to raise exceptions or errors. The raise keyword raises an error and stops the control flow of the program.\\nIt is used to bring up the current exception in an exception handler so that it can be handled further up the call stack.'"
      ]
     },
     "execution_count": 7,
     "metadata": {},
     "output_type": "execute_result"
    }
   ],
   "source": [
    "\"\"\"It is used to raise exceptions or errors. The raise keyword raises an error and stops the control flow of the program.\n",
    "It is used to bring up the current exception in an exception handler so that it can be handled further up the call stack.\"\"\""
   ]
  },
  {
   "cell_type": "code",
   "execution_count": 8,
   "id": "fa6248f0",
   "metadata": {},
   "outputs": [],
   "source": [
    "# Q4"
   ]
  },
  {
   "cell_type": "code",
   "execution_count": 9,
   "id": "ac8b886f",
   "metadata": {},
   "outputs": [
    {
     "data": {
      "text/plain": [
       "'The assert keyword is used when debugging code.\\n\\nThe assert keyword lets you test if a condition in your code returns True, if not, the program will raise an AssertionError.'"
      ]
     },
     "execution_count": 9,
     "metadata": {},
     "output_type": "execute_result"
    }
   ],
   "source": [
    "\"\"\"The assert keyword is used when debugging code.\n",
    "\n",
    "The assert keyword lets you test if a condition in your code returns True, if not, the program will raise an AssertionError.\"\"\""
   ]
  },
  {
   "cell_type": "code",
   "execution_count": null,
   "id": "52bc6bd9",
   "metadata": {},
   "outputs": [],
   "source": []
  }
 ],
 "metadata": {
  "kernelspec": {
   "display_name": "Python 3 (ipykernel)",
   "language": "python",
   "name": "python3"
  },
  "language_info": {
   "codemirror_mode": {
    "name": "ipython",
    "version": 3
   },
   "file_extension": ".py",
   "mimetype": "text/x-python",
   "name": "python",
   "nbconvert_exporter": "python",
   "pygments_lexer": "ipython3",
   "version": "3.9.12"
  }
 },
 "nbformat": 4,
 "nbformat_minor": 5
}
