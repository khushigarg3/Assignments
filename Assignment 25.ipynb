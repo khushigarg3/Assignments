{
 "cells": [
  {
   "cell_type": "code",
   "execution_count": null,
   "id": "5a426c99",
   "metadata": {},
   "outputs": [],
   "source": [
    "# Q1"
   ]
  },
  {
   "cell_type": "code",
   "execution_count": 1,
   "id": "ec756425",
   "metadata": {},
   "outputs": [
    {
     "data": {
      "text/plain": [
       "'Enclosing list comprehension in square brackets[] implies that it is a list datatype which is a mutable entity.\\nand enclosing it in parentheses() implies that it is a tuple datatype which is a immutable entity.'"
      ]
     },
     "execution_count": 1,
     "metadata": {},
     "output_type": "execute_result"
    }
   ],
   "source": [
    "\"\"\"Enclosing list comprehension in square brackets[] implies that it is a list datatype which is a mutable entity.\n",
    "and enclosing it in parentheses() implies that it is a tuple datatype which is a immutable entity.\"\"\""
   ]
  },
  {
   "cell_type": "code",
   "execution_count": null,
   "id": "ea24223d",
   "metadata": {},
   "outputs": [],
   "source": [
    "# Q2"
   ]
  },
  {
   "cell_type": "code",
   "execution_count": 2,
   "id": "def31e20",
   "metadata": {},
   "outputs": [
    {
     "data": {
      "text/plain": [
       "'An iterator is an object used to iterate over iterable objects such as lists, tuples, dictionaries, and sets.\\nAn object is called iterable if we can get an iterator from it or loop over it. \\n\\nPython has a generator that allows you to create your iterator function.'"
      ]
     },
     "execution_count": 2,
     "metadata": {},
     "output_type": "execute_result"
    }
   ],
   "source": [
    "\"\"\"An iterator is an object used to iterate over iterable objects such as lists, tuples, dictionaries, and sets.\n",
    "An object is called iterable if we can get an iterator from it or loop over it. \n",
    "\n",
    "Python has a generator that allows you to create your iterator function.\"\"\"\n"
   ]
  },
  {
   "cell_type": "code",
   "execution_count": null,
   "id": "c389d59f",
   "metadata": {},
   "outputs": [],
   "source": [
    "# Q3"
   ]
  },
  {
   "cell_type": "code",
   "execution_count": 3,
   "id": "ee9e0f9f",
   "metadata": {},
   "outputs": [
    {
     "data": {
      "text/plain": [
       "\"We can only tell it's a generator function by the presence of a yield statement.\\nA yield statement turns a regular function into a generator function.\""
      ]
     },
     "execution_count": 3,
     "metadata": {},
     "output_type": "execute_result"
    }
   ],
   "source": [
    "\"\"\"We can only tell it's a generator function by the presence of a yield statement.\n",
    "A yield statement turns a regular function into a generator function.\"\"\"\n"
   ]
  },
  {
   "cell_type": "code",
   "execution_count": null,
   "id": "30a893ed",
   "metadata": {},
   "outputs": [],
   "source": [
    "# Q4"
   ]
  },
  {
   "cell_type": "code",
   "execution_count": 4,
   "id": "fd4eb2c0",
   "metadata": {},
   "outputs": [],
   "source": [
    "# Yield keyword in Python is similar to a return statement used for returning values in Python which returns a generator object to the one who calls the function which contains yield, instead of simply returning a value."
   ]
  },
  {
   "cell_type": "code",
   "execution_count": 5,
   "id": "ead69446",
   "metadata": {},
   "outputs": [],
   "source": [
    "# Q5"
   ]
  },
  {
   "cell_type": "code",
   "execution_count": 8,
   "id": "424f48ae",
   "metadata": {},
   "outputs": [
    {
     "name": "stdout",
     "output_type": "stream",
     "text": [
      "[4, 8, 10, 12, 14]\n"
     ]
    }
   ],
   "source": [
    "# map() function returns a map object(which is an iterator) of the results after applying the given function to each item of a given iterable (list, tuple etc.)\n",
    "\n",
    "def num (n) :\n",
    "    return n * 2\n",
    "          \n",
    "lst = [2, 4, 5, 6, 7]\n",
    "\n",
    "x = map(num, lst)\n",
    "\n",
    "print(list(x)) "
   ]
  },
  {
   "cell_type": "code",
   "execution_count": 9,
   "id": "a0e0b07a",
   "metadata": {},
   "outputs": [
    {
     "name": "stdout",
     "output_type": "stream",
     "text": [
      "[4, 8, 10, 12, 14]\n"
     ]
    }
   ],
   "source": [
    "\"\"\"List Comprehension is a substitute for the lambda function, map(), filter() and reduce(). It follows the form of the mathematical set-builder notation.\n",
    "It provide a concise way to create lists.\"\"\"\n",
    "\n",
    "lst = [2, 4 , 5, 6, 7]\n",
    "x = [i * 2 for i in lst ]\n",
    "print(x)\n"
   ]
  },
  {
   "cell_type": "code",
   "execution_count": null,
   "id": "11c6eb25",
   "metadata": {},
   "outputs": [],
   "source": []
  }
 ],
 "metadata": {
  "kernelspec": {
   "display_name": "Python 3 (ipykernel)",
   "language": "python",
   "name": "python3"
  },
  "language_info": {
   "codemirror_mode": {
    "name": "ipython",
    "version": 3
   },
   "file_extension": ".py",
   "mimetype": "text/x-python",
   "name": "python",
   "nbconvert_exporter": "python",
   "pygments_lexer": "ipython3",
   "version": "3.9.12"
  }
 },
 "nbformat": 4,
 "nbformat_minor": 5
}
