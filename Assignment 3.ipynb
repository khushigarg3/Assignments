{
 "cells": [
  {
   "cell_type": "code",
   "execution_count": null,
   "id": "5bb4a4be",
   "metadata": {},
   "outputs": [],
   "source": [
    "Q1"
   ]
  },
  {
   "cell_type": "raw",
   "id": "c3f57bd9",
   "metadata": {},
   "source": [
    "A function is a group of related statements that performs a specific task  by dividing larger complex problem into smaller ones.\n",
    "\n",
    "Functions help break our program into smaller and modular chunks. As our program grows larger and larger, functions make it more organized and manageable.\n",
    "\n",
    "Furthermore, it avoids repetition and makes the code reusable."
   ]
  },
  {
   "cell_type": "code",
   "execution_count": null,
   "id": "d000021a",
   "metadata": {},
   "outputs": [],
   "source": [
    "Q2"
   ]
  },
  {
   "cell_type": "code",
   "execution_count": 1,
   "id": "054a57db",
   "metadata": {},
   "outputs": [],
   "source": [
    "# Declaration and definition of a function :-\n",
    "\n",
    "def greet(name):\n",
    "    \"\"\"\n",
    "    This function greets to\n",
    "    the person passed in as\n",
    "    a parameter\n",
    "    \"\"\"\n",
    "    print(\"Hello, \" + name + \". Good morning!\")"
   ]
  },
  {
   "cell_type": "code",
   "execution_count": 3,
   "id": "51816a84",
   "metadata": {},
   "outputs": [
    {
     "name": "stdout",
     "output_type": "stream",
     "text": [
      "Hello, preet. Good morning!\n"
     ]
    }
   ],
   "source": [
    "# Function calling :-\n",
    "\n",
    "greet('preet')"
   ]
  },
  {
   "cell_type": "code",
   "execution_count": null,
   "id": "1659f74a",
   "metadata": {},
   "outputs": [],
   "source": [
    "Q3"
   ]
  },
  {
   "cell_type": "code",
   "execution_count": 4,
   "id": "143d0c32",
   "metadata": {},
   "outputs": [],
   "source": [
    "# creating a function :-\n",
    "\n",
    "def function_name(parameters):\n",
    "    \"\"\"docstring\"\"\"\n",
    "    statement(s)"
   ]
  },
  {
   "cell_type": "code",
   "execution_count": null,
   "id": "2092614f",
   "metadata": {},
   "outputs": [],
   "source": [
    "Q4"
   ]
  },
  {
   "cell_type": "raw",
   "id": "39d17711",
   "metadata": {},
   "source": [
    "# Difference b/w function and function call :-\n",
    "\n",
    "A function is a block of code that does a particular operation and returns a result. It usually accepts inputs as parameters and returns a result. The parameters are not mandatory. \n",
    "A function call is the code used to pass control to a function"
   ]
  },
  {
   "cell_type": "code",
   "execution_count": null,
   "id": "684f4751",
   "metadata": {},
   "outputs": [],
   "source": [
    "Q5"
   ]
  },
  {
   "cell_type": "code",
   "execution_count": 7,
   "id": "7a4f99a9",
   "metadata": {},
   "outputs": [
    {
     "name": "stdout",
     "output_type": "stream",
     "text": [
      "300\n",
      "300\n"
     ]
    }
   ],
   "source": [
    "# A variable created inside a function belongs to the local scope of that function, and can only be used inside that function.\n",
    "\n",
    "def myfunc():\n",
    "    x = 300\n",
    "    print(x)\n",
    "\n",
    "    myfunc()\n",
    "    \n",
    "    \n",
    "# A variable created in the main body of the Python code is a global variable and belongs to the global scope.\n",
    "#Global variables are available from within any scope, global and local.\n",
    "\n",
    "x = 300\n",
    "def myfunc():\n",
    "    print(x)\n",
    "\n",
    "myfunc()\n",
    "print(x)"
   ]
  },
  {
   "cell_type": "code",
   "execution_count": null,
   "id": "5125d118",
   "metadata": {},
   "outputs": [],
   "source": [
    "Q6"
   ]
  },
  {
   "cell_type": "code",
   "execution_count": 8,
   "id": "8e981888",
   "metadata": {},
   "outputs": [
    {
     "data": {
      "text/plain": [
       "'A local variable retains its value until the next time the function is called.\\nA local variable becomes undefined after the function call completes.\\nThe local variable can be used outside the function any time after the function call completes.'"
      ]
     },
     "execution_count": 8,
     "metadata": {},
     "output_type": "execute_result"
    }
   ],
   "source": [
    "\"\"\"A local variable retains its value until the next time the function is called.\n",
    "A local variable becomes undefined after the function call completes.\n",
    "The local variable can be used outside the function any time after the function call completes.\"\"\""
   ]
  },
  {
   "cell_type": "code",
   "execution_count": null,
   "id": "5c7a6d25",
   "metadata": {},
   "outputs": [],
   "source": [
    "Q7"
   ]
  },
  {
   "cell_type": "code",
   "execution_count": 9,
   "id": "3310fa3a",
   "metadata": {},
   "outputs": [
    {
     "data": {
      "text/plain": [
       "'A return statement is used to end the execution of the function call and “returns” the result (value of the expression following the return keyword) to the caller.\\nThe statements after the return statements are not executed.\\nIf the return statement is without any expression, then the special value None is returned.'"
      ]
     },
     "execution_count": 9,
     "metadata": {},
     "output_type": "execute_result"
    }
   ],
   "source": [
    "\"\"\"A return statement is used to end the execution of the function call and “returns” the result (value of the expression following the return keyword) to the caller.\n",
    "The statements after the return statements are not executed.\n",
    "If the return statement is without any expression, then the special value None is returned.\"\"\""
   ]
  },
  {
   "cell_type": "code",
   "execution_count": null,
   "id": "6a6e1fe0",
   "metadata": {},
   "outputs": [],
   "source": [
    "Q8"
   ]
  },
  {
   "cell_type": "code",
   "execution_count": 10,
   "id": "a4c20dbd",
   "metadata": {},
   "outputs": [],
   "source": [
    "# Regardless of how long and complex your functions are, any function without an explicit return statement, or one with a return statement without a return value, will return None ."
   ]
  },
  {
   "cell_type": "code",
   "execution_count": null,
   "id": "a574c937",
   "metadata": {},
   "outputs": [],
   "source": [
    "Q9"
   ]
  },
  {
   "cell_type": "code",
   "execution_count": 11,
   "id": "abd5c587",
   "metadata": {},
   "outputs": [
    {
     "data": {
      "text/plain": [
       "'Normally, when you create a variable inside a function, that variable is local, and can only be used inside that function.\\nTo create a global variable inside a function, you can use the global keyword.'"
      ]
     },
     "execution_count": 11,
     "metadata": {},
     "output_type": "execute_result"
    }
   ],
   "source": [
    "\"\"\"Normally, when you create a variable inside a function, that variable is local, and can only be used inside that function.\n",
    "To create a global variable inside a function, you can use the global keyword.\"\"\""
   ]
  },
  {
   "cell_type": "code",
   "execution_count": null,
   "id": "c2c72356",
   "metadata": {},
   "outputs": [],
   "source": [
    "Q10"
   ]
  },
  {
   "cell_type": "code",
   "execution_count": 12,
   "id": "98e78598",
   "metadata": {},
   "outputs": [
    {
     "data": {
      "text/plain": [
       "'None is used to define a null value. It is not the same as an empty string, False, or a zero.\\nIt is a data type of the class NoneType object. \\n\\nAssigning a value of None to a variable is one way to reset it to its original, empty state.'"
      ]
     },
     "execution_count": 12,
     "metadata": {},
     "output_type": "execute_result"
    }
   ],
   "source": [
    "\"\"\"None is used to define a null value. It is not the same as an empty string, False, or a zero.\n",
    "It is a data type of the class NoneType object. \n",
    "\n",
    "Assigning a value of None to a variable is one way to reset it to its original, empty state.\"\"\""
   ]
  },
  {
   "cell_type": "code",
   "execution_count": null,
   "id": "ad2fdc88",
   "metadata": {},
   "outputs": [],
   "source": [
    "Q14"
   ]
  },
  {
   "cell_type": "code",
   "execution_count": 13,
   "id": "341603cf",
   "metadata": {},
   "outputs": [
    {
     "data": {
      "text/plain": [
       "'In Exception Handling :-\\n    \\nThe try block lets you test a block of code for errors.\\n\\nThe except block lets you handle the error.'"
      ]
     },
     "execution_count": 13,
     "metadata": {},
     "output_type": "execute_result"
    }
   ],
   "source": [
    "\"\"\"In Exception Handling :-\n",
    "    \n",
    "The try block lets you test a block of code for errors.\n",
    "\n",
    "The except block lets you handle the error.\"\"\""
   ]
  },
  {
   "cell_type": "code",
   "execution_count": null,
   "id": "ee3b1f32",
   "metadata": {},
   "outputs": [],
   "source": []
  }
 ],
 "metadata": {
  "kernelspec": {
   "display_name": "Python 3 (ipykernel)",
   "language": "python",
   "name": "python3"
  },
  "language_info": {
   "codemirror_mode": {
    "name": "ipython",
    "version": 3
   },
   "file_extension": ".py",
   "mimetype": "text/x-python",
   "name": "python",
   "nbconvert_exporter": "python",
   "pygments_lexer": "ipython3",
   "version": "3.9.12"
  }
 },
 "nbformat": 4,
 "nbformat_minor": 5
}
