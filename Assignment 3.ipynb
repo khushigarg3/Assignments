{
 "cells": [
  {
   "cell_type": "code",
   "execution_count": 1,
   "id": "dae2f251",
   "metadata": {},
   "outputs": [
    {
     "name": "stdout",
     "output_type": "stream",
     "text": [
      "Hello Python\n"
     ]
    }
   ],
   "source": [
    "# Program to print \"hello python\" :-\n",
    "\n",
    "print(\"Hello Python\")"
   ]
  },
  {
   "cell_type": "code",
   "execution_count": 2,
   "id": "73ee2880",
   "metadata": {},
   "outputs": [
    {
     "name": "stdout",
     "output_type": "stream",
     "text": [
      "Addition 27\n",
      "Division: 2.857142857142857\n"
     ]
    }
   ],
   "source": [
    "# Program to perform arithmetic operations (+ & /) :-\n",
    "\n",
    "a = 20\n",
    "b = 7\n",
    "print(\"Addition\",a+b)\n",
    "print(\"Division:\",a/b)"
   ]
  },
  {
   "cell_type": "code",
   "execution_count": 3,
   "id": "93897402",
   "metadata": {},
   "outputs": [
    {
     "name": "stdout",
     "output_type": "stream",
     "text": [
      "enter base length :12.2\n",
      "enter height :10\n",
      "Area of triangle is : 61.0\n"
     ]
    }
   ],
   "source": [
    "# Python program to find area of triangle :-\n",
    "\n",
    "base = float(input(\"enter base length :\"))\n",
    "height = float(input(\"enter height :\"))\n",
    "area = (base*height)/2\n",
    "print(\"Area of triangle is :\",area)\n"
   ]
  },
  {
   "cell_type": "code",
   "execution_count": 4,
   "id": "2fba91db",
   "metadata": {},
   "outputs": [
    {
     "name": "stdout",
     "output_type": "stream",
     "text": [
      "20 10\n"
     ]
    }
   ],
   "source": [
    "# Python program to swap two variables :-\n",
    "\n",
    "a,b = 10,20\n",
    "temp=a\n",
    "a,b = b,a\n",
    "print(a,b)\n",
    "\n"
   ]
  },
  {
   "cell_type": "code",
   "execution_count": 6,
   "id": "662edadb",
   "metadata": {},
   "outputs": [],
   "source": [
    "# Program to generate a random number :-\n",
    "\n",
    "def ran():\n",
    "    import random\n",
    "    print(random.randint(0,5))"
   ]
  },
  {
   "cell_type": "code",
   "execution_count": 7,
   "id": "8e18bbc5",
   "metadata": {},
   "outputs": [
    {
     "name": "stdout",
     "output_type": "stream",
     "text": [
      "0\n"
     ]
    }
   ],
   "source": [
    "ran()"
   ]
  },
  {
   "cell_type": "code",
   "execution_count": 8,
   "id": "223fcaf6",
   "metadata": {},
   "outputs": [
    {
     "name": "stdout",
     "output_type": "stream",
     "text": [
      "1\n"
     ]
    }
   ],
   "source": [
    "ran()"
   ]
  },
  {
   "cell_type": "code",
   "execution_count": 9,
   "id": "73027a03",
   "metadata": {},
   "outputs": [
    {
     "name": "stdout",
     "output_type": "stream",
     "text": [
      "0\n"
     ]
    }
   ],
   "source": [
    "ran()"
   ]
  },
  {
   "cell_type": "code",
   "execution_count": 10,
   "id": "7298a351",
   "metadata": {},
   "outputs": [
    {
     "name": "stdout",
     "output_type": "stream",
     "text": [
      "1\n"
     ]
    }
   ],
   "source": [
    "ran()"
   ]
  },
  {
   "cell_type": "code",
   "execution_count": 11,
   "id": "0d603ad4",
   "metadata": {},
   "outputs": [
    {
     "name": "stdout",
     "output_type": "stream",
     "text": [
      "1\n"
     ]
    }
   ],
   "source": [
    "ran()"
   ]
  },
  {
   "cell_type": "code",
   "execution_count": 12,
   "id": "50ea9033",
   "metadata": {},
   "outputs": [
    {
     "name": "stdout",
     "output_type": "stream",
     "text": [
      "5\n"
     ]
    }
   ],
   "source": [
    "ran()"
   ]
  },
  {
   "cell_type": "code",
   "execution_count": 13,
   "id": "19694936",
   "metadata": {},
   "outputs": [
    {
     "name": "stdout",
     "output_type": "stream",
     "text": [
      "3\n"
     ]
    }
   ],
   "source": [
    "ran()"
   ]
  },
  {
   "cell_type": "code",
   "execution_count": null,
   "id": "8ad1e0b6",
   "metadata": {},
   "outputs": [],
   "source": []
  }
 ],
 "metadata": {
  "kernelspec": {
   "display_name": "Python 3 (ipykernel)",
   "language": "python",
   "name": "python3"
  },
  "language_info": {
   "codemirror_mode": {
    "name": "ipython",
    "version": 3
   },
   "file_extension": ".py",
   "mimetype": "text/x-python",
   "name": "python",
   "nbconvert_exporter": "python",
   "pygments_lexer": "ipython3",
   "version": "3.9.12"
  }
 },
 "nbformat": 4,
 "nbformat_minor": 5
}
