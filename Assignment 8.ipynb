{
 "cells": [
  {
   "cell_type": "code",
   "execution_count": 1,
   "id": "9a8380b9",
   "metadata": {},
   "outputs": [],
   "source": [
    "# Q1"
   ]
  },
  {
   "cell_type": "code",
   "execution_count": 2,
   "id": "b81eb290",
   "metadata": {},
   "outputs": [],
   "source": [
    "# PyInputPlus is not a part of the Python Standard Library, we must install it separately using Pip."
   ]
  },
  {
   "cell_type": "code",
   "execution_count": 3,
   "id": "77f650ad",
   "metadata": {},
   "outputs": [],
   "source": [
    "# Q2"
   ]
  },
  {
   "cell_type": "code",
   "execution_count": 4,
   "id": "937c7031",
   "metadata": {},
   "outputs": [
    {
     "data": {
      "text/plain": [
       "'You can import the module with import pyinputplus as pyip so that you can enter a shorter name when calling the module’s functions.'"
      ]
     },
     "execution_count": 4,
     "metadata": {},
     "output_type": "execute_result"
    }
   ],
   "source": [
    "\"\"\"You can import the module with import pyinputplus as pyip so that you can enter a shorter name when calling the module’s functions.\"\"\""
   ]
  },
  {
   "cell_type": "code",
   "execution_count": 5,
   "id": "ca1ff3fd",
   "metadata": {},
   "outputs": [],
   "source": [
    "# Q3"
   ]
  },
  {
   "cell_type": "code",
   "execution_count": 6,
   "id": "fa83c6ea",
   "metadata": {},
   "outputs": [],
   "source": [
    "# The difference is in the data-type when you use the first one the program expects an integer value as input but in the latter it expects a float value i.e number containing a decimal"
   ]
  },
  {
   "cell_type": "code",
   "execution_count": 7,
   "id": "29ccb57c",
   "metadata": {},
   "outputs": [],
   "source": [
    "# Q4"
   ]
  },
  {
   "cell_type": "code",
   "execution_count": 8,
   "id": "512cf887",
   "metadata": {},
   "outputs": [],
   "source": [
    "# By using pyip.inputint(min=0, max=99)"
   ]
  },
  {
   "cell_type": "code",
   "execution_count": 9,
   "id": "1d590295",
   "metadata": {},
   "outputs": [],
   "source": [
    "# Q5"
   ]
  },
  {
   "cell_type": "code",
   "execution_count": 10,
   "id": "f27874d8",
   "metadata": {},
   "outputs": [
    {
     "data": {
      "text/plain": [
       "'A list of regex strings that are either explicitly allowed or denied.'"
      ]
     },
     "execution_count": 10,
     "metadata": {},
     "output_type": "execute_result"
    }
   ],
   "source": [
    "\"\"\"A list of regex strings that are either explicitly allowed or denied.\"\"\""
   ]
  },
  {
   "cell_type": "code",
   "execution_count": 11,
   "id": "87ce112b",
   "metadata": {},
   "outputs": [],
   "source": [
    "# Q6"
   ]
  },
  {
   "cell_type": "code",
   "execution_count": 12,
   "id": "4bc75e2d",
   "metadata": {},
   "outputs": [],
   "source": [
    "# The function will raise RetryLimitException."
   ]
  },
  {
   "cell_type": "code",
   "execution_count": 13,
   "id": "2779524a",
   "metadata": {},
   "outputs": [],
   "source": [
    "# Q7"
   ]
  },
  {
   "cell_type": "code",
   "execution_count": 14,
   "id": "80042ab2",
   "metadata": {},
   "outputs": [],
   "source": [
    "# The function returns the value 'hello'"
   ]
  },
  {
   "cell_type": "code",
   "execution_count": null,
   "id": "e1323f06",
   "metadata": {},
   "outputs": [],
   "source": []
  }
 ],
 "metadata": {
  "kernelspec": {
   "display_name": "Python 3 (ipykernel)",
   "language": "python",
   "name": "python3"
  },
  "language_info": {
   "codemirror_mode": {
    "name": "ipython",
    "version": 3
   },
   "file_extension": ".py",
   "mimetype": "text/x-python",
   "name": "python",
   "nbconvert_exporter": "python",
   "pygments_lexer": "ipython3",
   "version": "3.9.12"
  }
 },
 "nbformat": 4,
 "nbformat_minor": 5
}
