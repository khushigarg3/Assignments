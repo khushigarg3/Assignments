{
 "cells": [
  {
   "cell_type": "code",
   "execution_count": 1,
   "id": "dae2f251",
   "metadata": {},
   "outputs": [
    {
     "name": "stdout",
     "output_type": "stream",
     "text": [
      "please enter the distance in km(s) :34\n",
      "Distance in miles :  21.1242\n"
     ]
    }
   ],
   "source": [
    "# Python program to convert km into miles :-\n",
    "\n",
    "dist = float(input(\"please enter the distance in km(s) :\"))\n",
    "dist = (dist*0.6213)\n",
    "print(\"Distance in miles : \",dist)"
   ]
  },
  {
   "cell_type": "code",
   "execution_count": 2,
   "id": "26f5360b",
   "metadata": {},
   "outputs": [
    {
     "name": "stdout",
     "output_type": "stream",
     "text": [
      "please enter the temperature in Celsius :58\n",
      "Temperature in Fahrenheit :  136.4\n"
     ]
    }
   ],
   "source": [
    "# Python program to convert Celsius to Fahrenheit :-\n",
    "\n",
    "temp = float(input(\"please enter the temperature in Celsius :\"))\n",
    "temp = (temp * 9/5) + 32\n",
    "print(\"Temperature in Fahrenheit : \",temp)"
   ]
  },
  {
   "cell_type": "code",
   "execution_count": 3,
   "id": "7e8ffc32",
   "metadata": {},
   "outputs": [
    {
     "name": "stdout",
     "output_type": "stream",
     "text": [
      "Enter year :2016\n",
      "Enter month :5\n",
      "      May 2016\n",
      "Mo Tu We Th Fr Sa Su\n",
      "                   1\n",
      " 2  3  4  5  6  7  8\n",
      " 9 10 11 12 13 14 15\n",
      "16 17 18 19 20 21 22\n",
      "23 24 25 26 27 28 29\n",
      "30 31\n",
      "\n"
     ]
    }
   ],
   "source": [
    "# Python program to display calendar :-\n",
    "\n",
    "import calendar\n",
    "\n",
    "yy = int(input(\"Enter year :\"))\n",
    "mm = int(input(\"Enter month :\"))\n",
    "\n",
    "print(calendar.month(yy,mm))"
   ]
  },
  {
   "cell_type": "code",
   "execution_count": 11,
   "id": "448263be",
   "metadata": {},
   "outputs": [
    {
     "name": "stdout",
     "output_type": "stream",
     "text": [
      "The solutions are (-1.25-1.5612494995995996j) & (-1.25+1.5612494995995996j) :\n"
     ]
    }
   ],
   "source": [
    "# Python program to solve quadratic equation :-\n",
    "\n",
    "import cmath\n",
    "\n",
    "a=2\n",
    "b=5\n",
    "c=8\n",
    "\n",
    "d = (b**2) - (4*a*c)\n",
    "\n",
    "sol1 = (-b-cmath.sqrt(d))/(2*a)\n",
    "sol2 = (-b+cmath.sqrt(d))/(2*a)\n",
    "\n",
    "print('The solutions are {0} & {1} :'.format(sol1,sol2))"
   ]
  },
  {
   "cell_type": "code",
   "execution_count": 12,
   "id": "ca9e05cc",
   "metadata": {},
   "outputs": [
    {
     "name": "stdout",
     "output_type": "stream",
     "text": [
      "Before swapping: \n",
      "Value of x :  50  and y :  30\n",
      "After swapping: \n",
      "Value of x :  30  and y :  50\n"
     ]
    }
   ],
   "source": [
    "# Python program to swap two numbers without using temp :-\n",
    "\n",
    "x = 50\n",
    "y = 30\n",
    " \n",
    "print (\"Before swapping: \")\n",
    "print(\"Value of x : \", x, \" and y : \", y)\n",
    " \n",
    "x, y = y, x\n",
    " \n",
    "print (\"After swapping: \")\n",
    "print(\"Value of x : \", x, \" and y : \", y)"
   ]
  },
  {
   "cell_type": "code",
   "execution_count": null,
   "id": "5a140b2e",
   "metadata": {},
   "outputs": [],
   "source": []
  }
 ],
 "metadata": {
  "kernelspec": {
   "display_name": "Python 3 (ipykernel)",
   "language": "python",
   "name": "python3"
  },
  "language_info": {
   "codemirror_mode": {
    "name": "ipython",
    "version": 3
   },
   "file_extension": ".py",
   "mimetype": "text/x-python",
   "name": "python",
   "nbconvert_exporter": "python",
   "pygments_lexer": "ipython3",
   "version": "3.9.12"
  }
 },
 "nbformat": 4,
 "nbformat_minor": 5
}
