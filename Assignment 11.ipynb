{
 "cells": [
  {
   "cell_type": "code",
   "execution_count": 1,
   "id": "3cd99ca5",
   "metadata": {},
   "outputs": [],
   "source": [
    "# Q1"
   ]
  },
  {
   "cell_type": "code",
   "execution_count": 2,
   "id": "2344fb7a",
   "metadata": {},
   "outputs": [],
   "source": [
    "# assert spam >= 0, 'The spam variable is less than 0.'"
   ]
  },
  {
   "cell_type": "code",
   "execution_count": 3,
   "id": "d61cb413",
   "metadata": {},
   "outputs": [],
   "source": [
    "# Q2"
   ]
  },
  {
   "cell_type": "code",
   "execution_count": 4,
   "id": "54634881",
   "metadata": {},
   "outputs": [
    {
     "data": {
      "text/plain": [
       "\"assert eggs.lower() != bacon.lower(), 'The eggs and bacon variables are the same!' or assert eggs.upper() != bacon.upper(), 'The eggs and bacon variables are the same!'\""
      ]
     },
     "execution_count": 4,
     "metadata": {},
     "output_type": "execute_result"
    }
   ],
   "source": [
    "\"\"\"assert eggs.lower() != bacon.lower(), 'The eggs and bacon variables are the same!' or assert eggs.upper() != bacon.upper(), 'The eggs and bacon variables are the same!'\"\"\""
   ]
  },
  {
   "cell_type": "code",
   "execution_count": 5,
   "id": "881fcb01",
   "metadata": {},
   "outputs": [],
   "source": [
    "# Q3"
   ]
  },
  {
   "cell_type": "code",
   "execution_count": 6,
   "id": "8668af0a",
   "metadata": {},
   "outputs": [],
   "source": [
    "# assert False, 'This assertion always triggers.'"
   ]
  },
  {
   "cell_type": "code",
   "execution_count": 7,
   "id": "b4e7f7f1",
   "metadata": {},
   "outputs": [],
   "source": [
    "# Q4"
   ]
  },
  {
   "cell_type": "code",
   "execution_count": 8,
   "id": "915b5521",
   "metadata": {},
   "outputs": [
    {
     "data": {
      "text/plain": [
       "\"To be able to call logging.debug(), you must have these two lines at the start of your program:\\n\\nimport logging\\nlogging.basicConfig(level=logging.DEBUG, format=' %(asctime)s -\\n%(levelname)s - %(message)s')\""
      ]
     },
     "execution_count": 8,
     "metadata": {},
     "output_type": "execute_result"
    }
   ],
   "source": [
    "\"\"\"To be able to call logging.debug(), you must have these two lines at the start of your program:\n",
    "\n",
    "import logging\n",
    "logging.basicConfig(level=logging.DEBUG, format=' %(asctime)s -\n",
    "%(levelname)s - %(message)s')\"\"\""
   ]
  },
  {
   "cell_type": "code",
   "execution_count": 9,
   "id": "f9b969e6",
   "metadata": {},
   "outputs": [],
   "source": [
    "# Q5"
   ]
  },
  {
   "cell_type": "code",
   "execution_count": 10,
   "id": "d2624398",
   "metadata": {},
   "outputs": [
    {
     "data": {
      "text/plain": [
       "\"To be able to send logging messages to a file named programLog.txt with logging.debug(), you must have these two lines at the start of your program:\\n\\nimport logging\\n\\nlogging.basicConfig(filename='programLog.txt', level=logging.DEBUG,\\n\\nformat=' %(asctime)s - %(levelname)s - %(message)s')\""
      ]
     },
     "execution_count": 10,
     "metadata": {},
     "output_type": "execute_result"
    }
   ],
   "source": [
    "\"\"\"To be able to send logging messages to a file named programLog.txt with logging.debug(), you must have these two lines at the start of your program:\n",
    "\n",
    "import logging\n",
    "\n",
    "logging.basicConfig(filename='programLog.txt', level=logging.DEBUG,\n",
    "\n",
    "format=' %(asctime)s - %(levelname)s - %(message)s')\"\"\""
   ]
  },
  {
   "cell_type": "code",
   "execution_count": 11,
   "id": "c2316b1a",
   "metadata": {},
   "outputs": [],
   "source": [
    "# Q6"
   ]
  },
  {
   "cell_type": "code",
   "execution_count": 12,
   "id": "4c1fdb35",
   "metadata": {},
   "outputs": [],
   "source": [
    "# DEBUG, INFO, WARNING, ERROR, and CRITICAL"
   ]
  },
  {
   "cell_type": "code",
   "execution_count": 13,
   "id": "6a341171",
   "metadata": {},
   "outputs": [],
   "source": [
    "# Q7"
   ]
  },
  {
   "cell_type": "code",
   "execution_count": 14,
   "id": "27b27564",
   "metadata": {},
   "outputs": [],
   "source": [
    "# logging.disable(logging.CRITICAL)"
   ]
  },
  {
   "cell_type": "code",
   "execution_count": 15,
   "id": "3c57c8cd",
   "metadata": {},
   "outputs": [],
   "source": [
    "# Q8"
   ]
  },
  {
   "cell_type": "code",
   "execution_count": 16,
   "id": "2770688c",
   "metadata": {},
   "outputs": [
    {
     "data": {
      "text/plain": [
       "'You can disable logging messages without removing the logging function calls. You can selectively disable lower-level logging messages. You can create logging messages. Logging messages provides a timestamp.'"
      ]
     },
     "execution_count": 16,
     "metadata": {},
     "output_type": "execute_result"
    }
   ],
   "source": [
    "\"\"\"You can disable logging messages without removing the logging function calls. You can selectively disable lower-level logging messages. You can create logging messages. Logging messages provides a timestamp.\"\"\""
   ]
  },
  {
   "cell_type": "code",
   "execution_count": 17,
   "id": "6f9a7db0",
   "metadata": {},
   "outputs": [],
   "source": [
    "# Q9"
   ]
  },
  {
   "cell_type": "code",
   "execution_count": 18,
   "id": "507192a6",
   "metadata": {},
   "outputs": [
    {
     "data": {
      "text/plain": [
       "'The Step button will move the debugger into a function call. The Over button will quickly execute the function call without stepping into it. The Out button will quickly execute the rest of the code until it steps out of the function it currently is in.'"
      ]
     },
     "execution_count": 18,
     "metadata": {},
     "output_type": "execute_result"
    }
   ],
   "source": [
    "\"\"\"The Step button will move the debugger into a function call. The Over button will quickly execute the function call without stepping into it. The Out button will quickly execute the rest of the code until it steps out of the function it currently is in.\"\"\""
   ]
  },
  {
   "cell_type": "code",
   "execution_count": 19,
   "id": "09cf934b",
   "metadata": {},
   "outputs": [],
   "source": [
    "# Q10"
   ]
  },
  {
   "cell_type": "code",
   "execution_count": 20,
   "id": "f2fff76c",
   "metadata": {},
   "outputs": [],
   "source": [
    "# After you click Go, the debugger will stop when it has reached the end of the program or a line with a breakpoint."
   ]
  },
  {
   "cell_type": "code",
   "execution_count": null,
   "id": "51a66a65",
   "metadata": {},
   "outputs": [],
   "source": []
  }
 ],
 "metadata": {
  "kernelspec": {
   "display_name": "Python 3 (ipykernel)",
   "language": "python",
   "name": "python3"
  },
  "language_info": {
   "codemirror_mode": {
    "name": "ipython",
    "version": 3
   },
   "file_extension": ".py",
   "mimetype": "text/x-python",
   "name": "python",
   "nbconvert_exporter": "python",
   "pygments_lexer": "ipython3",
   "version": "3.9.12"
  }
 },
 "nbformat": 4,
 "nbformat_minor": 5
}
