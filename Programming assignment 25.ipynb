{
 "cells": [
  {
   "cell_type": "code",
   "execution_count": 1,
   "id": "2dafd79b",
   "metadata": {},
   "outputs": [],
   "source": [
    "# Q1"
   ]
  },
  {
   "cell_type": "code",
   "execution_count": 2,
   "id": "b25bec88",
   "metadata": {},
   "outputs": [],
   "source": [
    "def test_three_equal(x, y, z):\n",
    "    result= set([x, y, z])\n",
    "    if len(result)==3 :\n",
    "        return 0\n",
    "    else:\n",
    "        return (4 - len(result))\n",
    "    "
   ]
  },
  {
   "cell_type": "code",
   "execution_count": 3,
   "id": "af732a6b",
   "metadata": {},
   "outputs": [
    {
     "data": {
      "text/plain": [
       "2"
      ]
     },
     "execution_count": 3,
     "metadata": {},
     "output_type": "execute_result"
    }
   ],
   "source": [
    "test_three_equal(3,4,3)"
   ]
  },
  {
   "cell_type": "code",
   "execution_count": 4,
   "id": "c7502aaa",
   "metadata": {},
   "outputs": [
    {
     "data": {
      "text/plain": [
       "3"
      ]
     },
     "execution_count": 4,
     "metadata": {},
     "output_type": "execute_result"
    }
   ],
   "source": [
    "test_three_equal(1,1,1)"
   ]
  },
  {
   "cell_type": "code",
   "execution_count": 5,
   "id": "8cc001c4",
   "metadata": {},
   "outputs": [
    {
     "data": {
      "text/plain": [
       "0"
      ]
     },
     "execution_count": 5,
     "metadata": {},
     "output_type": "execute_result"
    }
   ],
   "source": [
    "test_three_equal(3,4,1)"
   ]
  },
  {
   "cell_type": "code",
   "execution_count": 6,
   "id": "863c9cd0",
   "metadata": {},
   "outputs": [],
   "source": [
    "# Q2"
   ]
  },
  {
   "cell_type": "code",
   "execution_count": 7,
   "id": "7c2cb20a",
   "metadata": {},
   "outputs": [],
   "source": [
    "def d_list() :\n",
    "    d = {}\n",
    "    n = int(input(\"Enter no. of items :\"))\n",
    "    for i in range(0,n) :\n",
    "        a = input(\"Enter key :\")\n",
    "        b = int(input(\"Enter value :\"))\n",
    "        d[a] = b\n",
    "    print(d)\n",
    "    l = list(d.items())\n",
    "    l.sort()\n",
    "    print(l)\n"
   ]
  },
  {
   "cell_type": "code",
   "execution_count": 8,
   "id": "553ae398",
   "metadata": {},
   "outputs": [
    {
     "name": "stdout",
     "output_type": "stream",
     "text": [
      "Enter no. of items :3\n",
      "Enter key :D\n",
      "Enter value :1\n",
      "Enter key :B\n",
      "Enter value :2\n",
      "Enter key :C\n",
      "Enter value :3\n",
      "{'D': 1, 'B': 2, 'C': 3}\n",
      "[('B', 2), ('C', 3), ('D', 1)]\n"
     ]
    }
   ],
   "source": [
    "d_list()"
   ]
  },
  {
   "cell_type": "code",
   "execution_count": 9,
   "id": "374ec517",
   "metadata": {},
   "outputs": [
    {
     "name": "stdout",
     "output_type": "stream",
     "text": [
      "Enter no. of items :3\n",
      "Enter key :likes\n",
      "Enter value :2\n",
      "Enter key :dislikes\n",
      "Enter value :3\n",
      "Enter key :followers\n",
      "Enter value :10\n",
      "{'likes': 2, 'dislikes': 3, 'followers': 10}\n",
      "[('dislikes', 3), ('followers', 10), ('likes', 2)]\n"
     ]
    }
   ],
   "source": [
    "d_list()"
   ]
  },
  {
   "cell_type": "code",
   "execution_count": 10,
   "id": "2b2bb63c",
   "metadata": {},
   "outputs": [],
   "source": [
    "# Q3"
   ]
  },
  {
   "cell_type": "code",
   "execution_count": 13,
   "id": "b21831ec",
   "metadata": {},
   "outputs": [],
   "source": [
    "def mapping() :\n",
    "    s = input(\"Enter some letters in small case separated by comma:\")\n",
    "    l = s.split(\",\")\n",
    "    print(l)\n",
    "    d = {}\n",
    "    for i in l :\n",
    "        d[i] = str(i.upper())\n",
    "    print(d)\n",
    "          "
   ]
  },
  {
   "cell_type": "code",
   "execution_count": 14,
   "id": "265633ea",
   "metadata": {},
   "outputs": [
    {
     "name": "stdout",
     "output_type": "stream",
     "text": [
      "Enter some letters in small case separated by comma:p,s\n",
      "['p', 's']\n",
      "{'p': 'P', 's': 'S'}\n"
     ]
    }
   ],
   "source": [
    "mapping()"
   ]
  },
  {
   "cell_type": "code",
   "execution_count": 15,
   "id": "94640501",
   "metadata": {},
   "outputs": [
    {
     "name": "stdout",
     "output_type": "stream",
     "text": [
      "Enter some letters in small case separated by comma:a,b,c\n",
      "['a', 'b', 'c']\n",
      "{'a': 'A', 'b': 'B', 'c': 'C'}\n"
     ]
    }
   ],
   "source": [
    "mapping()"
   ]
  },
  {
   "cell_type": "code",
   "execution_count": 16,
   "id": "b5671806",
   "metadata": {},
   "outputs": [
    {
     "name": "stdout",
     "output_type": "stream",
     "text": [
      "Enter some letters in small case separated by comma:a,v,y,z\n",
      "['a', 'v', 'y', 'z']\n",
      "{'a': 'A', 'v': 'V', 'y': 'Y', 'z': 'Z'}\n"
     ]
    }
   ],
   "source": [
    "mapping()"
   ]
  },
  {
   "cell_type": "code",
   "execution_count": 17,
   "id": "593ad7f4",
   "metadata": {},
   "outputs": [],
   "source": [
    "# Q4"
   ]
  },
  {
   "cell_type": "code",
   "execution_count": 32,
   "id": "70a55b6d",
   "metadata": {},
   "outputs": [],
   "source": [
    "def vow_replace() :\n",
    "    s = input(\"Enter any string :\")\n",
    "    v = input(\"Enter vowel to be replaced by :\")\n",
    "    for i in s :\n",
    "        if i=='a' or i=='e' or i=='i' or i == 'o' or i=='u':\n",
    "            s = s.replace(i,v)\n",
    "    print(s)"
   ]
  },
  {
   "cell_type": "code",
   "execution_count": 33,
   "id": "33489ab2",
   "metadata": {},
   "outputs": [
    {
     "name": "stdout",
     "output_type": "stream",
     "text": [
      "Enter any string :apples and bananas\n",
      "Enter vowel to be replaced by :u\n",
      "upplus und bununus\n"
     ]
    }
   ],
   "source": [
    "vow_replace()"
   ]
  },
  {
   "cell_type": "code",
   "execution_count": 34,
   "id": "7aa206ff",
   "metadata": {},
   "outputs": [
    {
     "name": "stdout",
     "output_type": "stream",
     "text": [
      "Enter any string :cheese casserole\n",
      "Enter vowel to be replaced by :o\n",
      "chooso cossorolo\n"
     ]
    }
   ],
   "source": [
    "vow_replace()"
   ]
  },
  {
   "cell_type": "code",
   "execution_count": 35,
   "id": "cb053d08",
   "metadata": {},
   "outputs": [
    {
     "name": "stdout",
     "output_type": "stream",
     "text": [
      "Enter any string :stuffed jalapeno poppers \n",
      "Enter vowel to be replaced by :e\n",
      "steffed jelepene peppers \n"
     ]
    }
   ],
   "source": [
    "vow_replace()"
   ]
  },
  {
   "cell_type": "code",
   "execution_count": 36,
   "id": "86ddeafa",
   "metadata": {},
   "outputs": [],
   "source": [
    "# Q5"
   ]
  },
  {
   "cell_type": "code",
   "execution_count": 46,
   "id": "a47917d2",
   "metadata": {},
   "outputs": [
    {
     "name": "stdout",
     "output_type": "stream",
     "text": [
      "To bE Or nOt tO Be !\n"
     ]
    }
   ],
   "source": [
    "def ascii_capitalize(st):\n",
    "    res = []\n",
    "    for index, c in enumerate(st):\n",
    "        if index % 2 == 0:\n",
    "            res.append(c.upper())\n",
    "        else:\n",
    "            res.append(c.lower())\n",
    "\n",
    "    return ''.join(res)\n",
    "print(ascii_capitalize('to be or not to be !'))"
   ]
  },
  {
   "cell_type": "code",
   "execution_count": 47,
   "id": "8846a2da",
   "metadata": {},
   "outputs": [
    {
     "data": {
      "text/plain": [
       "'ThE LiTtLe mErMaId'"
      ]
     },
     "execution_count": 47,
     "metadata": {},
     "output_type": "execute_result"
    }
   ],
   "source": [
    "ascii_capitalize('THE LITTLE MERMAID')"
   ]
  },
  {
   "cell_type": "code",
   "execution_count": 48,
   "id": "6f47850b",
   "metadata": {},
   "outputs": [
    {
     "data": {
      "text/plain": [
       "'Oh wHaT A BeAuTiFuL MoRnInG.'"
      ]
     },
     "execution_count": 48,
     "metadata": {},
     "output_type": "execute_result"
    }
   ],
   "source": [
    "ascii_capitalize('Oh what a beautiful morning.')"
   ]
  },
  {
   "cell_type": "code",
   "execution_count": null,
   "id": "63bd75da",
   "metadata": {},
   "outputs": [],
   "source": []
  }
 ],
 "metadata": {
  "kernelspec": {
   "display_name": "Python 3 (ipykernel)",
   "language": "python",
   "name": "python3"
  },
  "language_info": {
   "codemirror_mode": {
    "name": "ipython",
    "version": 3
   },
   "file_extension": ".py",
   "mimetype": "text/x-python",
   "name": "python",
   "nbconvert_exporter": "python",
   "pygments_lexer": "ipython3",
   "version": "3.9.12"
  }
 },
 "nbformat": 4,
 "nbformat_minor": 5
}
