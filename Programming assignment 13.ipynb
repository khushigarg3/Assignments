{
 "cells": [
  {
   "cell_type": "code",
   "execution_count": 1,
   "id": "62bde835",
   "metadata": {},
   "outputs": [],
   "source": [
    "# Q1"
   ]
  },
  {
   "cell_type": "code",
   "execution_count": 2,
   "id": "bab7b0f8",
   "metadata": {},
   "outputs": [],
   "source": [
    "def sqrt() :\n",
    "    print(\"Enter some positive numbers separated by commas :\")\n",
    "    a = input()\n",
    "    a = a.split(\",\")\n",
    "    print(\"\\nEntered list of numbers :\")\n",
    "    print(a)\n",
    "    l = []\n",
    "    for i in a :\n",
    "        x = ((2*50*int(i))/30)\n",
    "        sqrt = x**(1/2)\n",
    "        l.append(int(sqrt))\n",
    "    print(\"\\nList of square roots of numbers :\")\n",
    "    print(l)\n",
    "        "
   ]
  },
  {
   "cell_type": "code",
   "execution_count": 3,
   "id": "5d144a8d",
   "metadata": {},
   "outputs": [
    {
     "name": "stdout",
     "output_type": "stream",
     "text": [
      "Enter some positive numbers separated by commas :\n",
      "100,150,180\n",
      "\n",
      "Entered list of numbers :\n",
      "['100', '150', '180']\n",
      "\n",
      "List of square roots of numbers :\n",
      "[18, 22, 24]\n"
     ]
    }
   ],
   "source": [
    "sqrt()"
   ]
  },
  {
   "cell_type": "code",
   "execution_count": 4,
   "id": "9597403c",
   "metadata": {},
   "outputs": [],
   "source": [
    "# Q2"
   ]
  },
  {
   "cell_type": "code",
   "execution_count": 5,
   "id": "4cb0ea2a",
   "metadata": {},
   "outputs": [
    {
     "name": "stdout",
     "output_type": "stream",
     "text": [
      "Input number of rows: 3\n",
      "Input number of columns: 5\n",
      "[[0, 0, 0, 0, 0], [0, 1, 2, 3, 4], [0, 2, 4, 6, 8]]\n"
     ]
    }
   ],
   "source": [
    "x = int(input(\"Input number of rows: \"))\n",
    "y = int(input(\"Input number of columns: \"))\n",
    "array = [[0 for col in range(y)] for row in range(x)]\n",
    "\n",
    "for row in range(x):\n",
    "    for col in range(y):\n",
    "        array[row][col]= row*col\n",
    "\n",
    "print(array)"
   ]
  },
  {
   "cell_type": "code",
   "execution_count": 6,
   "id": "55490ebb",
   "metadata": {},
   "outputs": [],
   "source": [
    "# Q3"
   ]
  },
  {
   "cell_type": "code",
   "execution_count": 7,
   "id": "f95bf675",
   "metadata": {},
   "outputs": [],
   "source": [
    "def sort_words() :\n",
    "    s = input(\"Enter a sequence of words separted by commas :\")\n",
    "    l = s.split(\",\")\n",
    "    print(l)\n",
    "    l.sort()\n",
    "    print(l)\n",
    "  \n",
    "   "
   ]
  },
  {
   "cell_type": "code",
   "execution_count": 8,
   "id": "184ff4f4",
   "metadata": {},
   "outputs": [
    {
     "name": "stdout",
     "output_type": "stream",
     "text": [
      "Enter a sequence of words separted by commas :without,hello,bag,world\n",
      "['without', 'hello', 'bag', 'world']\n",
      "['bag', 'hello', 'without', 'world']\n"
     ]
    }
   ],
   "source": [
    "sort_words()"
   ]
  },
  {
   "cell_type": "code",
   "execution_count": 9,
   "id": "07c5e686",
   "metadata": {},
   "outputs": [],
   "source": [
    "# Q4"
   ]
  },
  {
   "cell_type": "code",
   "execution_count": 10,
   "id": "dba26f32",
   "metadata": {},
   "outputs": [],
   "source": [
    "def sort_w() :\n",
    "    s = input(\"Enter a sequence of words separted by space :\")\n",
    "    l = s.split(\" \")\n",
    "    print(l)\n",
    "    x = set(l)\n",
    "    lst = list(x) \n",
    "    lst.sort()\n",
    "    for i in lst :\n",
    "        print(i)\n",
    "    "
   ]
  },
  {
   "cell_type": "code",
   "execution_count": 11,
   "id": "6be2a4d4",
   "metadata": {},
   "outputs": [
    {
     "name": "stdout",
     "output_type": "stream",
     "text": [
      "Enter a sequence of words separted by space :hello world and practice makes perfect and hello world again\n",
      "['hello', 'world', 'and', 'practice', 'makes', 'perfect', 'and', 'hello', 'world', 'again']\n",
      "again\n",
      "and\n",
      "hello\n",
      "makes\n",
      "perfect\n",
      "practice\n",
      "world\n"
     ]
    }
   ],
   "source": [
    "sort_w()"
   ]
  },
  {
   "cell_type": "code",
   "execution_count": 12,
   "id": "33c938df",
   "metadata": {},
   "outputs": [],
   "source": [
    "# Q5"
   ]
  },
  {
   "cell_type": "code",
   "execution_count": 13,
   "id": "5a614175",
   "metadata": {},
   "outputs": [],
   "source": [
    "def count() :\n",
    "    import re\n",
    "    s = input(\"Enter a sentence using digits, letters, characters :\")\n",
    "    x = re.split(',| |_|!|@|#|$', s)\n",
    "    for i in x :\n",
    "        if i == '' :\n",
    "            x.remove(i)\n",
    "    print(x)\n",
    "    l = []\n",
    "    l1 = []\n",
    "    for i in x :\n",
    "        if i.isalpha() == True :\n",
    "            for j in i :\n",
    "                l.append(j)\n",
    "                a = len(l)\n",
    "    print(\"LETTERS \",a)\n",
    "    for i in x :\n",
    "        if i.isdigit() == True :\n",
    "            for j in i :\n",
    "                l1.append(j)\n",
    "                b = len(l1)\n",
    "    print(\"DIGITS \",b)    \n",
    "    "
   ]
  },
  {
   "cell_type": "code",
   "execution_count": 14,
   "id": "8471d73a",
   "metadata": {},
   "outputs": [
    {
     "name": "stdout",
     "output_type": "stream",
     "text": [
      "Enter a sentence using digits, letters, characters :hello world! 123\n",
      "['hello', 'world', '123']\n",
      "LETTERS  10\n",
      "DIGITS  3\n"
     ]
    }
   ],
   "source": [
    "count()"
   ]
  },
  {
   "cell_type": "code",
   "execution_count": 15,
   "id": "fc099d29",
   "metadata": {},
   "outputs": [],
   "source": [
    "# Q6"
   ]
  },
  {
   "cell_type": "code",
   "execution_count": 50,
   "id": "c03aa2d8",
   "metadata": {},
   "outputs": [],
   "source": [
    "def check_psswd() :\n",
    "    import re \n",
    "    passw = input(\"Enter Password ::>\")\n",
    "    fl = 0\n",
    "    while True:   \n",
    "        if (len(passw)<6 or len(passw)>12): \n",
    "            fl= -1\n",
    "            break\n",
    "        elif not re.search(\"[a-z]\", passw): \n",
    "            fl = -1\n",
    "            break\n",
    "        elif not re.search(\"[A-Z]\", passw): \n",
    "            fl = -1\n",
    "            break\n",
    "        elif not re.search(\"[0-9]\", passw): \n",
    "            fl = -1\n",
    "            break\n",
    "        elif not re.search(\"[_@$]\", passw): \n",
    "            fl = -1\n",
    "            break\n",
    "        elif re.search(\"\\s\", passw): \n",
    "            fl = -1\n",
    "            break\n",
    "        else: \n",
    "            fl = 0\n",
    "            print(\" This Is Valid Password\") \n",
    "            break\n",
    "    if fl ==-1: \n",
    "        print(\"Not a Valid Password\") "
   ]
  },
  {
   "cell_type": "code",
   "execution_count": 51,
   "id": "d9c95f4a",
   "metadata": {},
   "outputs": [
    {
     "name": "stdout",
     "output_type": "stream",
     "text": [
      "Enter Password ::>ABd1234@1\n",
      " This Is Valid Password\n"
     ]
    }
   ],
   "source": [
    "check_psswd()"
   ]
  },
  {
   "cell_type": "code",
   "execution_count": 52,
   "id": "ef5ebb5d",
   "metadata": {},
   "outputs": [
    {
     "name": "stdout",
     "output_type": "stream",
     "text": [
      "Enter Password ::>aF1#\n",
      "Not a Valid Password\n"
     ]
    }
   ],
   "source": [
    "check_psswd()"
   ]
  },
  {
   "cell_type": "code",
   "execution_count": 53,
   "id": "6722650b",
   "metadata": {},
   "outputs": [
    {
     "name": "stdout",
     "output_type": "stream",
     "text": [
      "Enter Password ::>2w3E*\n",
      "Not a Valid Password\n"
     ]
    }
   ],
   "source": [
    "check_psswd()"
   ]
  },
  {
   "cell_type": "code",
   "execution_count": 54,
   "id": "c7a16cbe",
   "metadata": {},
   "outputs": [
    {
     "name": "stdout",
     "output_type": "stream",
     "text": [
      "Enter Password ::>2We3345\n",
      "Not a Valid Password\n"
     ]
    }
   ],
   "source": [
    "check_psswd()"
   ]
  },
  {
   "cell_type": "code",
   "execution_count": null,
   "id": "659b51fb",
   "metadata": {},
   "outputs": [],
   "source": []
  }
 ],
 "metadata": {
  "kernelspec": {
   "display_name": "Python 3 (ipykernel)",
   "language": "python",
   "name": "python3"
  },
  "language_info": {
   "codemirror_mode": {
    "name": "ipython",
    "version": 3
   },
   "file_extension": ".py",
   "mimetype": "text/x-python",
   "name": "python",
   "nbconvert_exporter": "python",
   "pygments_lexer": "ipython3",
   "version": "3.9.12"
  }
 },
 "nbformat": 4,
 "nbformat_minor": 5
}
