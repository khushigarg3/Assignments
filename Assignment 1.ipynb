{
 "cells": [
  {
   "cell_type": "raw",
   "id": "3312d4a6",
   "metadata": {},
   "source": [
    "1.      \n",
    "       *            Expression    \n",
    "\n",
    "    'hello'         Value\n",
    "    \n",
    "    -87.8           Value\n",
    "    \n",
    "      -            Expression \n",
    "      \n",
    "      /            Expression \n",
    "      \n",
    "      +            Expression \n",
    "      \n",
    "      6             Value"
   ]
  },
  {
   "cell_type": "raw",
   "id": "6cd15639",
   "metadata": {},
   "source": [
    "2.    Variable : A variable is a container which stores data value.\n",
    "                      eg. x = 5 (x is assigned with int value 5)\n",
    "        \n",
    "      String : String is a built-in text datatype which is defined as combination/sequence of characters.\n",
    "                      eg. a = \"python\"  (variable a is assigned with string literal)\n",
    "      "
   ]
  },
  {
   "cell_type": "raw",
   "id": "c22586fd",
   "metadata": {},
   "source": [
    "3.    DATA TYPES :-\n",
    "      \n",
    "      A.)   int     -  Integer is a whole number , positive or negative , without decimals of unlimited length.\n",
    "                            eg. x = 18\n",
    "      \n",
    "      B.)   float   - floating point number is a positive/negtaive number containing one or more decimals.\n",
    "                            eg. x = 23.4\n",
    "    \n",
    "      C.)   string  -  sequence/combination of characters.\n",
    "                            eg. a = \"hlo python\"\n",
    "        \n",
    "        "
   ]
  },
  {
   "cell_type": "raw",
   "id": "a6ace399",
   "metadata": {},
   "source": [
    "4.    An expression is consists of operators(+,-,*,/) , operands and functions/methods which always returns a value."
   ]
  },
  {
   "cell_type": "raw",
   "id": "abe7d63b",
   "metadata": {},
   "source": [
    "5.   Expression :-  They always returns a value and can print the result value .Functions are also expressions. Eamples are - 4+3 etc.\n",
    "    \n",
    "    Statements :- They never returns a value and cannot print any result. Examples are - loops,classes etc."
   ]
  },
  {
   "cell_type": "raw",
   "id": "df5aa45a",
   "metadata": {},
   "source": [
    "6.    23 "
   ]
  },
  {
   "cell_type": "raw",
   "id": "95abf54c",
   "metadata": {},
   "source": [
    "7.    'spamspamspam'\n",
    "      'spamspamspam'"
   ]
  },
  {
   "cell_type": "raw",
   "id": "3f4c757f",
   "metadata": {},
   "source": [
    "8.     eggs is a valid variable name while 100 is not because a variable name can start with alphabets,underscore but not with numeric        data."
   ]
  },
  {
   "cell_type": "raw",
   "id": "6f64f8df",
   "metadata": {},
   "source": [
    "9.     int()\n",
    "       float()\n",
    "       str()"
   ]
  },
  {
   "cell_type": "raw",
   "id": "30cfcc49",
   "metadata": {},
   "source": [
    "10.    Because we can only concatenate or add the data of similar data types either (str+str) or (int+int) not (int+str)."
   ]
  }
 ],
 "metadata": {
  "kernelspec": {
   "display_name": "Python 3 (ipykernel)",
   "language": "python",
   "name": "python3"
  },
  "language_info": {
   "codemirror_mode": {
    "name": "ipython",
    "version": 3
   },
   "file_extension": ".py",
   "mimetype": "text/x-python",
   "name": "python",
   "nbconvert_exporter": "python",
   "pygments_lexer": "ipython3",
   "version": "3.9.12"
  }
 },
 "nbformat": 4,
 "nbformat_minor": 5
}
