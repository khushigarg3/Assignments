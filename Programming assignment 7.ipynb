{
 "cells": [
  {
   "cell_type": "code",
   "execution_count": 1,
   "id": "9a83398f",
   "metadata": {},
   "outputs": [
    {
     "name": "stdout",
     "output_type": "stream",
     "text": [
      "256\n"
     ]
    }
   ],
   "source": [
    "# Program to print sum of array :-\n",
    "\n",
    "arr = [10, 89, 9, 56, 4, 80, 8]\n",
    "Sum = 0\n",
    "\n",
    "for i in range(len(arr)):\n",
    "    Sum = Sum + arr[i]\n",
    "print (Sum)"
   ]
  },
  {
   "cell_type": "code",
   "execution_count": 3,
   "id": "dd49a301",
   "metadata": {},
   "outputs": [
    {
     "name": "stdout",
     "output_type": "stream",
     "text": [
      "92\n"
     ]
    }
   ],
   "source": [
    "# Program to find largest element in an array :-\n",
    "\n",
    "arr = [28,73,92,64,8,50,27,11]\n",
    "max = arr[0]\n",
    "n = len(arr)\n",
    "for i in range(1, n):\n",
    "        if arr[i] > max:\n",
    "            max = arr[i]\n",
    "print(max)"
   ]
  },
  {
   "cell_type": "code",
   "execution_count": 4,
   "id": "e341e65e",
   "metadata": {},
   "outputs": [
    {
     "name": "stdout",
     "output_type": "stream",
     "text": [
      "True\n"
     ]
    }
   ],
   "source": [
    "# Program to check if a given array is monotonic(either inc. or dec.) :-\n",
    "\n",
    "def isMonotonic(A):\n",
    "    return (all(A[i] <= A[i + 1] for i in range(len(A) - 1)) or\n",
    "      all(A[i] >= A[i + 1] for i in range(len(A) - 1)))\n",
    "\n",
    "A = [1,2,3,4,7,8,9]\n",
    "print(isMonotonic(A))"
   ]
  },
  {
   "cell_type": "code",
   "execution_count": 5,
   "id": "2b7da43f",
   "metadata": {},
   "outputs": [],
   "source": [
    "l = [1,2,4,5,7]"
   ]
  },
  {
   "cell_type": "code",
   "execution_count": 8,
   "id": "8b99778f",
   "metadata": {},
   "outputs": [
    {
     "name": "stdout",
     "output_type": "stream",
     "text": [
      "83 16 5 32 27 40 "
     ]
    }
   ],
   "source": [
    "# Program to split the array and add first part to the end :-\n",
    "\n",
    "def SplitArray(arr, n, k):\n",
    "     for i in range(0, k):\n",
    "        x = arr[0]\n",
    "        for j in range(0, n-1):\n",
    "            arr[j] = arr[j + 1]\n",
    "\n",
    "        arr[n-1] = x\n",
    "arr = [27, 40, 83, 16, 5, 32]\n",
    "n = len(arr)\n",
    "position = 2\n",
    "SplitArray(arr, n, position)\n",
    "for i in range(0, n):\n",
    "     print(arr[i], end = ' ')"
   ]
  },
  {
   "cell_type": "code",
   "execution_count": 9,
   "id": "d5ed8ca7",
   "metadata": {},
   "outputs": [
    {
     "name": "stdout",
     "output_type": "stream",
     "text": [
      "Array after Rotation by 4 elements is:  [9, 11, 13, 15, 1, 3, 5, 7]\n"
     ]
    }
   ],
   "source": [
    "# Program to rotate an array :-\n",
    "\n",
    "def rotate_array1(arry, K, E):  \n",
    "    temp_1 = []  \n",
    "    J = 0  \n",
    "    while (J < E):  \n",
    "        temp_1.append(arry[J])  \n",
    "        J = J + 1  \n",
    "    J = 0  \n",
    "    while (E < K):  \n",
    "        arry[J] = arry[E]  \n",
    "        J = J + 1  \n",
    "        E = E + 1  \n",
    "    arry[:] = arry[: J] + temp_1  \n",
    "    return arry  \n",
    "   \n",
    "arry = [1, 3, 5, 7, 9, 11, 13, 15]  \n",
    "print (\"Array after Rotation by 4 elements is: \", end = ' ')  \n",
    "print (rotate_array1(arry, len(arry), 4))  "
   ]
  },
  {
   "cell_type": "code",
   "execution_count": null,
   "id": "86a5097a",
   "metadata": {},
   "outputs": [],
   "source": []
  }
 ],
 "metadata": {
  "kernelspec": {
   "display_name": "Python 3 (ipykernel)",
   "language": "python",
   "name": "python3"
  },
  "language_info": {
   "codemirror_mode": {
    "name": "ipython",
    "version": 3
   },
   "file_extension": ".py",
   "mimetype": "text/x-python",
   "name": "python",
   "nbconvert_exporter": "python",
   "pygments_lexer": "ipython3",
   "version": "3.9.12"
  }
 },
 "nbformat": 4,
 "nbformat_minor": 5
}
