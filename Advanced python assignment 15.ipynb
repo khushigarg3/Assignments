{
 "cells": [
  {
   "cell_type": "code",
   "execution_count": 1,
   "id": "cddd0205",
   "metadata": {},
   "outputs": [],
   "source": [
    "# Q1"
   ]
  },
  {
   "cell_type": "code",
   "execution_count": 3,
   "id": "e22d84ab",
   "metadata": {},
   "outputs": [
    {
     "data": {
      "text/plain": [
       "'walrus operator (:=).\\nThis allows you to assign variables inside an expression.\\n\\nA small improvement has been made in the f-strings formatting.\\nThey can now support = operator in f-strings that allows debugging easier.\\n\\nPython now supports the “final”. Java programmers already know about this. It has 3 major uses.'"
      ]
     },
     "execution_count": 3,
     "metadata": {},
     "output_type": "execute_result"
    }
   ],
   "source": [
    "\"\"\"walrus operator (:=).\n",
    "This allows you to assign variables inside an expression.\n",
    "\n",
    "A small improvement has been made in the f-strings formatting.\n",
    "They can now support = operator in f-strings that allows debugging easier.\n",
    "\n",
    "Python now supports the “final”. Java programmers already know about this. It has 3 major uses.\"\"\""
   ]
  },
  {
   "cell_type": "code",
   "execution_count": 4,
   "id": "8f232b8b",
   "metadata": {},
   "outputs": [],
   "source": [
    "# Q2"
   ]
  },
  {
   "cell_type": "code",
   "execution_count": 5,
   "id": "f1e99db3",
   "metadata": {},
   "outputs": [],
   "source": [
    "# In Python, the term monkey patch refers to dynamic (or run-time) modifications of a class or module. In Python, we can actually change the behavior of code at run-time.\n"
   ]
  },
  {
   "cell_type": "code",
   "execution_count": 6,
   "id": "ec0c2631",
   "metadata": {},
   "outputs": [],
   "source": [
    "# Q3"
   ]
  },
  {
   "cell_type": "code",
   "execution_count": 7,
   "id": "7bb3d2f7",
   "metadata": {},
   "outputs": [
    {
     "data": {
      "text/plain": [
       "'A shallow copy constructs a new compound object and then (to the extent possible) inserts references into it to the objects found in the original.\\n\\nA deep copy constructs a new compound object and then, recursively, inserts copies into it of the objects found in the original.'"
      ]
     },
     "execution_count": 7,
     "metadata": {},
     "output_type": "execute_result"
    }
   ],
   "source": [
    "\"\"\"A shallow copy constructs a new compound object and then (to the extent possible) inserts references into it to the objects found in the original.\n",
    "\n",
    "A deep copy constructs a new compound object and then, recursively, inserts copies into it of the objects found in the original.\"\"\""
   ]
  },
  {
   "cell_type": "code",
   "execution_count": 8,
   "id": "c4576d73",
   "metadata": {},
   "outputs": [],
   "source": [
    "# Q4"
   ]
  },
  {
   "cell_type": "code",
   "execution_count": 9,
   "id": "3f4d26c6",
   "metadata": {},
   "outputs": [],
   "source": [
    "# An identifier can have a maximum length of 79 characters in Python."
   ]
  },
  {
   "cell_type": "code",
   "execution_count": 10,
   "id": "c80098ff",
   "metadata": {},
   "outputs": [],
   "source": [
    "# Q5"
   ]
  },
  {
   "cell_type": "code",
   "execution_count": 11,
   "id": "29bb8b47",
   "metadata": {},
   "outputs": [],
   "source": [
    "# A generator comprehension is a single-line specification for defining a generator in Python."
   ]
  },
  {
   "cell_type": "code",
   "execution_count": null,
   "id": "32e38fa8",
   "metadata": {},
   "outputs": [],
   "source": []
  }
 ],
 "metadata": {
  "kernelspec": {
   "display_name": "Python 3 (ipykernel)",
   "language": "python",
   "name": "python3"
  },
  "language_info": {
   "codemirror_mode": {
    "name": "ipython",
    "version": 3
   },
   "file_extension": ".py",
   "mimetype": "text/x-python",
   "name": "python",
   "nbconvert_exporter": "python",
   "pygments_lexer": "ipython3",
   "version": "3.9.12"
  }
 },
 "nbformat": 4,
 "nbformat_minor": 5
}
