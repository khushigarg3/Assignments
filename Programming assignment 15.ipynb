{
 "cells": [
  {
   "cell_type": "code",
   "execution_count": 1,
   "id": "fbac7dea",
   "metadata": {},
   "outputs": [],
   "source": [
    "# Q1"
   ]
  },
  {
   "cell_type": "code",
   "execution_count": 9,
   "id": "44d7a968",
   "metadata": {},
   "outputs": [
    {
     "name": "stdout",
     "output_type": "stream",
     "text": [
      "Enter range :100\n",
      "0,35,70,"
     ]
    }
   ],
   "source": [
    "def NumGen(n):\n",
    "    for j in range(0, n+1) :\n",
    "        if j % 5 == 0 and j % 7 == 0 :\n",
    "            yield j\n",
    "\n",
    "if __name__ == \"__main__\":\n",
    "    N = int(input(\"Enter range :\"))\n",
    "    for j in NumGen(N) :\n",
    "        print(j, end = \",\")\n"
   ]
  },
  {
   "cell_type": "code",
   "execution_count": 8,
   "id": "4909c242",
   "metadata": {},
   "outputs": [],
   "source": [
    "# Q2"
   ]
  },
  {
   "cell_type": "code",
   "execution_count": 10,
   "id": "7063f775",
   "metadata": {},
   "outputs": [
    {
     "name": "stdout",
     "output_type": "stream",
     "text": [
      "Enter range :10\n",
      "0,2,4,6,8,10,"
     ]
    }
   ],
   "source": [
    "def Even_Gen(n):\n",
    "    for j in range(0, n+1) :\n",
    "        if j % 2 == 0 :\n",
    "            yield j\n",
    "\n",
    "if __name__ == \"__main__\":\n",
    "    N = int(input(\"Enter range :\"))\n",
    "    for j in Even_Gen(N) :\n",
    "        print(j, end = \",\")"
   ]
  },
  {
   "cell_type": "code",
   "execution_count": 11,
   "id": "241171ae",
   "metadata": {},
   "outputs": [],
   "source": [
    "# Q3"
   ]
  },
  {
   "cell_type": "code",
   "execution_count": 12,
   "id": "d07bf8d6",
   "metadata": {},
   "outputs": [],
   "source": [
    "def fib_s() :\n",
    "    n = int(input(\"Enter range :\"))\n",
    "    s= [0, 1]\n",
    "    s += [(s := [s[1], s[0] + s[1]]) and s[1] for k in range(n)]\n",
    "    print (s)"
   ]
  },
  {
   "cell_type": "code",
   "execution_count": 13,
   "id": "cc0a4cfe",
   "metadata": {},
   "outputs": [
    {
     "name": "stdout",
     "output_type": "stream",
     "text": [
      "Enter range :7\n",
      "[0, 1, 1, 2, 3, 5, 8, 13, 21]\n"
     ]
    }
   ],
   "source": [
    "fib_s()"
   ]
  },
  {
   "cell_type": "code",
   "execution_count": 14,
   "id": "03b4bf54",
   "metadata": {},
   "outputs": [],
   "source": [
    "# Q4"
   ]
  },
  {
   "cell_type": "code",
   "execution_count": 15,
   "id": "204d399c",
   "metadata": {},
   "outputs": [],
   "source": [
    "def user_name() :\n",
    "    email_id = input(\"Enter any email address :\")\n",
    "    print(\"The original string is : \" + str(email_id))\n",
    "    user = email_id[0 : email_id.index('@')]\n",
    "    print(\"The extracted domain name : \" + str(user))\n"
   ]
  },
  {
   "cell_type": "code",
   "execution_count": 16,
   "id": "50e58824",
   "metadata": {},
   "outputs": [
    {
     "name": "stdout",
     "output_type": "stream",
     "text": [
      "Enter any email address :john@google.com\n",
      "The original string is : john@google.com\n",
      "The extracted domain name : john\n"
     ]
    }
   ],
   "source": [
    "user_name()"
   ]
  },
  {
   "cell_type": "code",
   "execution_count": 17,
   "id": "02220975",
   "metadata": {},
   "outputs": [],
   "source": [
    "# Q5"
   ]
  },
  {
   "cell_type": "code",
   "execution_count": 27,
   "id": "fb910a9d",
   "metadata": {},
   "outputs": [
    {
     "name": "stdout",
     "output_type": "stream",
     "text": [
      "49\n"
     ]
    }
   ],
   "source": [
    "class Square():\n",
    "    def __init__(self, l):\n",
    "        self.length = l\n",
    "\n",
    "    def area(self):\n",
    "        return self.length * self.length\n",
    "\n",
    "square = Square(7)\n",
    "print(square.area())"
   ]
  },
  {
   "cell_type": "code",
   "execution_count": null,
   "id": "58b1ea88",
   "metadata": {},
   "outputs": [],
   "source": []
  }
 ],
 "metadata": {
  "kernelspec": {
   "display_name": "Python 3 (ipykernel)",
   "language": "python",
   "name": "python3"
  },
  "language_info": {
   "codemirror_mode": {
    "name": "ipython",
    "version": 3
   },
   "file_extension": ".py",
   "mimetype": "text/x-python",
   "name": "python",
   "nbconvert_exporter": "python",
   "pygments_lexer": "ipython3",
   "version": "3.9.12"
  }
 },
 "nbformat": 4,
 "nbformat_minor": 5
}
