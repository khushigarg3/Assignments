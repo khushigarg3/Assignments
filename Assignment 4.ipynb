{
 "cells": [
  {
   "cell_type": "code",
   "execution_count": 1,
   "id": "5d6e750e",
   "metadata": {},
   "outputs": [],
   "source": [
    "# Q1"
   ]
  },
  {
   "cell_type": "code",
   "execution_count": 2,
   "id": "f4d499bf",
   "metadata": {},
   "outputs": [
    {
     "data": {
      "text/plain": [
       "'In Python, a list is created by placing elements inside square brackets(index brackets) ([]) , separated by commas.\\nA list can have any number of items and they may be of different types (integer, float, string, etc.).'"
      ]
     },
     "execution_count": 2,
     "metadata": {},
     "output_type": "execute_result"
    }
   ],
   "source": [
    "\"\"\"In Python, a list is created by placing elements inside square brackets(index brackets) ([]) , separated by commas.\n",
    "A list can have any number of items and they may be of different types (integer, float, string, etc.).\"\"\""
   ]
  },
  {
   "cell_type": "code",
   "execution_count": 3,
   "id": "e3dc62ae",
   "metadata": {},
   "outputs": [],
   "source": [
    "# Q2"
   ]
  },
  {
   "cell_type": "code",
   "execution_count": 4,
   "id": "8576f18e",
   "metadata": {},
   "outputs": [],
   "source": [
    "spam = [2,4,6,8,10]\n",
    "spam.insert(2,\"Hello\")                        # giving index with value"
   ]
  },
  {
   "cell_type": "code",
   "execution_count": 5,
   "id": "6ffefb29",
   "metadata": {},
   "outputs": [
    {
     "data": {
      "text/plain": [
       "[2, 4, 'Hello', 6, 8, 10]"
      ]
     },
     "execution_count": 5,
     "metadata": {},
     "output_type": "execute_result"
    }
   ],
   "source": [
    "spam"
   ]
  },
  {
   "cell_type": "code",
   "execution_count": 6,
   "id": "15bb161d",
   "metadata": {},
   "outputs": [],
   "source": [
    "# Q3,4,5"
   ]
  },
  {
   "cell_type": "code",
   "execution_count": 7,
   "id": "1a5a932f",
   "metadata": {},
   "outputs": [],
   "source": [
    "spam = ['a','b','c','d']"
   ]
  },
  {
   "cell_type": "code",
   "execution_count": 8,
   "id": "10bc0ebf",
   "metadata": {},
   "outputs": [
    {
     "data": {
      "text/plain": [
       "'d'"
      ]
     },
     "execution_count": 8,
     "metadata": {},
     "output_type": "execute_result"
    }
   ],
   "source": [
    "spam[int(int('3'*2)/11)]"
   ]
  },
  {
   "cell_type": "code",
   "execution_count": 9,
   "id": "fc9720f0",
   "metadata": {},
   "outputs": [
    {
     "data": {
      "text/plain": [
       "'d'"
      ]
     },
     "execution_count": 9,
     "metadata": {},
     "output_type": "execute_result"
    }
   ],
   "source": [
    "spam[-1]"
   ]
  },
  {
   "cell_type": "code",
   "execution_count": 10,
   "id": "b1165969",
   "metadata": {},
   "outputs": [
    {
     "data": {
      "text/plain": [
       "['a', 'b']"
      ]
     },
     "execution_count": 10,
     "metadata": {},
     "output_type": "execute_result"
    }
   ],
   "source": [
    "spam[:2]"
   ]
  },
  {
   "cell_type": "code",
   "execution_count": 11,
   "id": "969d35e7",
   "metadata": {},
   "outputs": [],
   "source": [
    "# Q6,7,8"
   ]
  },
  {
   "cell_type": "code",
   "execution_count": 12,
   "id": "6683b381",
   "metadata": {},
   "outputs": [],
   "source": [
    "bacon = [3.14,'cat',11,'cat',True]"
   ]
  },
  {
   "cell_type": "code",
   "execution_count": 13,
   "id": "b8ef85cd",
   "metadata": {},
   "outputs": [
    {
     "data": {
      "text/plain": [
       "1"
      ]
     },
     "execution_count": 13,
     "metadata": {},
     "output_type": "execute_result"
    }
   ],
   "source": [
    "bacon.index('cat')"
   ]
  },
  {
   "cell_type": "code",
   "execution_count": 14,
   "id": "f3d8f6e0",
   "metadata": {},
   "outputs": [],
   "source": [
    "bacon.append(99)"
   ]
  },
  {
   "cell_type": "code",
   "execution_count": 15,
   "id": "3abf9d17",
   "metadata": {},
   "outputs": [
    {
     "data": {
      "text/plain": [
       "[3.14, 'cat', 11, 'cat', True, 99]"
      ]
     },
     "execution_count": 15,
     "metadata": {},
     "output_type": "execute_result"
    }
   ],
   "source": [
    "bacon"
   ]
  },
  {
   "cell_type": "code",
   "execution_count": 16,
   "id": "fc4a1835",
   "metadata": {},
   "outputs": [],
   "source": [
    "bacon.remove('cat')"
   ]
  },
  {
   "cell_type": "code",
   "execution_count": 17,
   "id": "b1dc5204",
   "metadata": {},
   "outputs": [
    {
     "data": {
      "text/plain": [
       "[3.14, 11, 'cat', True, 99]"
      ]
     },
     "execution_count": 17,
     "metadata": {},
     "output_type": "execute_result"
    }
   ],
   "source": [
    "bacon"
   ]
  },
  {
   "cell_type": "code",
   "execution_count": 18,
   "id": "51ac54b8",
   "metadata": {},
   "outputs": [],
   "source": [
    "# Q9"
   ]
  },
  {
   "cell_type": "code",
   "execution_count": 19,
   "id": "29ad8ac6",
   "metadata": {},
   "outputs": [],
   "source": [
    "# The operator for list concatenation is +  ,  while the operator for replication is *."
   ]
  },
  {
   "cell_type": "code",
   "execution_count": 20,
   "id": "0234cfbd",
   "metadata": {},
   "outputs": [],
   "source": [
    "# Q10"
   ]
  },
  {
   "cell_type": "code",
   "execution_count": 21,
   "id": "25cc027c",
   "metadata": {},
   "outputs": [
    {
     "data": {
      "text/plain": [
       "'The only difference between append() and insert() is that -\\ninsert() function allows us to add a specific element at a specified index of the list.\\nIn append() function , we can add the element only at end of the list.'"
      ]
     },
     "execution_count": 21,
     "metadata": {},
     "output_type": "execute_result"
    }
   ],
   "source": [
    "\"\"\"The only difference between append() and insert() is that -\n",
    "insert() function allows us to add a specific element at a specified index of the list.\n",
    "In append() function , we can add the element only at end of the list.\"\"\""
   ]
  },
  {
   "cell_type": "code",
   "execution_count": 22,
   "id": "9d14544a",
   "metadata": {},
   "outputs": [],
   "source": [
    "# Q11"
   ]
  },
  {
   "cell_type": "code",
   "execution_count": 23,
   "id": "df9e6c26",
   "metadata": {},
   "outputs": [
    {
     "data": {
      "text/plain": [
       "3"
      ]
     },
     "execution_count": 23,
     "metadata": {},
     "output_type": "execute_result"
    }
   ],
   "source": [
    "\"\"\"remove()  -  It helps to remove the very first given element matching from the list.\n",
    "   pop()  -  The pop() method removes an element from the list based on the index given.\"\"\"\n",
    "\n",
    "l = [9,2,3,1,6,5,7]\n",
    "l.remove(6)\n",
    "l.pop(2)"
   ]
  },
  {
   "cell_type": "code",
   "execution_count": 24,
   "id": "25d83715",
   "metadata": {},
   "outputs": [
    {
     "data": {
      "text/plain": [
       "[9, 2, 1, 5, 7]"
      ]
     },
     "execution_count": 24,
     "metadata": {},
     "output_type": "execute_result"
    }
   ],
   "source": [
    "l"
   ]
  },
  {
   "cell_type": "code",
   "execution_count": 25,
   "id": "9d0ae98f",
   "metadata": {},
   "outputs": [],
   "source": [
    "# Q12"
   ]
  },
  {
   "cell_type": "code",
   "execution_count": 26,
   "id": "16774dc2",
   "metadata": {},
   "outputs": [],
   "source": [
    "\n",
    "# List and string both are used to store value /data and both are sequence."
   ]
  },
  {
   "cell_type": "code",
   "execution_count": 27,
   "id": "c970a5a9",
   "metadata": {},
   "outputs": [],
   "source": [
    "# Q13"
   ]
  },
  {
   "cell_type": "code",
   "execution_count": 28,
   "id": "124090b6",
   "metadata": {},
   "outputs": [
    {
     "data": {
      "text/plain": [
       "\"Lists and tuples both are sequence datatypes which are used to store collection of differenr data types.\\n\\nList -  These are mutable , consumes more memory , have several built-in methods.\\nTuples - These are immutable , consumes less memory as compared to list , doesn't have much built-in methods.\""
      ]
     },
     "execution_count": 28,
     "metadata": {},
     "output_type": "execute_result"
    }
   ],
   "source": [
    "\"\"\"Lists and tuples both are sequence datatypes which are used to store collection of differenr data types.\n",
    "\n",
    "List -  These are mutable , consumes more memory , have several built-in methods.\n",
    "Tuples - These are immutable , consumes less memory as compared to list , doesn't have much built-in methods.\"\"\""
   ]
  },
  {
   "cell_type": "code",
   "execution_count": 29,
   "id": "ecb5e39d",
   "metadata": {},
   "outputs": [],
   "source": [
    "# Q14"
   ]
  },
  {
   "cell_type": "code",
   "execution_count": 30,
   "id": "95330068",
   "metadata": {},
   "outputs": [],
   "source": [
    "t = (42,)"
   ]
  },
  {
   "cell_type": "code",
   "execution_count": 31,
   "id": "d79e0165",
   "metadata": {},
   "outputs": [
    {
     "data": {
      "text/plain": [
       "tuple"
      ]
     },
     "execution_count": 31,
     "metadata": {},
     "output_type": "execute_result"
    }
   ],
   "source": [
    "type(t)"
   ]
  },
  {
   "cell_type": "code",
   "execution_count": 32,
   "id": "dfd570ac",
   "metadata": {},
   "outputs": [
    {
     "data": {
      "text/plain": [
       "1"
      ]
     },
     "execution_count": 32,
     "metadata": {},
     "output_type": "execute_result"
    }
   ],
   "source": [
    "len(t)"
   ]
  },
  {
   "cell_type": "code",
   "execution_count": 33,
   "id": "40661f8f",
   "metadata": {},
   "outputs": [],
   "source": [
    "# Q15"
   ]
  },
  {
   "cell_type": "code",
   "execution_count": 34,
   "id": "b66c0a32",
   "metadata": {},
   "outputs": [],
   "source": [
    "def convert(list):\n",
    "    return tuple(i for i in list)\n",
    "  "
   ]
  },
  {
   "cell_type": "code",
   "execution_count": 35,
   "id": "ba5f82c3",
   "metadata": {},
   "outputs": [
    {
     "data": {
      "text/plain": [
       "(1, 2, 3, 4)"
      ]
     },
     "execution_count": 35,
     "metadata": {},
     "output_type": "execute_result"
    }
   ],
   "source": [
    "convert([1,2,3,4])"
   ]
  },
  {
   "cell_type": "code",
   "execution_count": 36,
   "id": "9a91c482",
   "metadata": {},
   "outputs": [
    {
     "name": "stdout",
     "output_type": "stream",
     "text": [
      "[2, 3, 'python']\n"
     ]
    }
   ],
   "source": [
    "def convert(tuple):\n",
    "    return list(i for i in tuple)\n",
    "\n",
    "t = (2,3,\"python\")\n",
    "print(convert(t))"
   ]
  },
  {
   "cell_type": "code",
   "execution_count": 37,
   "id": "98e56957",
   "metadata": {},
   "outputs": [],
   "source": [
    "# Q16"
   ]
  },
  {
   "cell_type": "code",
   "execution_count": 38,
   "id": "9c216484",
   "metadata": {},
   "outputs": [],
   "source": [
    "# Variables that \"contain\" list values don't actually contain lists directly. They contain references to list value."
   ]
  },
  {
   "cell_type": "code",
   "execution_count": 39,
   "id": "536f6bdc",
   "metadata": {},
   "outputs": [],
   "source": [
    "# Q17"
   ]
  },
  {
   "cell_type": "code",
   "execution_count": null,
   "id": "4b42044f",
   "metadata": {},
   "outputs": [],
   "source": [
    "\"\"\"A shallow copy creates a new object which stores the reference of the original elements.\n",
    "So, a shallow copy doesn't create a copy of nested objects, instead it just copies the reference of nested objects.\n",
    "It is created using copy() method.\n",
    "\n",
    "A deep copy creates a new object and recursively adds the copies of nested objects present in the original elements.\n",
    "It is created using deepcopy() function \"\"\""
   ]
  }
 ],
 "metadata": {
  "kernelspec": {
   "display_name": "Python 3 (ipykernel)",
   "language": "python",
   "name": "python3"
  },
  "language_info": {
   "codemirror_mode": {
    "name": "ipython",
    "version": 3
   },
   "file_extension": ".py",
   "mimetype": "text/x-python",
   "name": "python",
   "nbconvert_exporter": "python",
   "pygments_lexer": "ipython3",
   "version": "3.9.12"
  }
 },
 "nbformat": 4,
 "nbformat_minor": 5
}
