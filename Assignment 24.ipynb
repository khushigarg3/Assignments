{
 "cells": [
  {
   "cell_type": "code",
   "execution_count": null,
   "id": "b235a79d",
   "metadata": {},
   "outputs": [],
   "source": [
    "# Q1"
   ]
  },
  {
   "cell_type": "code",
   "execution_count": 1,
   "id": "41b2aaea",
   "metadata": {},
   "outputs": [
    {
     "data": {
      "text/plain": [
       "6"
      ]
     },
     "execution_count": 1,
     "metadata": {},
     "output_type": "execute_result"
    }
   ],
   "source": [
    "def func(a, b):\n",
    "    return a * b\n",
    "\n",
    "func(2,3)\n"
   ]
  },
  {
   "cell_type": "code",
   "execution_count": 2,
   "id": "88ded79a",
   "metadata": {},
   "outputs": [
    {
     "data": {
      "text/plain": [
       "6"
      ]
     },
     "execution_count": 2,
     "metadata": {},
     "output_type": "execute_result"
    }
   ],
   "source": [
    "multiply = lambda a, b: a * b\n",
    "multiply(2, 3)"
   ]
  },
  {
   "cell_type": "code",
   "execution_count": 3,
   "id": "1d974fff",
   "metadata": {},
   "outputs": [],
   "source": [
    "# A lambda() is an expression producing a function while def() is a statement producing a function."
   ]
  },
  {
   "cell_type": "code",
   "execution_count": 4,
   "id": "b666aff6",
   "metadata": {},
   "outputs": [],
   "source": [
    "# Q2"
   ]
  },
  {
   "cell_type": "code",
   "execution_count": 5,
   "id": "3f0bca1c",
   "metadata": {},
   "outputs": [
    {
     "data": {
      "text/plain": [
       "'Lambda functions reduce the number of lines of code when compared to normal python function defined using def keyword.\\nBut this is not exactly true because, even functions defined with def can be defined in one single line.\\nBut generally, def functions are written in more than 1 line.'"
      ]
     },
     "execution_count": 5,
     "metadata": {},
     "output_type": "execute_result"
    }
   ],
   "source": [
    "\"\"\"Lambda functions reduce the number of lines of code when compared to normal python function defined using def keyword.\n",
    "But this is not exactly true because, even functions defined with def can be defined in one single line.\n",
    "But generally, def functions are written in more than 1 line.\"\"\""
   ]
  },
  {
   "cell_type": "code",
   "execution_count": 6,
   "id": "4df6833a",
   "metadata": {},
   "outputs": [],
   "source": [
    "# Q3"
   ]
  },
  {
   "cell_type": "code",
   "execution_count": 7,
   "id": "cd2ab929",
   "metadata": {},
   "outputs": [
    {
     "data": {
      "text/plain": [
       "'The map() function is a higher-order function. As previously stated, this function accepts another function and a sequence of ‘iterables’ as parameters and provides output after applying the function to each iterable in the sequence. \\n\\nThe filter() function is used to generate an output list of values that return true when the function is called.\\n\\nThe reduce() function applies a provided function to ‘iterables’ and returns a single value, as the name implies.'"
      ]
     },
     "execution_count": 7,
     "metadata": {},
     "output_type": "execute_result"
    }
   ],
   "source": [
    "\"\"\"The map() function is a higher-order function. As previously stated, this function accepts another function and a sequence of ‘iterables’ as parameters and provides output after applying the function to each iterable in the sequence. \n",
    "\n",
    "The filter() function is used to generate an output list of values that return true when the function is called.\n",
    "\n",
    "The reduce() function applies a provided function to ‘iterables’ and returns a single value, as the name implies.\"\"\""
   ]
  },
  {
   "cell_type": "code",
   "execution_count": 8,
   "id": "2a548da1",
   "metadata": {},
   "outputs": [],
   "source": [
    "# Q4"
   ]
  },
  {
   "cell_type": "code",
   "execution_count": 10,
   "id": "dee78a0c",
   "metadata": {},
   "outputs": [
    {
     "data": {
      "text/plain": [
       "'Function annotations provide a way of associating various parts of a function with arbitrary python expressions at compile time.\\nThey are completely optional both for parameters n return value.'"
      ]
     },
     "execution_count": 10,
     "metadata": {},
     "output_type": "execute_result"
    }
   ],
   "source": [
    "\"\"\"Function annotations provide a way of associating various parts of a function with arbitrary python expressions at compile time.\n",
    "They are completely optional both for parameters n return value.\"\"\"\n"
   ]
  },
  {
   "cell_type": "code",
   "execution_count": 11,
   "id": "3b8e98c5",
   "metadata": {},
   "outputs": [],
   "source": [
    "# Q5"
   ]
  },
  {
   "cell_type": "code",
   "execution_count": 12,
   "id": "f434c157",
   "metadata": {},
   "outputs": [
    {
     "name": "stdout",
     "output_type": "stream",
     "text": [
      "The factorial of 3 is 6\n"
     ]
    }
   ],
   "source": [
    "\"\"\"In Python, we know that a function can call other functions. It is even possible for the function to call itself.\n",
    "These types of construct are termed as recursive functions.\"\"\"\n",
    "\n",
    "def factorial(x):\n",
    "    \"\"\"This is a recursive function\n",
    "    to find the factorial of an integer\"\"\"\n",
    "    if x == 1:\n",
    "        return 1\n",
    "    else:\n",
    "        return (x * factorial(x-1))\n",
    "\n",
    "\n",
    "num = 3\n",
    "print(\"The factorial of\", num, \"is\", factorial(num))\n",
    "\n"
   ]
  },
  {
   "cell_type": "code",
   "execution_count": 13,
   "id": "c7497f50",
   "metadata": {},
   "outputs": [],
   "source": [
    "# Q6"
   ]
  },
  {
   "cell_type": "code",
   "execution_count": 14,
   "id": "08a3e467",
   "metadata": {},
   "outputs": [
    {
     "data": {
      "text/plain": [
       "'All functions that encountering an error condition should either return a 0 or 1 for simplifying the debugging.\\nLength of functions should not be very large.\\nCode should be easily understandable. The complex code makes maintenance and debugging difficult and expensive.\\nFor better understanding and maintenance of the code, the header of different modules should follow some standard format and information. \\nThe code should be properly commented for understanding easily. Comments regarding the statements increase the understandability of the code.'"
      ]
     },
     "execution_count": 14,
     "metadata": {},
     "output_type": "execute_result"
    }
   ],
   "source": [
    "\"\"\"All functions that encountering an error condition should either return a 0 or 1 for simplifying the debugging.\n",
    "Length of functions should not be very large.\n",
    "Code should be easily understandable. The complex code makes maintenance and debugging difficult and expensive.\n",
    "For better understanding and maintenance of the code, the header of different modules should follow some standard format and information. \n",
    "The code should be properly commented for understanding easily. Comments regarding the statements increase the understandability of the code.\"\"\"\n"
   ]
  },
  {
   "cell_type": "code",
   "execution_count": null,
   "id": "e4c42c0b",
   "metadata": {},
   "outputs": [],
   "source": []
  }
 ],
 "metadata": {
  "kernelspec": {
   "display_name": "Python 3 (ipykernel)",
   "language": "python",
   "name": "python3"
  },
  "language_info": {
   "codemirror_mode": {
    "name": "ipython",
    "version": 3
   },
   "file_extension": ".py",
   "mimetype": "text/x-python",
   "name": "python",
   "nbconvert_exporter": "python",
   "pygments_lexer": "ipython3",
   "version": "3.9.12"
  }
 },
 "nbformat": 4,
 "nbformat_minor": 5
}
