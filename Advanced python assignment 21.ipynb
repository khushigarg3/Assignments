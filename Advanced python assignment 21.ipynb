{
 "cells": [
  {
   "cell_type": "code",
   "execution_count": 1,
   "id": "dd09cfce",
   "metadata": {},
   "outputs": [],
   "source": [
    "# Q1"
   ]
  },
  {
   "cell_type": "code",
   "execution_count": 2,
   "id": "31419df1",
   "metadata": {},
   "outputs": [
    {
     "data": {
      "text/plain": [
       "'A Probability Distribution is a statistical method that determines all the probable values and possibilities that a random variable can deliver from a particular range.\\nThis range of values will have a lower bound and an upper bound, which we call the minimum and the maximum possible values.'"
      ]
     },
     "execution_count": 2,
     "metadata": {},
     "output_type": "execute_result"
    }
   ],
   "source": [
    "\"\"\"A Probability Distribution is a statistical method that determines all the probable values and possibilities that a random variable can deliver from a particular range.\n",
    "This range of values will have a lower bound and an upper bound, which we call the minimum and the maximum possible values.\"\"\"  "
   ]
  },
  {
   "cell_type": "code",
   "execution_count": 3,
   "id": "519fbc7c",
   "metadata": {},
   "outputs": [],
   "source": [
    "# Q2"
   ]
  },
  {
   "cell_type": "code",
   "execution_count": 4,
   "id": "046db58d",
   "metadata": {},
   "outputs": [],
   "source": [
    "# The difference between true random number generators(TRNGs) and pseudo-random number generators(PRNGs) is that TRNGs use an unpredictable physical means to generate numbers (like atmospheric noise), and PRNGs use mathematical algorithms (completely computer-generated)."
   ]
  },
  {
   "cell_type": "code",
   "execution_count": 5,
   "id": "3b6424d5",
   "metadata": {},
   "outputs": [],
   "source": [
    "# Q3"
   ]
  },
  {
   "cell_type": "code",
   "execution_count": 6,
   "id": "73cc5b8e",
   "metadata": {},
   "outputs": [
    {
     "data": {
      "text/plain": [
       "'The two main parameters of a (normal) distribution are the mean and standard deviation. The parameters determine the shape and probabilities of the distribution.\\nThe shape of the distribution changes as the parameter values change.'"
      ]
     },
     "execution_count": 6,
     "metadata": {},
     "output_type": "execute_result"
    }
   ],
   "source": [
    "\"\"\"The two main parameters of a (normal) distribution are the mean and standard deviation. The parameters determine the shape and probabilities of the distribution.\n",
    "The shape of the distribution changes as the parameter values change.\"\"\""
   ]
  },
  {
   "cell_type": "code",
   "execution_count": 7,
   "id": "51b5b665",
   "metadata": {},
   "outputs": [],
   "source": [
    "# Q4"
   ]
  },
  {
   "cell_type": "code",
   "execution_count": 8,
   "id": "015a7dba",
   "metadata": {},
   "outputs": [
    {
     "data": {
      "text/plain": [
       "'IQ\\nIn this scenario of increasing competition, most parents, as well as children, want to analyze the Intelligent Quotient level.\\nWell, the IQ of a particular population is a normal distribution curve; where IQ of a majority of the people in the population lies in the normal range whereas the IQ of the rest of the population lies in the deviated range.'"
      ]
     },
     "execution_count": 8,
     "metadata": {},
     "output_type": "execute_result"
    }
   ],
   "source": [
    "\"\"\"IQ\n",
    "In this scenario of increasing competition, most parents, as well as children, want to analyze the Intelligent Quotient level.\n",
    "Well, the IQ of a particular population is a normal distribution curve; where IQ of a majority of the people in the population lies in the normal range whereas the IQ of the rest of the population lies in the deviated range.\"\"\""
   ]
  },
  {
   "cell_type": "code",
   "execution_count": 11,
   "id": "c615421e",
   "metadata": {},
   "outputs": [],
   "source": [
    "# Q6"
   ]
  },
  {
   "cell_type": "code",
   "execution_count": 12,
   "id": "d9604fd5",
   "metadata": {},
   "outputs": [],
   "source": [
    "# The shuffle() method takes a sequence, like a list, and reorganize the order of the items."
   ]
  },
  {
   "cell_type": "code",
   "execution_count": 13,
   "id": "a464b1d2",
   "metadata": {},
   "outputs": [],
   "source": [
    "# Q7"
   ]
  },
  {
   "cell_type": "code",
   "execution_count": 14,
   "id": "8496dcc1",
   "metadata": {},
   "outputs": [
    {
     "data": {
      "text/plain": [
       "'pow(x, y)\\nReturn the x to the power y value.\\n\\nsqrt(x)\\nFinds the square root of x\\n\\nexp(x)\\nFinds xe, where e = 2.718281\\n\\nlog(x[, base])\\nReturns the Log of x, where base is given. The default base is e\\n\\nlog2(x)\\nReturns the Log of x, where base is 2\\n\\nlog10(x)\\nReturns the Log of x, where base is 10'"
      ]
     },
     "execution_count": 14,
     "metadata": {},
     "output_type": "execute_result"
    }
   ],
   "source": [
    "\"\"\"pow(x, y)\n",
    "Return the x to the power y value.\n",
    "\n",
    "sqrt(x)\n",
    "Finds the square root of x\n",
    "\n",
    "exp(x)\n",
    "Finds xe, where e = 2.718281\n",
    "\n",
    "log(x[, base])\n",
    "Returns the Log of x, where base is given. The default base is e\n",
    "\n",
    "log2(x)\n",
    "Returns the Log of x, where base is 2\n",
    "\n",
    "log10(x)\n",
    "Returns the Log of x, where base is 10\"\"\""
   ]
  },
  {
   "cell_type": "code",
   "execution_count": 15,
   "id": "f10fc0e2",
   "metadata": {},
   "outputs": [],
   "source": [
    "# Q8"
   ]
  },
  {
   "cell_type": "code",
   "execution_count": 16,
   "id": "5e19edda",
   "metadata": {},
   "outputs": [
    {
     "data": {
      "text/plain": [
       "'Logarithmic functions are the inverses of exponential functions. The inverse of the exponential function y = ax is x = ay.\\nThe logarithmic function y = logax is defined to be equivalent to the exponential equation x = ay.'"
      ]
     },
     "execution_count": 16,
     "metadata": {},
     "output_type": "execute_result"
    }
   ],
   "source": [
    "\"\"\"Logarithmic functions are the inverses of exponential functions. The inverse of the exponential function y = ax is x = ay.\n",
    "The logarithmic function y = logax is defined to be equivalent to the exponential equation x = ay.\"\"\""
   ]
  },
  {
   "cell_type": "code",
   "execution_count": 17,
   "id": "56fe8c1f",
   "metadata": {},
   "outputs": [],
   "source": [
    "# Q9"
   ]
  },
  {
   "cell_type": "code",
   "execution_count": 18,
   "id": "16850123",
   "metadata": {},
   "outputs": [
    {
     "data": {
      "text/plain": [
       "'The following are the basic log function in Python:\\n\\nlog2(x)\\nlog(x, Base)\\nlog10(x)'"
      ]
     },
     "execution_count": 18,
     "metadata": {},
     "output_type": "execute_result"
    }
   ],
   "source": [
    "\"\"\"The following are the basic log function in Python:\n",
    "\n",
    "log2(x)\n",
    "log(x, Base)\n",
    "log10(x)\"\"\""
   ]
  },
  {
   "cell_type": "code",
   "execution_count": null,
   "id": "b0456d85",
   "metadata": {},
   "outputs": [],
   "source": []
  }
 ],
 "metadata": {
  "kernelspec": {
   "display_name": "Python 3 (ipykernel)",
   "language": "python",
   "name": "python3"
  },
  "language_info": {
   "codemirror_mode": {
    "name": "ipython",
    "version": 3
   },
   "file_extension": ".py",
   "mimetype": "text/x-python",
   "name": "python",
   "nbconvert_exporter": "python",
   "pygments_lexer": "ipython3",
   "version": "3.9.12"
  }
 },
 "nbformat": 4,
 "nbformat_minor": 5
}
