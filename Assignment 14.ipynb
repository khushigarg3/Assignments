{
 "cells": [
  {
   "cell_type": "code",
   "execution_count": 1,
   "id": "c4a03e19",
   "metadata": {},
   "outputs": [],
   "source": [
    "# Q1"
   ]
  },
  {
   "cell_type": "code",
   "execution_count": 2,
   "id": "677cf3b1",
   "metadata": {},
   "outputs": [
    {
     "data": {
      "text/plain": [
       "'RGBA(Red-Green-Blue-Alpha)\\nThe RGB color model is extended in this specification to include “alpha” to allow specification of the opacity of a color.'"
      ]
     },
     "execution_count": 2,
     "metadata": {},
     "output_type": "execute_result"
    }
   ],
   "source": [
    "\"\"\"RGBA(Red-Green-Blue-Alpha)\n",
    "The RGB color model is extended in this specification to include “alpha” to allow specification of the opacity of a color.\"\"\""
   ]
  },
  {
   "cell_type": "code",
   "execution_count": 3,
   "id": "e56f5a36",
   "metadata": {},
   "outputs": [],
   "source": [
    "# Q2"
   ]
  },
  {
   "cell_type": "code",
   "execution_count": 4,
   "id": "573b765f",
   "metadata": {},
   "outputs": [
    {
     "data": {
      "text/plain": [
       "'pix_val = list(im.getdata())\\n\\npix_val is the list that contains all the pixel values which can be printed to see those values.'"
      ]
     },
     "execution_count": 4,
     "metadata": {},
     "output_type": "execute_result"
    }
   ],
   "source": [
    "\"\"\"pix_val = list(im.getdata())\n",
    "\n",
    "pix_val is the list that contains all the pixel values which can be printed to see those values.\"\"\""
   ]
  },
  {
   "cell_type": "code",
   "execution_count": 5,
   "id": "464b30fa",
   "metadata": {},
   "outputs": [],
   "source": [
    "# Q3"
   ]
  },
  {
   "cell_type": "code",
   "execution_count": 6,
   "id": "c6d72a45",
   "metadata": {},
   "outputs": [],
   "source": [
    "# The xy argument is a box tuple (left, top, right, bottom) that represents a box that precisely contains the ellipse."
   ]
  },
  {
   "cell_type": "code",
   "execution_count": 7,
   "id": "0a0a7fc4",
   "metadata": {},
   "outputs": [],
   "source": [
    "# Q4"
   ]
  },
  {
   "cell_type": "code",
   "execution_count": 8,
   "id": "58a497ee",
   "metadata": {},
   "outputs": [
    {
     "data": {
      "text/plain": [
       "'PIL.Image.open() is used to open the image and then .width and .height property of Image are used to get the height and width of the image.'"
      ]
     },
     "execution_count": 8,
     "metadata": {},
     "output_type": "execute_result"
    }
   ],
   "source": [
    "\"\"\"PIL.Image.open() is used to open the image and then .width and .height property of Image are used to get the height and width of the image.\"\"\""
   ]
  },
  {
   "cell_type": "code",
   "execution_count": 10,
   "id": "740ba3ec",
   "metadata": {},
   "outputs": [],
   "source": [
    "# Q6"
   ]
  },
  {
   "cell_type": "code",
   "execution_count": 11,
   "id": "8e9d13f5",
   "metadata": {},
   "outputs": [],
   "source": [
    "# Image.save() Saves this image under the given filename. If no format is specified, the format to use is determined from the filename extension, if possible."
   ]
  },
  {
   "cell_type": "code",
   "execution_count": 12,
   "id": "8e4c7af3",
   "metadata": {},
   "outputs": [],
   "source": [
    "# Q7"
   ]
  },
  {
   "cell_type": "code",
   "execution_count": 13,
   "id": "c332b82a",
   "metadata": {},
   "outputs": [
    {
     "data": {
      "text/plain": [
       "'ImageDraw module of the Python image processing library Pillow (PIL) provides many methods for drawing figures, such as circles, squares, and straight lines.'"
      ]
     },
     "execution_count": 13,
     "metadata": {},
     "output_type": "execute_result"
    }
   ],
   "source": [
    "\"\"\"ImageDraw module of the Python image processing library Pillow (PIL) provides many methods for drawing figures, such as circles, squares, and straight lines.\"\"\""
   ]
  },
  {
   "cell_type": "code",
   "execution_count": null,
   "id": "9e0fba1f",
   "metadata": {},
   "outputs": [],
   "source": []
  }
 ],
 "metadata": {
  "kernelspec": {
   "display_name": "Python 3 (ipykernel)",
   "language": "python",
   "name": "python3"
  },
  "language_info": {
   "codemirror_mode": {
    "name": "ipython",
    "version": 3
   },
   "file_extension": ".py",
   "mimetype": "text/x-python",
   "name": "python",
   "nbconvert_exporter": "python",
   "pygments_lexer": "ipython3",
   "version": "3.9.12"
  }
 },
 "nbformat": 4,
 "nbformat_minor": 5
}
