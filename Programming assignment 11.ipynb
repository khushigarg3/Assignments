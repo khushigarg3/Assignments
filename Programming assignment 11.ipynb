{
 "cells": [
  {
   "cell_type": "code",
   "execution_count": null,
   "id": "c8bf7ae8",
   "metadata": {},
   "outputs": [],
   "source": [
    "# Q1"
   ]
  },
  {
   "cell_type": "code",
   "execution_count": 12,
   "id": "6d04faf2",
   "metadata": {},
   "outputs": [],
   "source": [
    "def words(n,k) :\n",
    "    s=n.split(\" \")\n",
    "    print(s)\n",
    "    for i in s :\n",
    "        if len(i)>k :\n",
    "            print(i)\n"
   ]
  },
  {
   "cell_type": "code",
   "execution_count": 13,
   "id": "2aa1808c",
   "metadata": {},
   "outputs": [
    {
     "name": "stdout",
     "output_type": "stream",
     "text": [
      "['Hlo', 'welcome', 'to', 'the', 'world', 'of', 'Python', 'Programming']\n",
      "welcome\n",
      "world\n",
      "Python\n",
      "Programming\n"
     ]
    }
   ],
   "source": [
    "words(\"Hlo welcome to the world of Python Programming\",3)"
   ]
  },
  {
   "cell_type": "code",
   "execution_count": 14,
   "id": "86648e42",
   "metadata": {},
   "outputs": [],
   "source": [
    "# Q2"
   ]
  },
  {
   "cell_type": "code",
   "execution_count": 25,
   "id": "73075de4",
   "metadata": {},
   "outputs": [],
   "source": [
    "def rem(n,i) :\n",
    "    l = list(n)\n",
    "    for j in range(0,len(l)) :\n",
    "        if j == i :\n",
    "            del l[j]\n",
    "    print(l)\n",
    "        "
   ]
  },
  {
   "cell_type": "code",
   "execution_count": 27,
   "id": "fffbe416",
   "metadata": {},
   "outputs": [
    {
     "name": "stdout",
     "output_type": "stream",
     "text": [
      "['H', 'l', 'o', ' ', 'P', 't', 'h', 'o', 'n']\n"
     ]
    }
   ],
   "source": [
    "rem(\"Hlo Python\",5)"
   ]
  },
  {
   "cell_type": "code",
   "execution_count": 28,
   "id": "e7044678",
   "metadata": {},
   "outputs": [],
   "source": [
    "# Q3"
   ]
  },
  {
   "cell_type": "code",
   "execution_count": 31,
   "id": "f278a22d",
   "metadata": {},
   "outputs": [
    {
     "name": "stdout",
     "output_type": "stream",
     "text": [
      "['Python', 'Programming', 'Language']\n",
      "\n",
      "\n",
      "Python-Programming-Language\n"
     ]
    }
   ],
   "source": [
    "s = 'Python Programming Language'\n",
    "print(s.split(\" \"))\n",
    "print(\"\\n\")\n",
    "print(\"-\".join(s.split()))\n"
   ]
  },
  {
   "cell_type": "code",
   "execution_count": 33,
   "id": "2612dab4",
   "metadata": {},
   "outputs": [],
   "source": [
    "# Q4"
   ]
  },
  {
   "cell_type": "code",
   "execution_count": 35,
   "id": "32692661",
   "metadata": {},
   "outputs": [],
   "source": [
    "def check(s) :\n",
    "    x = set(s)\n",
    "    y = {'0', '1'}\n",
    "    if y == x or x == {'0'} or x == {'1'}:\n",
    "        print(\"Binary String\")\n",
    "    else :\n",
    "        print(\"Non Binary String\")\n",
    "  "
   ]
  },
  {
   "cell_type": "code",
   "execution_count": 36,
   "id": "71f04c4d",
   "metadata": {},
   "outputs": [
    {
     "name": "stdout",
     "output_type": "stream",
     "text": [
      "Non Binary String\n"
     ]
    }
   ],
   "source": [
    "check(\"0002001\")"
   ]
  },
  {
   "cell_type": "code",
   "execution_count": 37,
   "id": "621b310d",
   "metadata": {},
   "outputs": [
    {
     "name": "stdout",
     "output_type": "stream",
     "text": [
      "Binary String\n"
     ]
    }
   ],
   "source": [
    "check(\"0010011011\")"
   ]
  },
  {
   "cell_type": "code",
   "execution_count": 38,
   "id": "c1b3d17e",
   "metadata": {},
   "outputs": [],
   "source": [
    "# Q5"
   ]
  },
  {
   "cell_type": "code",
   "execution_count": 8,
   "id": "3bd39a20",
   "metadata": {},
   "outputs": [
    {
     "name": "stdout",
     "output_type": "stream",
     "text": [
      "The uncommon words in strings are: ['Hello', '!', 'on', 'Jupyter']\n"
     ]
    }
   ],
   "source": [
    "def find(A, B):\n",
    "    count = {}\n",
    "    for word in A.split():\n",
    "        count[word] = count.get(word, 0) + 1\n",
    "    for word in B.split():\n",
    "        count[word] = count.get(word, 0) + 1\n",
    "    return [word for word in count if count[word] == 1]\n",
    "\n",
    "A = \"Hello Python !\"\n",
    "B = \"Python on Jupyter\"\n",
    "print(\"The uncommon words in strings are:\",find(A, B))"
   ]
  },
  {
   "cell_type": "code",
   "execution_count": 9,
   "id": "b0239376",
   "metadata": {},
   "outputs": [],
   "source": [
    "# Q6"
   ]
  },
  {
   "cell_type": "code",
   "execution_count": 10,
   "id": "ce3bf0fc",
   "metadata": {},
   "outputs": [],
   "source": [
    "def find_duplicate():\n",
    "    x =input(\"Enter a word = \")\n",
    "    for char in x :\n",
    "        counts=x.count(char)\n",
    "        while counts > 1:\n",
    "            return print(char,counts)"
   ]
  },
  {
   "cell_type": "code",
   "execution_count": 11,
   "id": "71896ba2",
   "metadata": {},
   "outputs": [
    {
     "name": "stdout",
     "output_type": "stream",
     "text": [
      "Enter a word = hlo this is python\n",
      "h 3\n"
     ]
    }
   ],
   "source": [
    "find_duplicate()"
   ]
  },
  {
   "cell_type": "code",
   "execution_count": 12,
   "id": "b381ab13",
   "metadata": {},
   "outputs": [],
   "source": [
    "# Q7"
   ]
  },
  {
   "cell_type": "code",
   "execution_count": 20,
   "id": "97893e77",
   "metadata": {},
   "outputs": [
    {
     "name": "stdout",
     "output_type": "stream",
     "text": [
      "hlo #pyth$on\n",
      "yes\n"
     ]
    }
   ],
   "source": [
    "special_characters = \"!@^&*()-+?_=,<>/#$%\"\n",
    "s=input()\n",
    "\n",
    "if any(c in special_characters for c in s):\n",
    "    print(\"yes\")\n",
    "else:\n",
    "    print(\"no\")"
   ]
  },
  {
   "cell_type": "code",
   "execution_count": null,
   "id": "73373246",
   "metadata": {},
   "outputs": [],
   "source": []
  }
 ],
 "metadata": {
  "kernelspec": {
   "display_name": "Python 3 (ipykernel)",
   "language": "python",
   "name": "python3"
  },
  "language_info": {
   "codemirror_mode": {
    "name": "ipython",
    "version": 3
   },
   "file_extension": ".py",
   "mimetype": "text/x-python",
   "name": "python",
   "nbconvert_exporter": "python",
   "pygments_lexer": "ipython3",
   "version": "3.9.12"
  }
 },
 "nbformat": 4,
 "nbformat_minor": 5
}
