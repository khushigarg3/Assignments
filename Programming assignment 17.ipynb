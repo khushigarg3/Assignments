{
 "cells": [
  {
   "cell_type": "code",
   "execution_count": 1,
   "id": "4ac0d530",
   "metadata": {},
   "outputs": [],
   "source": [
    "# Q1"
   ]
  },
  {
   "cell_type": "code",
   "execution_count": 4,
   "id": "d1d9ff88",
   "metadata": {},
   "outputs": [
    {
     "name": "stdout",
     "output_type": "stream",
     "text": [
      "18\n",
      "0\n",
      "30\n"
     ]
    }
   ],
   "source": [
    "def evenly_divisible(a,b,c):\n",
    "    sum = 0\n",
    "    for i in range(a, b + 1):\n",
    "        if (i % c == 0):\n",
    "            sum += i\n",
    "    return sum\n",
    "\n",
    "if __name__==\"__main__\":\n",
    "    a = 1\n",
    "    b = 10\n",
    "    c = 3\n",
    "    print(evenly_divisible(a, b, c))\n",
    "    \n",
    "    \n",
    "    a = 1\n",
    "    b = 10\n",
    "    c = 20\n",
    "    print(evenly_divisible(a, b, c))\n",
    "    \n",
    "    a = 1\n",
    "    b = 10\n",
    "    c = 2\n",
    "    print(evenly_divisible(a, b, c))\n"
   ]
  },
  {
   "cell_type": "code",
   "execution_count": 5,
   "id": "2e37625d",
   "metadata": {},
   "outputs": [],
   "source": [
    "# Q2"
   ]
  },
  {
   "cell_type": "code",
   "execution_count": 7,
   "id": "c3617359",
   "metadata": {},
   "outputs": [
    {
     "name": "stdout",
     "output_type": "stream",
     "text": [
      "True\n",
      "False\n",
      "True\n"
     ]
    }
   ],
   "source": [
    "def correct_signs(s):\n",
    "    regex=eval(s)\n",
    "    if regex:\n",
    "        return True\n",
    "    else:\n",
    "        return False \n",
    "\n",
    "print(correct_signs(\"3 < 7 < 11\"))\n",
    "print(correct_signs(\"13 > 44 > 33 > 1\"))\n",
    "print(correct_signs(\"1 < 2 < 6 < 9 > 3\"))"
   ]
  },
  {
   "cell_type": "code",
   "execution_count": 8,
   "id": "b91bda8b",
   "metadata": {},
   "outputs": [],
   "source": [
    "# Q3"
   ]
  },
  {
   "cell_type": "code",
   "execution_count": 11,
   "id": "2a6ae9b0",
   "metadata": {},
   "outputs": [
    {
     "name": "stdout",
     "output_type": "stream",
     "text": [
      "After replacing vowels with the specified character: th# ##rdv#rk\n",
      "\n",
      "After replacing vowels with the specified character: m?nn?? m??s?\n",
      "\n",
      "After replacing vowels with the specified character: sh*k*sp**r*\n"
     ]
    }
   ],
   "source": [
    "def replace_vowels(s, k):\n",
    "    vowels = 'AEIOUaeiou'\n",
    "    for i in vowels:\n",
    "        s = s.replace(i, k)\n",
    "    return s\n",
    "\n",
    "input_str = \"the aardvark\"\n",
    "K = \"#\"\n",
    "print(\"After replacing vowels with the specified character:\",replace_vowels(input_str, K))\n",
    "\n",
    "input_str = \"minnie mouse\"\n",
    "K = \"?\"\n",
    "print(\"\\nAfter replacing vowels with the specified character:\",replace_vowels(input_str, K))\n",
    "\n",
    "input_str = \"shakespeare\"\n",
    "K = \"*\"\n",
    "print(\"\\nAfter replacing vowels with the specified character:\",replace_vowels(input_str, K))\n"
   ]
  },
  {
   "cell_type": "code",
   "execution_count": 12,
   "id": "0342c470",
   "metadata": {},
   "outputs": [],
   "source": [
    "# Q4"
   ]
  },
  {
   "cell_type": "code",
   "execution_count": 15,
   "id": "a3ef03e2",
   "metadata": {},
   "outputs": [
    {
     "name": "stdout",
     "output_type": "stream",
     "text": [
      "120\n"
     ]
    }
   ],
   "source": [
    "def factorial(n) :\n",
    "    if n == 1 :\n",
    "        return n\n",
    "    else :\n",
    "        return n*factorial(n-1)\n",
    "\n",
    "num = 5\n",
    "if num < 0 :\n",
    "    print(\"Sorry, factorial does not exist for negative numbers\")\n",
    "elif num == 0 :\n",
    "    print(\"The factorial of 0 is 1\")\n",
    "else :\n",
    "    print(factorial(num))\n"
   ]
  },
  {
   "cell_type": "code",
   "execution_count": 20,
   "id": "85f05974",
   "metadata": {},
   "outputs": [
    {
     "name": "stdout",
     "output_type": "stream",
     "text": [
      "6\n"
     ]
    }
   ],
   "source": [
    "num = 3\n",
    "if num < 0 :\n",
    "    print(\"Sorry, factorial does not exist for negative numbers\")\n",
    "elif num == 0 :\n",
    "    print(\"1\")\n",
    "else :\n",
    "    print(factorial(num))\n"
   ]
  },
  {
   "cell_type": "code",
   "execution_count": 21,
   "id": "b215d090",
   "metadata": {},
   "outputs": [
    {
     "name": "stdout",
     "output_type": "stream",
     "text": [
      "1\n"
     ]
    }
   ],
   "source": [
    "num = 1\n",
    "if num < 0 :\n",
    "    print(\"Sorry, factorial does not exist for negative numbers\")\n",
    "elif num == 0 :\n",
    "    print(\"1\")\n",
    "else :\n",
    "    print(factorial(num))\n"
   ]
  },
  {
   "cell_type": "code",
   "execution_count": 22,
   "id": "6a41e250",
   "metadata": {},
   "outputs": [
    {
     "name": "stdout",
     "output_type": "stream",
     "text": [
      "1\n"
     ]
    }
   ],
   "source": [
    "num = 0\n",
    "if num < 0 :\n",
    "    print(\"Sorry, factorial does not exist for negative numbers\")\n",
    "elif num == 0 :\n",
    "    print(\"1\")\n",
    "else :\n",
    "    print(factorial(num))\n"
   ]
  },
  {
   "cell_type": "code",
   "execution_count": 23,
   "id": "26c52ba1",
   "metadata": {},
   "outputs": [],
   "source": [
    "# Q5"
   ]
  },
  {
   "cell_type": "code",
   "execution_count": 24,
   "id": "7e006d53",
   "metadata": {},
   "outputs": [
    {
     "name": "stdout",
     "output_type": "stream",
     "text": [
      "5\n"
     ]
    }
   ],
   "source": [
    "def hamming_distance(str1, str2):\n",
    "    i = 0\n",
    "    count = 0\n",
    "    while(i < len(str1)):\n",
    "        if(str1[i] != str2[i]):\n",
    "            count += 1\n",
    "        i += 1\n",
    "    return count\n",
    "\n",
    "str1 = \"abcde\"\n",
    "str2 = \"bcdef\"\n",
    "print(hamming_distance(str1, str2))\n"
   ]
  },
  {
   "cell_type": "code",
   "execution_count": 25,
   "id": "245e5339",
   "metadata": {},
   "outputs": [
    {
     "name": "stdout",
     "output_type": "stream",
     "text": [
      "0\n"
     ]
    }
   ],
   "source": [
    "str1 = \"abcde\"\n",
    "str2 = \"abcde\"\n",
    "print(hamming_distance(str1, str2))\n"
   ]
  },
  {
   "cell_type": "code",
   "execution_count": 26,
   "id": "5dc53c93",
   "metadata": {},
   "outputs": [
    {
     "name": "stdout",
     "output_type": "stream",
     "text": [
      "1\n"
     ]
    }
   ],
   "source": [
    "str1 = \"strong\"\n",
    "str2 = \"strung\"\n",
    "print(hamming_distance(str1, str2))\n"
   ]
  },
  {
   "cell_type": "code",
   "execution_count": null,
   "id": "b6aa1368",
   "metadata": {},
   "outputs": [],
   "source": []
  }
 ],
 "metadata": {
  "kernelspec": {
   "display_name": "Python 3 (ipykernel)",
   "language": "python",
   "name": "python3"
  },
  "language_info": {
   "codemirror_mode": {
    "name": "ipython",
    "version": 3
   },
   "file_extension": ".py",
   "mimetype": "text/x-python",
   "name": "python",
   "nbconvert_exporter": "python",
   "pygments_lexer": "ipython3",
   "version": "3.9.12"
  }
 },
 "nbformat": 4,
 "nbformat_minor": 5
}
