{
 "cells": [
  {
   "cell_type": "code",
   "execution_count": 1,
   "id": "0e170da3",
   "metadata": {},
   "outputs": [],
   "source": [
    "# Q1"
   ]
  },
  {
   "cell_type": "code",
   "execution_count": 4,
   "id": "68211920",
   "metadata": {},
   "outputs": [
    {
     "data": {
      "text/plain": [
       "'A class describes the contents of the objects that belong to it: it describes an aggregate of data fields (called instance variables), and defines the operations (called methods). object: an object is an element (or instance) of a class; objects have the behaviors of their class.\\nONE TO MANY REALTIONSHIP'"
      ]
     },
     "execution_count": 4,
     "metadata": {},
     "output_type": "execute_result"
    }
   ],
   "source": [
    "\"\"\"A class describes the contents of the objects that belong to it: it describes an aggregate of data fields (called instance variables), and defines the operations (called methods). object: an object is an element (or instance) of a class; objects have the behaviors of their class.\n",
    "ONE TO MANY REALTIONSHIP\"\"\""
   ]
  },
  {
   "cell_type": "code",
   "execution_count": 3,
   "id": "89e00b4d",
   "metadata": {},
   "outputs": [],
   "source": [
    "# Q2"
   ]
  },
  {
   "cell_type": "code",
   "execution_count": 5,
   "id": "b369fb65",
   "metadata": {},
   "outputs": [
    {
     "data": {
      "text/plain": [
       "'Instance variables are owned by instances of the class. This means that for each object or instance of a class, the instance variables are different.\\n\\nUnlike class variables, instance variables are defined within methods.'"
      ]
     },
     "execution_count": 5,
     "metadata": {},
     "output_type": "execute_result"
    }
   ],
   "source": [
    "\"\"\"Instance variables are owned by instances of the class. This means that for each object or instance of a class, the instance variables are different.\n",
    "\n",
    "Unlike class variables, instance variables are defined within methods.\"\"\""
   ]
  },
  {
   "cell_type": "code",
   "execution_count": 6,
   "id": "ad0eb531",
   "metadata": {},
   "outputs": [],
   "source": [
    "# Q3"
   ]
  },
  {
   "cell_type": "code",
   "execution_count": 7,
   "id": "4dfc6a16",
   "metadata": {},
   "outputs": [],
   "source": [
    "# A class is a code template for creating objects. Objects have member variables and have behaviour associated with them. In python a class is created by the keyword class ."
   ]
  },
  {
   "cell_type": "code",
   "execution_count": 8,
   "id": "215465d6",
   "metadata": {},
   "outputs": [],
   "source": [
    "# Q4"
   ]
  },
  {
   "cell_type": "code",
   "execution_count": 9,
   "id": "8ead50c3",
   "metadata": {},
   "outputs": [
    {
     "data": {
      "text/plain": [
       "'A method is a piece of code that is called by a name that is associated with an object. In most respects it is identical to a function except for two key differences:\\n\\nA method is implicitly passed the object on which it was called.\\nA method is able to operate on data that is contained within the class (remembering that an object is an instance of a class - the class is the definition, the object is an instance of that data).'"
      ]
     },
     "execution_count": 9,
     "metadata": {},
     "output_type": "execute_result"
    }
   ],
   "source": [
    "\"\"\"A method is a piece of code that is called by a name that is associated with an object. In most respects it is identical to a function except for two key differences:\n",
    "\n",
    "A method is implicitly passed the object on which it was called.\n",
    "A method is able to operate on data that is contained within the class (remembering that an object is an instance of a class - the class is the definition, the object is an instance of that data).\"\"\""
   ]
  },
  {
   "cell_type": "code",
   "execution_count": 10,
   "id": "8b3722cd",
   "metadata": {},
   "outputs": [],
   "source": [
    "# Q5"
   ]
  },
  {
   "cell_type": "code",
   "execution_count": 1,
   "id": "730f9e75",
   "metadata": {},
   "outputs": [
    {
     "data": {
      "text/plain": [
       "'In python inheritance, new class/es inherits from older class/es. The new class/es copy all functions and attributes of the older class into itself without rewriting the syntax in the new class/es.\\nThese new classes are also called derived classes, and old classes are called base classes.\\nBy using the super() function, you do not have to use the name of the parent element, it will automatically inherit the methods and properties from its parent.'"
      ]
     },
     "execution_count": 1,
     "metadata": {},
     "output_type": "execute_result"
    }
   ],
   "source": [
    "\"\"\"In python inheritance, new class/es inherits from older class/es. The new class/es copy all functions and attributes of the older class into itself without rewriting the syntax in the new class/es.\n",
    "These new classes are also called derived classes, and old classes are called base classes.\n",
    "By using the super() function, you do not have to use the name of the parent element, it will automatically inherit the methods and properties from its parent.\"\"\""
   ]
  },
  {
   "cell_type": "code",
   "execution_count": 2,
   "id": "6b5eb304",
   "metadata": {},
   "outputs": [],
   "source": [
    "# Q6"
   ]
  },
  {
   "cell_type": "code",
   "execution_count": 3,
   "id": "7f8ce22f",
   "metadata": {},
   "outputs": [
    {
     "data": {
      "text/plain": [
       "'Encapsulation in Python describes the concept of bundling data and methods within a single unit. So, for example, when you create a class, it means you are implementing encapsulation.\\nA class is an example of encapsulation as it binds all the data members (instance variables) and methods into a single unit.'"
      ]
     },
     "execution_count": 3,
     "metadata": {},
     "output_type": "execute_result"
    }
   ],
   "source": [
    "\"\"\"Encapsulation in Python describes the concept of bundling data and methods within a single unit. So, for example, when you create a class, it means you are implementing encapsulation.\n",
    "A class is an example of encapsulation as it binds all the data members (instance variables) and methods into a single unit.\"\"\""
   ]
  },
  {
   "cell_type": "code",
   "execution_count": 4,
   "id": "e1705cf9",
   "metadata": {},
   "outputs": [],
   "source": [
    "# Q7"
   ]
  },
  {
   "cell_type": "code",
   "execution_count": 5,
   "id": "e27c9a82",
   "metadata": {},
   "outputs": [
    {
     "data": {
      "text/plain": [
       "'Class variables are shared across all objects while instance variables are for data unique to each instance.\\nInstance variable overrides the Class variables having same name which can accidentally introduce bugs or surprising behaviour in our code.'"
      ]
     },
     "execution_count": 5,
     "metadata": {},
     "output_type": "execute_result"
    }
   ],
   "source": [
    "\"\"\"Class variables are shared across all objects while instance variables are for data unique to each instance.\n",
    "Instance variable overrides the Class variables having same name which can accidentally introduce bugs or surprising behaviour in our code.\"\"\""
   ]
  },
  {
   "cell_type": "code",
   "execution_count": 6,
   "id": "a5fa8ad6",
   "metadata": {},
   "outputs": [],
   "source": [
    "# Q9"
   ]
  },
  {
   "cell_type": "code",
   "execution_count": 7,
   "id": "fa23432d",
   "metadata": {},
   "outputs": [
    {
     "data": {
      "text/plain": [
       "\"The expression a+b is internally translated to the method call a.__add__(b). But if a and b are of different types, it is possible that a's implementation of addition cannot deal with objects of b's type (or maybe a does not have a __add__ method, at all).\\nSo, if a.__add__(b) fails, Python tries b.__radd__(a) instead, to see if b's implementation can deal with objects of a's type.\""
      ]
     },
     "execution_count": 7,
     "metadata": {},
     "output_type": "execute_result"
    }
   ],
   "source": [
    "\"\"\"The expression a+b is internally translated to the method call a.__add__(b). But if a and b are of different types, it is possible that a's implementation of addition cannot deal with objects of b's type (or maybe a does not have a __add__ method, at all).\n",
    "So, if a.__add__(b) fails, Python tries b.__radd__(a) instead, to see if b's implementation can deal with objects of a's type.\"\"\""
   ]
  },
  {
   "cell_type": "code",
   "execution_count": 8,
   "id": "45273741",
   "metadata": {},
   "outputs": [],
   "source": [
    "# Q10"
   ]
  },
  {
   "cell_type": "code",
   "execution_count": 9,
   "id": "4ab752d3",
   "metadata": {},
   "outputs": [
    {
     "data": {
      "text/plain": [
       "'Using reflection, we can write one recursive reverse function that will work for strings, lists, and any other sequence that supports slicing and concatenation.\\nIf an obj is a reference to a string, then Python will return the str type object.'"
      ]
     },
     "execution_count": 9,
     "metadata": {},
     "output_type": "execute_result"
    }
   ],
   "source": [
    "\"\"\"Using reflection, we can write one recursive reverse function that will work for strings, lists, and any other sequence that supports slicing and concatenation.\n",
    "If an obj is a reference to a string, then Python will return the str type object.\"\"\""
   ]
  },
  {
   "cell_type": "code",
   "execution_count": 10,
   "id": "104635d0",
   "metadata": {},
   "outputs": [],
   "source": [
    "# Q11"
   ]
  },
  {
   "cell_type": "code",
   "execution_count": 11,
   "id": "7f752fd5",
   "metadata": {},
   "outputs": [
    {
     "data": {
      "text/plain": [
       "'The Python __iadd__() magic method implements in-place addition x += y that adds together the operands and assigns the result to the left operand.\\nThis operation is also called augmented arithmetic assignment.'"
      ]
     },
     "execution_count": 11,
     "metadata": {},
     "output_type": "execute_result"
    }
   ],
   "source": [
    "\"\"\"The Python __iadd__() magic method implements in-place addition x += y that adds together the operands and assigns the result to the left operand.\n",
    "This operation is also called augmented arithmetic assignment.\"\"\""
   ]
  },
  {
   "cell_type": "code",
   "execution_count": null,
   "id": "61edc5f0",
   "metadata": {},
   "outputs": [],
   "source": []
  }
 ],
 "metadata": {
  "kernelspec": {
   "display_name": "Python 3 (ipykernel)",
   "language": "python",
   "name": "python3"
  },
  "language_info": {
   "codemirror_mode": {
    "name": "ipython",
    "version": 3
   },
   "file_extension": ".py",
   "mimetype": "text/x-python",
   "name": "python",
   "nbconvert_exporter": "python",
   "pygments_lexer": "ipython3",
   "version": "3.9.12"
  }
 },
 "nbformat": 4,
 "nbformat_minor": 5
}
