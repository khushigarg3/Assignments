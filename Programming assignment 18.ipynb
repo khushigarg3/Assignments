{
 "cells": [
  {
   "cell_type": "code",
   "execution_count": 1,
   "id": "663ce14e",
   "metadata": {},
   "outputs": [],
   "source": [
    "# Q1"
   ]
  },
  {
   "cell_type": "code",
   "execution_count": 3,
   "id": "19d71141",
   "metadata": {},
   "outputs": [
    {
     "name": "stdout",
     "output_type": "stream",
     "text": [
      "[1, 2]\n"
     ]
    }
   ],
   "source": [
    "def filter_list(l):\n",
    "    new_list = []\n",
    "    for x in l:\n",
    "        if type(x) == int:\n",
    "            new_list.append(x)\n",
    "    return new_list\n",
    "\n",
    "l = [1,2,\"a\",\"b\"]\n",
    "print(filter_list(l))"
   ]
  },
  {
   "cell_type": "code",
   "execution_count": 4,
   "id": "5e05212c",
   "metadata": {},
   "outputs": [
    {
     "name": "stdout",
     "output_type": "stream",
     "text": [
      "[1, 0, 15]\n"
     ]
    }
   ],
   "source": [
    "l = [1,\"a\",\"b\",0,15]\n",
    "print(filter_list(l))"
   ]
  },
  {
   "cell_type": "code",
   "execution_count": 5,
   "id": "6d6a6723",
   "metadata": {},
   "outputs": [
    {
     "name": "stdout",
     "output_type": "stream",
     "text": [
      "[1, 2, 123]\n"
     ]
    }
   ],
   "source": [
    "l = [1,2,\"aasf\",\"1\",\"123\",123]\n",
    "print(filter_list(l))"
   ]
  },
  {
   "cell_type": "code",
   "execution_count": 6,
   "id": "618329ea",
   "metadata": {},
   "outputs": [],
   "source": [
    "# Q2"
   ]
  },
  {
   "cell_type": "code",
   "execution_count": 9,
   "id": "b7e5508c",
   "metadata": {},
   "outputs": [
    {
     "name": "stdout",
     "output_type": "stream",
     "text": [
      "The reverse string is dlroW olleH\n",
      "\n",
      "The reverse string is EsReVeR\n",
      "\n",
      "The reverse string is radaR\n"
     ]
    }
   ],
   "source": [
    "def reverse(str):  \n",
    "    str1 = \"\"   \n",
    "    for i in str:  \n",
    "        str1 = i + str1  \n",
    "    return str1      \n",
    "     \n",
    "str = \"Hello World\"            \n",
    "print(\"The reverse string is\",reverse(str)) \n",
    "\n",
    "str = \"ReVeRsE\"            \n",
    "print(\"\\nThe reverse string is\",reverse(str)) \n",
    "\n",
    "str = \"Radar\"            \n",
    "print(\"\\nThe reverse string is\",reverse(str)) "
   ]
  },
  {
   "cell_type": "code",
   "execution_count": 10,
   "id": "9834a9fa",
   "metadata": {},
   "outputs": [],
   "source": [
    "# Q4"
   ]
  },
  {
   "cell_type": "code",
   "execution_count": 12,
   "id": "aacc77da",
   "metadata": {},
   "outputs": [
    {
     "name": "stdout",
     "output_type": "stream",
     "text": [
      "120\n"
     ]
    }
   ],
   "source": [
    "def factorial(n):\n",
    "    if n == 1:\n",
    "        return n\n",
    "    else:\n",
    "        return n*factorial(n-1)\n",
    "\n",
    "num = 5\n",
    "if num < 0:\n",
    "    print(\"Sorry, factorial does not exist for negative numbers\")\n",
    "elif num == 0:\n",
    "    print(\"1\")\n",
    "else:\n",
    "    print(factorial(num))\n"
   ]
  },
  {
   "cell_type": "code",
   "execution_count": 13,
   "id": "a40eccf0",
   "metadata": {},
   "outputs": [
    {
     "name": "stdout",
     "output_type": "stream",
     "text": [
      "1\n"
     ]
    }
   ],
   "source": [
    "num = 1\n",
    "if num < 0:\n",
    "    print(\"Sorry, factorial does not exist for negative numbers\")\n",
    "elif num == 0:\n",
    "    print(\"1\")\n",
    "else:\n",
    "    print(factorial(num))\n"
   ]
  },
  {
   "cell_type": "code",
   "execution_count": 14,
   "id": "d6258fa2",
   "metadata": {},
   "outputs": [
    {
     "name": "stdout",
     "output_type": "stream",
     "text": [
      "1\n"
     ]
    }
   ],
   "source": [
    "num = 0\n",
    "if num < 0:\n",
    "    print(\"Sorry, factorial does not exist for negative numbers\")\n",
    "elif num == 0:\n",
    "    print(\"1\")\n",
    "else:\n",
    "    print(factorial(num))\n"
   ]
  },
  {
   "cell_type": "code",
   "execution_count": 15,
   "id": "ae301b6c",
   "metadata": {},
   "outputs": [],
   "source": [
    "# Q5"
   ]
  },
  {
   "cell_type": "code",
   "execution_count": 27,
   "id": "a6292e50",
   "metadata": {},
   "outputs": [],
   "source": [
    "def move_to_end(list,k) :\n",
    "    x = len(list)\n",
    "    for i in list :\n",
    "        if i == k :\n",
    "            list.remove(i)\n",
    "            list.insert(x,i)\n",
    "    return list"
   ]
  },
  {
   "cell_type": "code",
   "execution_count": 29,
   "id": "b807dbe3",
   "metadata": {},
   "outputs": [
    {
     "name": "stdout",
     "output_type": "stream",
     "text": [
      "[3, 2, 4, 4, 1, 1]\n"
     ]
    }
   ],
   "source": [
    "l = [1,3,2,4,4,1]\n",
    "k = 1\n",
    "print(move_to_end(l,k))"
   ]
  },
  {
   "cell_type": "code",
   "execution_count": 30,
   "id": "c3ef5df3",
   "metadata": {},
   "outputs": [
    {
     "name": "stdout",
     "output_type": "stream",
     "text": [
      "[7, 8, 1, 2, 3, 4, 9]\n"
     ]
    }
   ],
   "source": [
    "l = [7,8,9,1,2,3,4]\n",
    "k = 9\n",
    "print(move_to_end(l,k))"
   ]
  },
  {
   "cell_type": "code",
   "execution_count": 31,
   "id": "431fae8e",
   "metadata": {},
   "outputs": [
    {
     "name": "stdout",
     "output_type": "stream",
     "text": [
      "['b', 'a', 'a', 'a']\n"
     ]
    }
   ],
   "source": [
    "l = [\"a\",\"a\",\"a\",\"b\"]\n",
    "k = \"a\"\n",
    "print(move_to_end(l,k))"
   ]
  },
  {
   "cell_type": "code",
   "execution_count": null,
   "id": "d0030bd7",
   "metadata": {},
   "outputs": [],
   "source": []
  }
 ],
 "metadata": {
  "kernelspec": {
   "display_name": "Python 3 (ipykernel)",
   "language": "python",
   "name": "python3"
  },
  "language_info": {
   "codemirror_mode": {
    "name": "ipython",
    "version": 3
   },
   "file_extension": ".py",
   "mimetype": "text/x-python",
   "name": "python",
   "nbconvert_exporter": "python",
   "pygments_lexer": "ipython3",
   "version": "3.9.12"
  }
 },
 "nbformat": 4,
 "nbformat_minor": 5
}
