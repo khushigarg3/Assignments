{
 "cells": [
  {
   "cell_type": "code",
   "execution_count": 1,
   "id": "5e81d850",
   "metadata": {},
   "outputs": [],
   "source": [
    "# Q1"
   ]
  },
  {
   "cell_type": "code",
   "execution_count": 2,
   "id": "d2f1d81a",
   "metadata": {},
   "outputs": [
    {
     "data": {
      "text/plain": [
       "'A Python module is a file containing Python definitions and statements. A module can define functions, classes, and variables.\\nA module can also include runnable code. Grouping related code into a module makes the code easier to understand and use.\\nIt also makes the code logically organized.'"
      ]
     },
     "execution_count": 2,
     "metadata": {},
     "output_type": "execute_result"
    }
   ],
   "source": [
    "\"\"\"A Python module is a file containing Python definitions and statements. A module can define functions, classes, and variables.\n",
    "A module can also include runnable code. Grouping related code into a module makes the code easier to understand and use.\n",
    "It also makes the code logically organized.\"\"\""
   ]
  },
  {
   "cell_type": "code",
   "execution_count": 3,
   "id": "193a1db0",
   "metadata": {},
   "outputs": [],
   "source": [
    "# Q2"
   ]
  },
  {
   "cell_type": "code",
   "execution_count": 4,
   "id": "4c73a563",
   "metadata": {},
   "outputs": [
    {
     "data": {
      "text/plain": [
       "'Classes provide a means of bundling data and functionality together. Creating a new class creates a new type of object, allowing new instances of that type to be made.\\nEach class instance can have attributes attached to it for maintaining its state.\\nClass instances can also have methods (defined by its class) for modifying its state.'"
      ]
     },
     "execution_count": 4,
     "metadata": {},
     "output_type": "execute_result"
    }
   ],
   "source": [
    "\"\"\"Classes provide a means of bundling data and functionality together. Creating a new class creates a new type of object, allowing new instances of that type to be made.\n",
    "Each class instance can have attributes attached to it for maintaining its state.\n",
    "Class instances can also have methods (defined by its class) for modifying its state.\"\"\""
   ]
  },
  {
   "cell_type": "code",
   "execution_count": 5,
   "id": "988149ce",
   "metadata": {},
   "outputs": [],
   "source": [
    "# Q3"
   ]
  },
  {
   "cell_type": "code",
   "execution_count": 6,
   "id": "452134b4",
   "metadata": {},
   "outputs": [
    {
     "data": {
      "text/plain": [
       "'A class attribute is shared by all instances of the class. To define a class attribute, you place it outside of the __init__() method.\\nUse class_name.class_attribute or object_name.class_attribute to access the value of the class_attribute.\\nUse class attributes for storing class contants, track data across all instances, and setting default values for all instances of the class.'"
      ]
     },
     "execution_count": 6,
     "metadata": {},
     "output_type": "execute_result"
    }
   ],
   "source": [
    "\"\"\"A class attribute is shared by all instances of the class. To define a class attribute, you place it outside of the __init__() method.\n",
    "Use class_name.class_attribute or object_name.class_attribute to access the value of the class_attribute.\n",
    "Use class attributes for storing class contants, track data across all instances, and setting default values for all instances of the class.\"\"\"\n"
   ]
  },
  {
   "cell_type": "code",
   "execution_count": 7,
   "id": "3748947e",
   "metadata": {},
   "outputs": [],
   "source": [
    "# Q4"
   ]
  },
  {
   "cell_type": "code",
   "execution_count": 8,
   "id": "4493b241",
   "metadata": {},
   "outputs": [
    {
     "data": {
      "text/plain": [
       "'An instance attribute is a Python variable belonging to only one object. It is only accessible in the scope of the object and it is defined inside the constructor function of a class.\\nFor example, __init__(self,..).'"
      ]
     },
     "execution_count": 8,
     "metadata": {},
     "output_type": "execute_result"
    }
   ],
   "source": [
    "\"\"\"An instance attribute is a Python variable belonging to only one object. It is only accessible in the scope of the object and it is defined inside the constructor function of a class.\n",
    "For example, __init__(self,..).\"\"\""
   ]
  },
  {
   "cell_type": "code",
   "execution_count": 9,
   "id": "4b0958dd",
   "metadata": {},
   "outputs": [],
   "source": [
    "# Q5"
   ]
  },
  {
   "cell_type": "code",
   "execution_count": 10,
   "id": "a81c5003",
   "metadata": {},
   "outputs": [
    {
     "data": {
      "text/plain": [
       "'self represents the instance of the class. By using the “self”  we can access the attributes and methods of the class in python.\\nIt binds the attributes with the given arguments.\\nThe reason you need to use self. is because Python does not use the @ syntax to refer to instance attributes.'"
      ]
     },
     "execution_count": 10,
     "metadata": {},
     "output_type": "execute_result"
    }
   ],
   "source": [
    "\"\"\"self represents the instance of the class. By using the “self”  we can access the attributes and methods of the class in python.\n",
    "It binds the attributes with the given arguments.\n",
    "The reason you need to use self. is because Python does not use the @ syntax to refer to instance attributes.\"\"\""
   ]
  },
  {
   "cell_type": "code",
   "execution_count": 11,
   "id": "eb89aab9",
   "metadata": {},
   "outputs": [],
   "source": [
    "# Q6"
   ]
  },
  {
   "cell_type": "code",
   "execution_count": 13,
   "id": "8766fea4",
   "metadata": {},
   "outputs": [
    {
     "data": {
      "text/plain": [
       "'The overloading in Python means provide extended meaning beyond their predefined operational meaning,\\nSuch as, we use the \"+\" operator for adding two integers as well as joining two strings or merging two lists.\\nWe can achieve this as the \"+\" operator is overloaded by the \"int\" class and \"str\" class.\\nThe user can notice that the same inbuilt operator or function is showing different behaviour for objects of different classes. This process is known as operator overloading.'"
      ]
     },
     "execution_count": 13,
     "metadata": {},
     "output_type": "execute_result"
    }
   ],
   "source": [
    "\"\"\"The overloading in Python means provide extended meaning beyond their predefined operational meaning,\n",
    "Such as, we use the \"+\" operator for adding two integers as well as joining two strings or merging two lists.\n",
    "We can achieve this as the \"+\" operator is overloaded by the \"int\" class and \"str\" class.\n",
    "The user can notice that the same inbuilt operator or function is showing different behaviour for objects of different classes. This process is known as operator overloading.\"\"\""
   ]
  },
  {
   "cell_type": "code",
   "execution_count": 14,
   "id": "1d377ece",
   "metadata": {},
   "outputs": [],
   "source": [
    "# Q7"
   ]
  },
  {
   "cell_type": "code",
   "execution_count": 15,
   "id": "6ec0ba3f",
   "metadata": {},
   "outputs": [],
   "source": [
    "# Operators in Python work for built-in classes, like int, str, list, etc. But you can extend their operability such that they work on objects of user-defined classes too."
   ]
  },
  {
   "cell_type": "code",
   "execution_count": 16,
   "id": "94cc53aa",
   "metadata": {},
   "outputs": [],
   "source": [
    "# Q8"
   ]
  },
  {
   "cell_type": "code",
   "execution_count": 17,
   "id": "b4389ebe",
   "metadata": {},
   "outputs": [
    {
     "data": {
      "text/plain": [
       "'A very popular and convenient example is the Addition (+) operator.\\n\\nJust think how the ‘+’ operator operates on two numbers and the same operator operates on two strings. It performs “Addition” on numbers whereas it performs “Concatenation” on strings.'"
      ]
     },
     "execution_count": 17,
     "metadata": {},
     "output_type": "execute_result"
    }
   ],
   "source": [
    "\"\"\"A very popular and convenient example is the Addition (+) operator.\n",
    "\n",
    "Just think how the ‘+’ operator operates on two numbers and the same operator operates on two strings. It performs “Addition” on numbers whereas it performs “Concatenation” on strings.\"\"\""
   ]
  },
  {
   "cell_type": "code",
   "execution_count": null,
   "id": "6eac269f",
   "metadata": {},
   "outputs": [],
   "source": []
  }
 ],
 "metadata": {
  "kernelspec": {
   "display_name": "Python 3 (ipykernel)",
   "language": "python",
   "name": "python3"
  },
  "language_info": {
   "codemirror_mode": {
    "name": "ipython",
    "version": 3
   },
   "file_extension": ".py",
   "mimetype": "text/x-python",
   "name": "python",
   "nbconvert_exporter": "python",
   "pygments_lexer": "ipython3",
   "version": "3.9.12"
  }
 },
 "nbformat": 4,
 "nbformat_minor": 5
}
